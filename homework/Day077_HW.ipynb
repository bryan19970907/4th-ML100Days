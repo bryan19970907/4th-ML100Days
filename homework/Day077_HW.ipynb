{
  "nbformat": 4,
  "nbformat_minor": 0,
  "metadata": {
    "kernelspec": {
      "display_name": "Python 3",
      "language": "python",
      "name": "python3"
    },
    "language_info": {
      "codemirror_mode": {
        "name": "ipython",
        "version": 3
      },
      "file_extension": ".py",
      "mimetype": "text/x-python",
      "name": "python",
      "nbconvert_exporter": "python",
      "pygments_lexer": "ipython3",
      "version": "3.6.5"
    },
    "colab": {
      "name": "Day077_HW.ipynb",
      "provenance": []
    },
    "accelerator": "GPU"
  },
  "cells": [
    {
      "cell_type": "markdown",
      "metadata": {
        "id": "zdR8WC3wKroT",
        "colab_type": "text"
      },
      "source": [
        "## Work\n",
        "1. 請將 Epoch 加到 500 個，並觀察 learning curve 的走勢\n",
        "2. 請將 Optimizer 換成 SGD，並觀察 learning curve 的走勢"
      ]
    },
    {
      "cell_type": "code",
      "metadata": {
        "id": "g6qImthKKroU",
        "colab_type": "code",
        "colab": {
          "base_uri": "https://localhost:8080/",
          "height": 34
        },
        "outputId": "959db590-91dc-4e7a-c0c2-c778291b9953"
      },
      "source": [
        "import os\n",
        "import keras\n",
        "\n",
        "# 本作業可以不需使用 GPU, 將 GPU 設定為 \"無\" (若有 GPU 且想開啟，可設為 \"0\")\n",
        "# os.environ[\"CUDA_VISIBLE_DEVICES\"] = \"\""
      ],
      "execution_count": 1,
      "outputs": [
        {
          "output_type": "stream",
          "text": [
            "Using TensorFlow backend.\n"
          ],
          "name": "stderr"
        }
      ]
    },
    {
      "cell_type": "code",
      "metadata": {
        "id": "1CGzzG7_Krof",
        "colab_type": "code",
        "colab": {
          "base_uri": "https://localhost:8080/",
          "height": 51
        },
        "outputId": "74dd62c7-5193-497c-fa80-cd994cc6cc49"
      },
      "source": [
        "# 從 Keras 的內建功能中，取得 train 與 test 資料集\n",
        "train, test = keras.datasets.cifar10.load_data()"
      ],
      "execution_count": 2,
      "outputs": [
        {
          "output_type": "stream",
          "text": [
            "Downloading data from https://www.cs.toronto.edu/~kriz/cifar-10-python.tar.gz\n",
            "170500096/170498071 [==============================] - 6s 0us/step\n"
          ],
          "name": "stdout"
        }
      ]
    },
    {
      "cell_type": "code",
      "metadata": {
        "id": "YDDHkqrJKroq",
        "colab_type": "code",
        "colab": {
          "base_uri": "https://localhost:8080/",
          "height": 34
        },
        "outputId": "630f011c-b538-4581-a282-15361194d82a"
      },
      "source": [
        "# 將 X 與 Y 獨立放進變數\n",
        "x_train, y_train = train\n",
        "x_test, y_test = test\n",
        "# 資料前處理 - 標準化\n",
        "x_train = x_train.astype('float32') / 255.\n",
        "x_test = x_test.astype('float32') / 255.\n",
        "\n",
        "print(x_train.shape)\n",
        "\n",
        "# 將資料從圖形 (RGB) 轉為向量 (Single Vector)\n",
        "x_train = x_train.reshape((len(x_train), -1))\n",
        "x_test = x_test.reshape((len(x_test), -1))\n",
        "\n",
        "# 將目標轉為 one-hot encoding\n",
        "y_train = keras.utils.to_categorical(y_train, num_classes=10)\n",
        "y_test = keras.utils.to_categorical(y_test, num_classes=10)"
      ],
      "execution_count": 3,
      "outputs": [
        {
          "output_type": "stream",
          "text": [
            "(50000, 32, 32, 3)\n"
          ],
          "name": "stdout"
        }
      ]
    },
    {
      "cell_type": "code",
      "metadata": {
        "id": "TLFNcai9xCpk",
        "colab_type": "code",
        "colab": {
          "base_uri": "https://localhost:8080/",
          "height": 34
        },
        "outputId": "a35b2d5a-3cfd-4fe1-f6c6-7ca31b5753a1"
      },
      "source": [
        "print(x_train.shape)"
      ],
      "execution_count": 4,
      "outputs": [
        {
          "output_type": "stream",
          "text": [
            "(50000, 3072)\n"
          ],
          "name": "stdout"
        }
      ]
    },
    {
      "cell_type": "code",
      "metadata": {
        "id": "wBK2CfNIKrow",
        "colab_type": "code",
        "colab": {}
      },
      "source": [
        "def build_mlp():\n",
        "    \"\"\"Code Here\n",
        "    建立你的神經網路\n",
        "    \"\"\"\n",
        "    #inputs = keras.layers.Input(shape = (x_train.shape[-1] , ))\n",
        "    inputs = keras.layers.Input([x_train.shape[-1]])\n",
        "    x = keras.layers.Dense(units = 256 , activation = 'relu')(inputs)\n",
        "    x = keras.layers.Dense(units = 256 , activation = 'relu')(x)\n",
        "    x = keras.layers.Dense(units = 256 , activation = 'relu')(x)\n",
        "    x = keras.layers.Dense(units = 256 , activation = 'relu')(x)\n",
        "    out = keras.layers.Dense(units = 10 , activation = 'softmax')(x)\n",
        "    model = keras.models.Model(inputs = [inputs] , outputs = [out])\n",
        "    return model\n",
        "\n",
        "model = build_mlp()"
      ],
      "execution_count": 15,
      "outputs": []
    },
    {
      "cell_type": "code",
      "metadata": {
        "id": "KLQYDpdpKroz",
        "colab_type": "code",
        "colab": {}
      },
      "source": [
        "\"\"\"\n",
        "Compile 模型\n",
        "\"\"\"\n",
        "opt = keras.optimizers.Adam(lr = 0.001)\n",
        "model.compile(loss = 'categorical_crossentropy' , optimizer = opt , metrics = ['acc'])"
      ],
      "execution_count": 16,
      "outputs": []
    },
    {
      "cell_type": "code",
      "metadata": {
        "scrolled": true,
        "id": "AuDD0DuZKro4",
        "colab_type": "code",
        "colab": {
          "base_uri": "https://localhost:8080/",
          "height": 733
        },
        "outputId": "6e3615ca-02f2-4f53-98ea-5d440c71e3a3"
      },
      "source": [
        "\"\"\"\n",
        "設定要訓練的 Epoch 數\n",
        "\"\"\"\n",
        "model.fit(x = x_train , y = y_train, \n",
        "          epochs= 20, \n",
        "          batch_size=256, \n",
        "          validation_data=(x_test, y_test), \n",
        "          shuffle=True)"
      ],
      "execution_count": 17,
      "outputs": [
        {
          "output_type": "stream",
          "text": [
            "Train on 50000 samples, validate on 10000 samples\n",
            "Epoch 1/20\n",
            "50000/50000 [==============================] - 1s 22us/step - loss: 1.9046 - acc: 0.3027 - val_loss: 1.7490 - val_acc: 0.3600\n",
            "Epoch 2/20\n",
            "50000/50000 [==============================] - 1s 20us/step - loss: 1.6969 - acc: 0.3907 - val_loss: 1.6393 - val_acc: 0.4206\n",
            "Epoch 3/20\n",
            "50000/50000 [==============================] - 1s 20us/step - loss: 1.6087 - acc: 0.4241 - val_loss: 1.5726 - val_acc: 0.4422\n",
            "Epoch 4/20\n",
            "50000/50000 [==============================] - 1s 20us/step - loss: 1.5354 - acc: 0.4494 - val_loss: 1.5504 - val_acc: 0.4514\n",
            "Epoch 5/20\n",
            "50000/50000 [==============================] - 1s 19us/step - loss: 1.4843 - acc: 0.4690 - val_loss: 1.5607 - val_acc: 0.4421\n",
            "Epoch 6/20\n",
            "50000/50000 [==============================] - 1s 19us/step - loss: 1.4478 - acc: 0.4817 - val_loss: 1.4749 - val_acc: 0.4766\n",
            "Epoch 7/20\n",
            "50000/50000 [==============================] - 1s 20us/step - loss: 1.4133 - acc: 0.4929 - val_loss: 1.4593 - val_acc: 0.4800\n",
            "Epoch 8/20\n",
            "50000/50000 [==============================] - 1s 19us/step - loss: 1.3768 - acc: 0.5077 - val_loss: 1.4206 - val_acc: 0.4963\n",
            "Epoch 9/20\n",
            "50000/50000 [==============================] - 1s 20us/step - loss: 1.3395 - acc: 0.5212 - val_loss: 1.4197 - val_acc: 0.5039\n",
            "Epoch 10/20\n",
            "50000/50000 [==============================] - 1s 19us/step - loss: 1.3224 - acc: 0.5262 - val_loss: 1.4244 - val_acc: 0.4907\n",
            "Epoch 11/20\n",
            "50000/50000 [==============================] - 1s 20us/step - loss: 1.2898 - acc: 0.5395 - val_loss: 1.4066 - val_acc: 0.5002\n",
            "Epoch 12/20\n",
            "50000/50000 [==============================] - 1s 20us/step - loss: 1.2653 - acc: 0.5467 - val_loss: 1.3839 - val_acc: 0.5113\n",
            "Epoch 13/20\n",
            "50000/50000 [==============================] - 1s 20us/step - loss: 1.2378 - acc: 0.5567 - val_loss: 1.4173 - val_acc: 0.4986\n",
            "Epoch 14/20\n",
            "50000/50000 [==============================] - 1s 20us/step - loss: 1.2106 - acc: 0.5664 - val_loss: 1.3989 - val_acc: 0.5121\n",
            "Epoch 15/20\n",
            "50000/50000 [==============================] - 1s 20us/step - loss: 1.1736 - acc: 0.5793 - val_loss: 1.4089 - val_acc: 0.5054\n",
            "Epoch 16/20\n",
            "50000/50000 [==============================] - 1s 20us/step - loss: 1.1474 - acc: 0.5873 - val_loss: 1.4139 - val_acc: 0.5074\n",
            "Epoch 17/20\n",
            "50000/50000 [==============================] - 1s 19us/step - loss: 1.1233 - acc: 0.5964 - val_loss: 1.4112 - val_acc: 0.5154\n",
            "Epoch 18/20\n",
            "50000/50000 [==============================] - 1s 20us/step - loss: 1.0979 - acc: 0.6047 - val_loss: 1.4074 - val_acc: 0.5075\n",
            "Epoch 19/20\n",
            "50000/50000 [==============================] - 1s 20us/step - loss: 1.0658 - acc: 0.6179 - val_loss: 1.4291 - val_acc: 0.5095\n",
            "Epoch 20/20\n",
            "50000/50000 [==============================] - 1s 20us/step - loss: 1.0390 - acc: 0.6270 - val_loss: 1.4872 - val_acc: 0.5033\n"
          ],
          "name": "stdout"
        },
        {
          "output_type": "execute_result",
          "data": {
            "text/plain": [
              "<keras.callbacks.callbacks.History at 0x7f8c0a664e48>"
            ]
          },
          "metadata": {
            "tags": []
          },
          "execution_count": 17
        }
      ]
    },
    {
      "cell_type": "code",
      "metadata": {
        "id": "7s_-UoJzKro7",
        "colab_type": "code",
        "colab": {
          "base_uri": "https://localhost:8080/",
          "height": 545
        },
        "outputId": "f182c56a-479c-46e9-bf42-4f84879eb4cb"
      },
      "source": [
        "import matplotlib.pyplot as plt\n",
        "# 以視覺畫方式檢視訓練過程\n",
        "\n",
        "train_loss = model.history.history[\"loss\"]\n",
        "valid_loss = model.history.history[\"val_loss\"]\n",
        "\n",
        "train_acc = model.history.history[\"acc\"]\n",
        "valid_acc = model.history.history[\"val_acc\"]\n",
        "\n",
        "plt.plot(range(len(train_loss)), train_loss, label=\"train loss\")\n",
        "plt.plot(range(len(valid_loss)), valid_loss, label=\"valid loss\")\n",
        "plt.legend()\n",
        "plt.title(\"Loss\")\n",
        "plt.show()\n",
        "\n",
        "plt.plot(range(len(train_acc)), train_acc, label=\"train accuracy\")\n",
        "plt.plot(range(len(valid_acc)), valid_acc, label=\"valid accuracy\")\n",
        "plt.legend()\n",
        "plt.title(\"Accuracy\")\n",
        "plt.show()"
      ],
      "execution_count": 18,
      "outputs": [
        {
          "output_type": "display_data",
          "data": {
            "image/png": "[encoded data removed]",
            "text/plain": [
              "<Figure size 432x288 with 1 Axes>"
            ]
          },
          "metadata": {
            "tags": [],
            "needs_background": "light"
          }
        },
        {
          "output_type": "display_data",
          "data": {
            "image/png": "[encoded data removed]",
            "text/plain": [
              "<Figure size 432x288 with 1 Axes>"
            ]
          },
          "metadata": {
            "tags": [],
            "needs_background": "light"
          }
        }
      ]
    }
  ]
}