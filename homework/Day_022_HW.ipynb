{
  "nbformat": 4,
  "nbformat_minor": 0,
  "metadata": {
    "kernelspec": {
      "display_name": "Python 3",
      "language": "python",
      "name": "python3"
    },
    "language_info": {
      "codemirror_mode": {
        "name": "ipython",
        "version": 3
      },
      "file_extension": ".py",
      "mimetype": "text/x-python",
      "name": "python",
      "nbconvert_exporter": "python",
      "pygments_lexer": "ipython3",
      "version": "3.6.1"
    },
    "colab": {
      "name": "Day_022_HW.ipynb",
      "provenance": [],
      "collapsed_sections": []
    }
  },
  "cells": [
    {
      "cell_type": "markdown",
      "metadata": {
        "id": "Ee8v88Lpg84e",
        "colab_type": "text"
      },
      "source": [
        "# 作業 : (Kaggle)鐵達尼生存預測精簡版 \n",
        "https://www.kaggle.com/c/titanic"
      ]
    },
    {
      "cell_type": "markdown",
      "metadata": {
        "id": "-k8HFeiSg84k",
        "colab_type": "text"
      },
      "source": [
        "# [作業目標]\n",
        "- 試著不依賴說明, 只依照下列程式碼回答下列問題, 初步理解什麼是\"特徵工程\"的區塊"
      ]
    },
    {
      "cell_type": "markdown",
      "metadata": {
        "id": "g_F8oXdrg84n",
        "colab_type": "text"
      },
      "source": [
        "# [作業重點]\n",
        "- 試著不依賴註解, 以之前所學, 回答下列問題"
      ]
    },
    {
      "cell_type": "markdown",
      "metadata": {
        "collapsed": true,
        "id": "MV6-90cng84r",
        "colab_type": "text"
      },
      "source": [
        "# 作業1\n",
        "* 下列A~E五個程式區塊中，哪一塊是特徵工程?\n",
        "\n",
        "# 作業2\n",
        "* 對照程式區塊 B 與 C 的結果，請問那些欄位屬於\"類別型欄位\"? (回答欄位英文名稱即可) \n",
        "\n",
        "# 作業3\n",
        "* 續上題，請問哪個欄位是\"目標值\"?"
      ]
    },
    {
      "cell_type": "code",
      "metadata": {
        "id": "xpT5ehAhCsOy",
        "colab_type": "code",
        "colab": {
          "base_uri": "https://localhost:8080/",
          "height": 120
        },
        "outputId": "1aed0ae1-e47c-45d0-80f7-c32f6b2e6a12"
      },
      "source": [
        "from google.colab import drive\n",
        "drive.mount('/content/drive')"
      ],
      "execution_count": 1,
      "outputs": [
        {
          "output_type": "stream",
          "text": [
            "Go to this URL in a browser: https://accounts.google.com/o/oauth2/auth?client_id=947318989803-6bn6qk8qdgf4n4g3pfee6491hc0brc4i.apps.googleusercontent.com&redirect_uri=urn%3aietf%3awg%3aoauth%3a2.0%3aoob&response_type=code&scope=email%20https%3a%2f%2fwww.googleapis.com%2fauth%2fdocs.test%20https%3a%2f%2fwww.googleapis.com%2fauth%2fdrive%20https%3a%2f%2fwww.googleapis.com%2fauth%2fdrive.photos.readonly%20https%3a%2f%2fwww.googleapis.com%2fauth%2fpeopleapi.readonly\n",
            "\n",
            "Enter your authorization code:\n",
            "··········\n",
            "Mounted at /content/drive\n"
          ],
          "name": "stdout"
        }
      ]
    },
    {
      "cell_type": "code",
      "metadata": {
        "id": "lT1twxfVg84v",
        "colab_type": "code",
        "colab": {
          "base_uri": "https://localhost:8080/",
          "height": 33
        },
        "outputId": "b6c098da-45a2-4106-9edb-4f9b0efb9d71"
      },
      "source": [
        "# 程式區塊 A\n",
        "import pandas as pd\n",
        "import numpy as np\n",
        "from sklearn.preprocessing import LabelEncoder, MinMaxScaler\n",
        "\n",
        "data_path = './drive/My Drive/ML_100/day12/'\n",
        "df_train = pd.read_csv(data_path + 'titanic_train.csv')\n",
        "df_test = pd.read_csv(data_path + 'titanic_test.csv')\n",
        "df_train.shape"
      ],
      "execution_count": 18,
      "outputs": [
        {
          "output_type": "execute_result",
          "data": {
            "text/plain": [
              "(891, 12)"
            ]
          },
          "metadata": {
            "tags": []
          },
          "execution_count": 18
        }
      ]
    },
    {
      "cell_type": "code",
      "metadata": {
        "id": "JV6vuHTng846",
        "colab_type": "code",
        "colab": {
          "base_uri": "https://localhost:8080/",
          "height": 33
        },
        "outputId": "92fd0d4f-a009-4b43-926a-b14d1e3c6ba9"
      },
      "source": [
        "# 程式區塊 B\n",
        "train_Y = df_train['Survived']\n",
        "ids = df_test['PassengerId']\n",
        "df_train = df_train.drop(['PassengerId', 'Survived'] , axis=1)\n",
        "df_test = df_test.drop(['PassengerId'] , axis=1)\n",
        "df = pd.concat([df_train,df_test])\n",
        "df.head()\n",
        "print(df['SibSp'].dtype)"
      ],
      "execution_count": 19,
      "outputs": [
        {
          "output_type": "stream",
          "text": [
            "int64\n"
          ],
          "name": "stdout"
        }
      ]
    },
    {
      "cell_type": "code",
      "metadata": {
        "id": "DUOL_632g84-",
        "colab_type": "code",
        "colab": {
          "base_uri": "https://localhost:8080/",
          "height": 280
        },
        "outputId": "fc26ecbf-771a-4b1c-bd10-687ceedcafda"
      },
      "source": [
        "# 程式區塊 C\n",
        "LEncoder = LabelEncoder()\n",
        "MMEncoder = MinMaxScaler()\n",
        "for c in df.columns:\n",
        "    df[c] = df[c].fillna(-1)\n",
        "    if df[c].dtype == 'object':\n",
        "        print(c)\n",
        "        df[c] = LEncoder.fit_transform(list(df[c].values))\n",
        "    df[c] = MMEncoder.fit_transform(df[c].values.reshape(-1, 1))\n",
        "df.head()"
      ],
      "execution_count": 20,
      "outputs": [
        {
          "output_type": "stream",
          "text": [
            "Name\n",
            "Sex\n",
            "Ticket\n",
            "Cabin\n",
            "Embarked\n"
          ],
          "name": "stdout"
        },
        {
          "output_type": "execute_result",
          "data": {
            "text/html": [
              "<div>\n",
              "<style scoped>\n",
              "    .dataframe tbody tr th:only-of-type {\n",
              "        vertical-align: middle;\n",
              "    }\n",
              "\n",
              "    .dataframe tbody tr th {\n",
              "        vertical-align: top;\n",
              "    }\n",
              "\n",
              "    .dataframe thead th {\n",
              "        text-align: right;\n",
              "    }\n",
              "</style>\n",
              "<table border=\"1\" class=\"dataframe\">\n",
              "  <thead>\n",
              "    <tr style=\"text-align: right;\">\n",
              "      <th></th>\n",
              "      <th>Pclass</th>\n",
              "      <th>Name</th>\n",
              "      <th>Sex</th>\n",
              "      <th>Age</th>\n",
              "      <th>SibSp</th>\n",
              "      <th>Parch</th>\n",
              "      <th>Ticket</th>\n",
              "      <th>Fare</th>\n",
              "      <th>Cabin</th>\n",
              "      <th>Embarked</th>\n",
              "    </tr>\n",
              "  </thead>\n",
              "  <tbody>\n",
              "    <tr>\n",
              "      <th>0</th>\n",
              "      <td>1.0</td>\n",
              "      <td>0.118683</td>\n",
              "      <td>1.0</td>\n",
              "      <td>0.283951</td>\n",
              "      <td>0.125</td>\n",
              "      <td>0.0</td>\n",
              "      <td>0.775862</td>\n",
              "      <td>0.016072</td>\n",
              "      <td>0.000000</td>\n",
              "      <td>1.000000</td>\n",
              "    </tr>\n",
              "    <tr>\n",
              "      <th>1</th>\n",
              "      <td>0.0</td>\n",
              "      <td>0.218989</td>\n",
              "      <td>0.0</td>\n",
              "      <td>0.481481</td>\n",
              "      <td>0.125</td>\n",
              "      <td>0.0</td>\n",
              "      <td>0.879310</td>\n",
              "      <td>0.140813</td>\n",
              "      <td>0.575269</td>\n",
              "      <td>0.333333</td>\n",
              "    </tr>\n",
              "    <tr>\n",
              "      <th>2</th>\n",
              "      <td>1.0</td>\n",
              "      <td>0.400459</td>\n",
              "      <td>0.0</td>\n",
              "      <td>0.333333</td>\n",
              "      <td>0.000</td>\n",
              "      <td>0.0</td>\n",
              "      <td>0.984914</td>\n",
              "      <td>0.017387</td>\n",
              "      <td>0.000000</td>\n",
              "      <td>1.000000</td>\n",
              "    </tr>\n",
              "    <tr>\n",
              "      <th>3</th>\n",
              "      <td>0.0</td>\n",
              "      <td>0.323124</td>\n",
              "      <td>0.0</td>\n",
              "      <td>0.444444</td>\n",
              "      <td>0.125</td>\n",
              "      <td>0.0</td>\n",
              "      <td>0.070043</td>\n",
              "      <td>0.105390</td>\n",
              "      <td>0.381720</td>\n",
              "      <td>1.000000</td>\n",
              "    </tr>\n",
              "    <tr>\n",
              "      <th>4</th>\n",
              "      <td>1.0</td>\n",
              "      <td>0.016845</td>\n",
              "      <td>1.0</td>\n",
              "      <td>0.444444</td>\n",
              "      <td>0.000</td>\n",
              "      <td>0.0</td>\n",
              "      <td>0.699353</td>\n",
              "      <td>0.017630</td>\n",
              "      <td>0.000000</td>\n",
              "      <td>1.000000</td>\n",
              "    </tr>\n",
              "  </tbody>\n",
              "</table>\n",
              "</div>"
            ],
            "text/plain": [
              "   Pclass      Name  Sex       Age  ...    Ticket      Fare     Cabin  Embarked\n",
              "0     1.0  0.118683  1.0  0.283951  ...  0.775862  0.016072  0.000000  1.000000\n",
              "1     0.0  0.218989  0.0  0.481481  ...  0.879310  0.140813  0.575269  0.333333\n",
              "2     1.0  0.400459  0.0  0.333333  ...  0.984914  0.017387  0.000000  1.000000\n",
              "3     0.0  0.323124  0.0  0.444444  ...  0.070043  0.105390  0.381720  1.000000\n",
              "4     1.0  0.016845  1.0  0.444444  ...  0.699353  0.017630  0.000000  1.000000\n",
              "\n",
              "[5 rows x 10 columns]"
            ]
          },
          "metadata": {
            "tags": []
          },
          "execution_count": 20
        }
      ]
    },
    {
      "cell_type": "code",
      "metadata": {
        "id": "1ayAG_SCg85D",
        "colab_type": "code",
        "colab": {}
      },
      "source": [
        "# 程式區塊 D\n",
        "train_num = train_Y.shape[0]\n",
        "train_X = df[:train_num]\n",
        "test_X = df[train_num:]\n",
        "\n",
        "from sklearn.linear_model import LogisticRegression\n",
        "estimator = LogisticRegression()\n",
        "estimator.fit(train_X, train_Y)\n",
        "pred = estimator.predict(test_X)"
      ],
      "execution_count": 0,
      "outputs": []
    },
    {
      "cell_type": "code",
      "metadata": {
        "id": "pfcu-qj_g85H",
        "colab_type": "code",
        "colab": {}
      },
      "source": [
        "# 程式區塊 E\n",
        "sub = pd.DataFrame({'PassengerId': ids, 'Survived': pred})\n",
        "sub.to_csv('titanic_baseline.csv', index=False) "
      ],
      "execution_count": 0,
      "outputs": []
    },
    {
      "cell_type": "markdown",
      "metadata": {
        "id": "OUQQFuvyEFL7",
        "colab_type": "text"
      },
      "source": [
        "1.程式區塊C為特徵方程\n",
        "\n",
        "2.欄位'name' , 'sex' , 'Ticket' , 'Cabin' , 'Embarked'\n",
        "\n",
        "3.目標值為'survived'"
      ]
    },
    {
      "cell_type": "code",
      "metadata": {
        "id": "HDqsA173EEJe",
        "colab_type": "code",
        "colab": {}
      },
      "source": [
        ""
      ],
      "execution_count": 0,
      "outputs": []
    }
  ]
}