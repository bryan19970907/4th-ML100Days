{
  "nbformat": 4,
  "nbformat_minor": 0,
  "metadata": {
    "kernelspec": {
      "display_name": "Python 3",
      "language": "python",
      "name": "python3"
    },
    "language_info": {
      "codemirror_mode": {
        "name": "ipython",
        "version": 3
      },
      "file_extension": ".py",
      "mimetype": "text/x-python",
      "name": "python",
      "nbconvert_exporter": "python",
      "pygments_lexer": "ipython3",
      "version": "3.6.5"
    },
    "colab": {
      "name": "Day083_HW.ipynb",
      "provenance": []
    },
    "accelerator": "GPU"
  },
  "cells": [
    {
      "cell_type": "markdown",
      "metadata": {
        "id": "N0jX9QWoXsjp",
        "colab_type": "text"
      },
      "source": [
        "## Work\n",
        "1. 試比較有 BN 在 Batch_size = 2, 16, 32, 128, 256 下的差異\n",
        "2. 請嘗試將 BN 放在 Activation 之前，並比較訓練結果\n",
        "3. 請於 BN 放在 Input Layer 後，並比較結果"
      ]
    },
    {
      "cell_type": "code",
      "metadata": {
        "id": "NacVBdndXsjr",
        "colab_type": "code",
        "colab": {
          "base_uri": "https://localhost:8080/",
          "height": 34
        },
        "outputId": "7055c247-4090-4406-dc24-3c46e2f3b25a"
      },
      "source": [
        "import os\n",
        "import keras\n",
        "import itertools\n",
        "# Disable GPU\n",
        "# os.environ[\"CUDA_VISIBLE_DEVICES\"] = \"\""
      ],
      "execution_count": 1,
      "outputs": [
        {
          "output_type": "stream",
          "text": [
            "Using TensorFlow backend.\n"
          ],
          "name": "stderr"
        }
      ]
    },
    {
      "cell_type": "code",
      "metadata": {
        "id": "fF18emAJXsju",
        "colab_type": "code",
        "colab": {}
      },
      "source": [
        "train, test = keras.datasets.cifar10.load_data()"
      ],
      "execution_count": 2,
      "outputs": []
    },
    {
      "cell_type": "code",
      "metadata": {
        "id": "KJSZnIdAXsjx",
        "colab_type": "code",
        "colab": {}
      },
      "source": [
        "## 資料前處理\n",
        "def preproc_x(x, flatten=True):\n",
        "    x = x / 255.\n",
        "    if flatten:\n",
        "        x = x.reshape((len(x), -1))\n",
        "    return x\n",
        "\n",
        "def preproc_y(y, num_classes=10):\n",
        "    if y.shape[-1] == 1:\n",
        "        y = keras.utils.to_categorical(y, num_classes)\n",
        "    return y    "
      ],
      "execution_count": 3,
      "outputs": []
    },
    {
      "cell_type": "code",
      "metadata": {
        "id": "sV1-eQltXsj0",
        "colab_type": "code",
        "colab": {}
      },
      "source": [
        "x_train, y_train = train\n",
        "x_test, y_test = test\n",
        "\n",
        "# Preproc the inputs\n",
        "x_train = preproc_x(x_train)\n",
        "x_test = preproc_x(x_test)\n",
        "\n",
        "# Preprc the outputs\n",
        "y_train = preproc_y(y_train)\n",
        "y_test = preproc_y(y_test)"
      ],
      "execution_count": 4,
      "outputs": []
    },
    {
      "cell_type": "code",
      "metadata": {
        "id": "RS9EEd1bXsj2",
        "colab_type": "code",
        "colab": {}
      },
      "source": [
        "\n",
        "def build_mlp(input_shape , output_neurons = 10 , neurons = [256 , 256 , 256 , 128]):\n",
        "    \"\"\"Code Here\n",
        "    建立你的神經網路\n",
        "    \"\"\"\n",
        "    inputs = keras.layers.Input(shape = input_shape)\n",
        "\n",
        "    for i , neuron in enumerate(neurons):\n",
        "      if i ==0:\n",
        "        x = keras.layers.Dense(units = neuron , activation = 'relu')(inputs)\n",
        "        x = keras.layers.BatchNormalization()(x)\n",
        "      else:\n",
        "        x = keras.layers.Dense(units = neuron , activation = 'relu')(x)\n",
        "        x = keras.layers.BatchNormalization()(x)\n",
        "    outputs = keras.layers.Dense(units = output_neurons , activation = 'softmax')(x)\n",
        "\n",
        "    model = keras.models.Model(inputs = [inputs] , outputs = [outputs])\n",
        "    return model"
      ],
      "execution_count": 5,
      "outputs": []
    },
    {
      "cell_type": "code",
      "metadata": {
        "id": "HaPgeC55Xsj5",
        "colab_type": "code",
        "colab": {}
      },
      "source": [
        "\"\"\"Code Here\n",
        "設定超參數\n",
        "\"\"\"\n",
        "batches = [128 , 256]\n",
        "epoch = 20"
      ],
      "execution_count": 6,
      "outputs": []
    },
    {
      "cell_type": "code",
      "metadata": {
        "scrolled": true,
        "id": "F9yEaa1PXsj7",
        "colab_type": "code",
        "colab": {
          "base_uri": "https://localhost:8080/",
          "height": 1000
        },
        "outputId": "d4d6030d-8e4b-4442-e216-887ba8ff98be"
      },
      "source": [
        "results = {}\n",
        "\"\"\"Code Here\n",
        "撰寫你的訓練流程並將結果用 dictionary 紀錄\n",
        "\"\"\"\n",
        "for batch in batches:\n",
        "  keras.backend.clear_session()\n",
        "  model = build_mlp(x_train.shape[1:])\n",
        "  model.compile(loss = 'categorical_crossentropy' , optimizer = 'adam' , metrics = ['acc'])\n",
        "  model.fit(x_train , y_train , epochs = epoch , batch_size = batch , validation_data = (x_test , y_test) , shuffle = True)\n",
        "\n",
        "  # Collect results\n",
        "  train_loss = model.history.history[\"loss\"]\n",
        "  valid_loss = model.history.history[\"val_loss\"]\n",
        "  train_acc = model.history.history[\"acc\"]\n",
        "  valid_acc = model.history.history[\"val_acc\"]\n",
        "  \n",
        "  exp_name_tag = \"exp-batch-%s\" % str(batch)\n",
        "  results[exp_name_tag] = {'train-loss': train_loss,\n",
        "                           'valid-loss': valid_loss,\n",
        "                           'train-acc': train_acc,\n",
        "                           'valid-acc': valid_acc}\n"
      ],
      "execution_count": 7,
      "outputs": [
        {
          "output_type": "stream",
          "text": [
            "Train on 50000 samples, validate on 10000 samples\n",
            "Epoch 1/20\n",
            "50000/50000 [==============================] - 6s 111us/step - loss: 1.7062 - acc: 0.3932 - val_loss: 1.8322 - val_acc: 0.3590\n",
            "Epoch 2/20\n",
            "50000/50000 [==============================] - 4s 87us/step - loss: 1.4712 - acc: 0.4746 - val_loss: 1.8629 - val_acc: 0.3584\n",
            "Epoch 3/20\n",
            "50000/50000 [==============================] - 5s 92us/step - loss: 1.3701 - acc: 0.5103 - val_loss: 1.6762 - val_acc: 0.4087\n",
            "Epoch 4/20\n",
            "50000/50000 [==============================] - 5s 95us/step - loss: 1.3128 - acc: 0.5327 - val_loss: 1.5758 - val_acc: 0.4396\n",
            "Epoch 5/20\n",
            "50000/50000 [==============================] - 5s 104us/step - loss: 1.2447 - acc: 0.5564 - val_loss: 1.6470 - val_acc: 0.4293\n",
            "Epoch 6/20\n",
            "50000/50000 [==============================] - 5s 94us/step - loss: 1.1980 - acc: 0.5742 - val_loss: 1.5473 - val_acc: 0.4490\n",
            "Epoch 7/20\n",
            "50000/50000 [==============================] - 5s 91us/step - loss: 1.1466 - acc: 0.5932 - val_loss: 1.4817 - val_acc: 0.4794\n",
            "Epoch 8/20\n",
            "50000/50000 [==============================] - 5s 91us/step - loss: 1.0972 - acc: 0.6088 - val_loss: 1.4778 - val_acc: 0.4978\n",
            "Epoch 9/20\n",
            "50000/50000 [==============================] - 5s 91us/step - loss: 1.0517 - acc: 0.6233 - val_loss: 1.5332 - val_acc: 0.4670\n",
            "Epoch 10/20\n",
            "50000/50000 [==============================] - 5s 91us/step - loss: 1.0115 - acc: 0.6397 - val_loss: 1.5269 - val_acc: 0.4834\n",
            "Epoch 11/20\n",
            "50000/50000 [==============================] - 4s 89us/step - loss: 0.9688 - acc: 0.6525 - val_loss: 1.5760 - val_acc: 0.4700\n",
            "Epoch 12/20\n",
            "50000/50000 [==============================] - 5s 94us/step - loss: 0.9402 - acc: 0.6643 - val_loss: 1.5335 - val_acc: 0.4768\n",
            "Epoch 13/20\n",
            "50000/50000 [==============================] - 5s 94us/step - loss: 0.8952 - acc: 0.6807 - val_loss: 1.6549 - val_acc: 0.4643\n",
            "Epoch 14/20\n",
            "50000/50000 [==============================] - 5s 94us/step - loss: 0.8589 - acc: 0.6927 - val_loss: 1.5535 - val_acc: 0.5028\n",
            "Epoch 15/20\n",
            "50000/50000 [==============================] - 5s 90us/step - loss: 0.8218 - acc: 0.7070 - val_loss: 1.7155 - val_acc: 0.4624\n",
            "Epoch 16/20\n",
            "50000/50000 [==============================] - 5s 92us/step - loss: 0.7856 - acc: 0.7193 - val_loss: 1.7101 - val_acc: 0.4692\n",
            "Epoch 17/20\n",
            "50000/50000 [==============================] - 4s 89us/step - loss: 0.7449 - acc: 0.7334 - val_loss: 1.7319 - val_acc: 0.4928\n",
            "Epoch 18/20\n",
            "50000/50000 [==============================] - 4s 87us/step - loss: 0.7110 - acc: 0.7466 - val_loss: 1.7151 - val_acc: 0.4789\n",
            "Epoch 19/20\n",
            "50000/50000 [==============================] - 4s 88us/step - loss: 0.6865 - acc: 0.7531 - val_loss: 1.7858 - val_acc: 0.4662\n",
            "Epoch 20/20\n",
            "50000/50000 [==============================] - 4s 86us/step - loss: 0.6509 - acc: 0.7676 - val_loss: 1.7583 - val_acc: 0.5044\n",
            "Train on 50000 samples, validate on 10000 samples\n",
            "Epoch 1/20\n",
            "50000/50000 [==============================] - 3s 60us/step - loss: 1.7081 - acc: 0.3952 - val_loss: 1.9562 - val_acc: 0.3232\n",
            "Epoch 2/20\n",
            "50000/50000 [==============================] - 3s 52us/step - loss: 1.4661 - acc: 0.4774 - val_loss: 1.7181 - val_acc: 0.3864\n",
            "Epoch 3/20\n",
            "50000/50000 [==============================] - 3s 51us/step - loss: 1.3652 - acc: 0.5136 - val_loss: 1.9321 - val_acc: 0.3514\n",
            "Epoch 4/20\n",
            "50000/50000 [==============================] - 3s 51us/step - loss: 1.2895 - acc: 0.5419 - val_loss: 1.7217 - val_acc: 0.3930\n",
            "Epoch 5/20\n",
            "50000/50000 [==============================] - 3s 52us/step - loss: 1.2216 - acc: 0.5676 - val_loss: 1.7096 - val_acc: 0.4196\n",
            "Epoch 6/20\n",
            "50000/50000 [==============================] - 3s 57us/step - loss: 1.1623 - acc: 0.5844 - val_loss: 1.5844 - val_acc: 0.4571\n",
            "Epoch 7/20\n",
            "50000/50000 [==============================] - 3s 53us/step - loss: 1.1076 - acc: 0.6054 - val_loss: 1.8078 - val_acc: 0.4024\n",
            "Epoch 8/20\n",
            "50000/50000 [==============================] - 3s 51us/step - loss: 1.0630 - acc: 0.6210 - val_loss: 1.6461 - val_acc: 0.4393\n",
            "Epoch 9/20\n",
            "50000/50000 [==============================] - 2s 50us/step - loss: 1.0142 - acc: 0.6384 - val_loss: 1.5762 - val_acc: 0.4668\n",
            "Epoch 10/20\n",
            "50000/50000 [==============================] - 3s 51us/step - loss: 0.9710 - acc: 0.6535 - val_loss: 1.6162 - val_acc: 0.4632\n",
            "Epoch 11/20\n",
            "50000/50000 [==============================] - 3s 51us/step - loss: 0.9241 - acc: 0.6697 - val_loss: 1.7365 - val_acc: 0.4582\n",
            "Epoch 12/20\n",
            "50000/50000 [==============================] - 3s 53us/step - loss: 0.8816 - acc: 0.6866 - val_loss: 1.6232 - val_acc: 0.4729\n",
            "Epoch 13/20\n",
            "50000/50000 [==============================] - 3s 51us/step - loss: 0.8351 - acc: 0.7026 - val_loss: 1.6575 - val_acc: 0.4685\n",
            "Epoch 14/20\n",
            "50000/50000 [==============================] - 2s 48us/step - loss: 0.7933 - acc: 0.7179 - val_loss: 1.9095 - val_acc: 0.4408\n",
            "Epoch 15/20\n",
            "50000/50000 [==============================] - 3s 55us/step - loss: 0.7467 - acc: 0.7346 - val_loss: 1.7454 - val_acc: 0.4609\n",
            "Epoch 16/20\n",
            "50000/50000 [==============================] - 2s 48us/step - loss: 0.7039 - acc: 0.7510 - val_loss: 1.9107 - val_acc: 0.4657\n",
            "Epoch 17/20\n",
            "50000/50000 [==============================] - 2s 49us/step - loss: 0.6713 - acc: 0.7605 - val_loss: 1.6984 - val_acc: 0.4978\n",
            "Epoch 18/20\n",
            "50000/50000 [==============================] - 2s 49us/step - loss: 0.6252 - acc: 0.7778 - val_loss: 1.8365 - val_acc: 0.4794\n",
            "Epoch 19/20\n",
            "50000/50000 [==============================] - 3s 55us/step - loss: 0.5951 - acc: 0.7901 - val_loss: 1.7840 - val_acc: 0.4945\n",
            "Epoch 20/20\n",
            "50000/50000 [==============================] - 2s 49us/step - loss: 0.5604 - acc: 0.8018 - val_loss: 1.8766 - val_acc: 0.4811\n"
          ],
          "name": "stdout"
        }
      ]
    },
    {
      "cell_type": "code",
      "metadata": {
        "id": "dacC2sT7Xsj_",
        "colab_type": "code",
        "colab": {
          "base_uri": "https://localhost:8080/",
          "height": 545
        },
        "outputId": "b4549fc6-c10d-4730-f146-3b11107f88cb"
      },
      "source": [
        "import matplotlib.pyplot as plt\n",
        "%matplotlib inline\n",
        "\"\"\"Code Here\n",
        "將結果繪出\n",
        "\"\"\"\n",
        "\n",
        "import matplotlib.pyplot as plt\n",
        "%matplotlib inline\n",
        "\n",
        "plt.plot(range(len(train_loss)), train_loss, label=\"train loss\")\n",
        "plt.plot(range(len(valid_loss)), valid_loss, label=\"valid loss\")\n",
        "plt.legend()\n",
        "plt.title(\"Loss\")\n",
        "plt.show()\n",
        "\n",
        "plt.plot(range(len(train_acc)), train_acc, label=\"train accuracy\")\n",
        "plt.plot(range(len(valid_acc)), valid_acc, label=\"valid accuracy\")\n",
        "plt.legend()\n",
        "plt.title(\"Accuracy\")\n",
        "plt.show()"
      ],
      "execution_count": 8,
      "outputs": [
        {
          "output_type": "display_data",
          "data": {
            "image/png": "[encoded data removed]",
            "text/plain": [
              "<Figure size 432x288 with 1 Axes>"
            ]
          },
          "metadata": {
            "tags": [],
            "needs_background": "light"
          }
        },
        {
          "output_type": "display_data",
          "data": {
            "image/png": "[encoded data removed]",
            "text/plain": [
              "<Figure size 432x288 with 1 Axes>"
            ]
          },
          "metadata": {
            "tags": [],
            "needs_background": "light"
          }
        }
      ]
    }
  ]
}