{
  "nbformat": 4,
  "nbformat_minor": 0,
  "metadata": {
    "kernelspec": {
      "display_name": "Python 3",
      "language": "python",
      "name": "python3"
    },
    "language_info": {
      "codemirror_mode": {
        "name": "ipython",
        "version": 3
      },
      "file_extension": ".py",
      "mimetype": "text/x-python",
      "name": "python",
      "nbconvert_exporter": "python",
      "pygments_lexer": "ipython3",
      "version": "3.6.2"
    },
    "colab": {
      "name": "Day_044_HW.ipynb",
      "provenance": []
    }
  },
  "cells": [
    {
      "cell_type": "markdown",
      "metadata": {
        "id": "A9ms2Ekbvep1",
        "colab_type": "text"
      },
      "source": [
        "## [作業重點]\n",
        "確保你了解隨機森林模型中每個超參數的意義，並觀察調整超參數對結果的影響"
      ]
    },
    {
      "cell_type": "markdown",
      "metadata": {
        "id": "Y3OEpoU0vep2",
        "colab_type": "text"
      },
      "source": [
        "## 作業\n",
        "\n",
        "1. 試著調整 RandomForestClassifier(...) 中的參數，並觀察是否會改變結果？\n",
        "2. 改用其他資料集 (boston, wine)，並與回歸模型與決策樹的結果進行比較"
      ]
    },
    {
      "cell_type": "code",
      "metadata": {
        "id": "AdWP_ZUvvep2",
        "colab_type": "code",
        "colab": {}
      },
      "source": [
        "from sklearn import datasets , metrics\n",
        "from sklearn.ensemble import RandomForestClassifier , RandomForestRegressor\n",
        "from sklearn.model_selection import train_test_split "
      ],
      "execution_count": 0,
      "outputs": []
    },
    {
      "cell_type": "code",
      "metadata": {
        "id": "FLq1X5fewk5o",
        "colab_type": "code",
        "colab": {}
      },
      "source": [
        "iris_data = datasets.load_iris()\n",
        "\n",
        "x_train , x_test , y_train , y_test = train_test_split(iris_data.data , iris_data.target , test_size = 0.25 , random_state = 4)\n",
        "\n",
        "clf = RandomForestClassifier(n_estimators = 15 , max_depth = 7 , min_samples_split = 2 , min_samples_leaf =1)\n",
        "clf.fit(x_train , y_train)\n",
        "\n",
        "y_pred = clf.predict(x_test)"
      ],
      "execution_count": 0,
      "outputs": []
    },
    {
      "cell_type": "code",
      "metadata": {
        "id": "tA0_Wc0ext2E",
        "colab_type": "code",
        "outputId": "03f70ff7-5119-4efd-ad20-d8bde960940f",
        "colab": {
          "base_uri": "https://localhost:8080/",
          "height": 33
        }
      },
      "source": [
        "acc = metrics.accuracy_score(y_test , y_pred)\n",
        "print('acc : ' , acc)"
      ],
      "execution_count": 0,
      "outputs": [
        {
          "output_type": "stream",
          "text": [
            "acc :  0.9736842105263158\n"
          ],
          "name": "stdout"
        }
      ]
    },
    {
      "cell_type": "code",
      "metadata": {
        "id": "dITiDoHyx4Ze",
        "colab_type": "code",
        "colab": {}
      },
      "source": [
        "boston_data = datasets.load_boston()\n",
        "\n",
        "x_train , x_test , y_train , y_test = train_test_split(boston_data.data , boston_data.target , test_size = 0.25 , random_state = 4)\n",
        "\n",
        "reg = RandomForestRegressor(n_estimators = 15 , max_depth = 7 , min_samples_split = 2 , min_samples_leaf =1)\n",
        "reg.fit(x_train , y_train)\n",
        "\n",
        "y_pred = reg.predict(x_test)"
      ],
      "execution_count": 0,
      "outputs": []
    },
    {
      "cell_type": "code",
      "metadata": {
        "id": "IJwGuHFCzJdP",
        "colab_type": "code",
        "outputId": "d9ca9169-d3cb-4573-9963-b7ba87011881",
        "colab": {
          "base_uri": "https://localhost:8080/",
          "height": 33
        }
      },
      "source": [
        "mse = metrics.mean_squared_error(y_test , y_pred)\n",
        "print('mse :' , mse)"
      ],
      "execution_count": 7,
      "outputs": [
        {
          "output_type": "stream",
          "text": [
            "mse : 16.4892831353602\n"
          ],
          "name": "stdout"
        }
      ]
    }
  ]
}