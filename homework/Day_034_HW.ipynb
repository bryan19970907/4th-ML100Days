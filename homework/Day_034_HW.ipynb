{
  "nbformat": 4,
  "nbformat_minor": 0,
  "metadata": {
    "kernelspec": {
      "display_name": "Python 3",
      "language": "python",
      "name": "python3"
    },
    "language_info": {
      "codemirror_mode": {
        "name": "ipython",
        "version": 3
      },
      "file_extension": ".py",
      "mimetype": "text/x-python",
      "name": "python",
      "nbconvert_exporter": "python",
      "pygments_lexer": "ipython3",
      "version": "3.6.3"
    },
    "colab": {
      "name": "Day_034_HW.ipynb",
      "provenance": []
    }
  },
  "cells": [
    {
      "cell_type": "markdown",
      "metadata": {
        "id": "pVeUB4sdabxJ",
        "colab_type": "text"
      },
      "source": [
        "## 練習時間\n",
        "假設我們資料中類別的數量並不均衡，在評估準確率時可能會有所偏頗，試著切分出 y_test 中，0 類別與 1 類別的數量是一樣的 (亦即 y_test 的類別是均衡的)"
      ]
    },
    {
      "cell_type": "code",
      "metadata": {
        "id": "ZEuhYgo6abxK",
        "colab_type": "code",
        "colab": {}
      },
      "source": [
        "import numpy as np\n",
        "X = np.arange(1000).reshape(200, 5)\n",
        "y = np.zeros(200)\n",
        "y[:40] = 1"
      ],
      "execution_count": 0,
      "outputs": []
    },
    {
      "cell_type": "code",
      "metadata": {
        "id": "e_tkKYTuabxR",
        "colab_type": "code",
        "colab": {
          "base_uri": "https://localhost:8080/",
          "height": 217
        },
        "outputId": "bec20c07-db52-4ecc-ef5c-33474a618e9e"
      },
      "source": [
        "y"
      ],
      "execution_count": 2,
      "outputs": [
        {
          "output_type": "execute_result",
          "data": {
            "text/plain": [
              "array([1., 1., 1., 1., 1., 1., 1., 1., 1., 1., 1., 1., 1., 1., 1., 1., 1.,\n",
              "       1., 1., 1., 1., 1., 1., 1., 1., 1., 1., 1., 1., 1., 1., 1., 1., 1.,\n",
              "       1., 1., 1., 1., 1., 1., 0., 0., 0., 0., 0., 0., 0., 0., 0., 0., 0.,\n",
              "       0., 0., 0., 0., 0., 0., 0., 0., 0., 0., 0., 0., 0., 0., 0., 0., 0.,\n",
              "       0., 0., 0., 0., 0., 0., 0., 0., 0., 0., 0., 0., 0., 0., 0., 0., 0.,\n",
              "       0., 0., 0., 0., 0., 0., 0., 0., 0., 0., 0., 0., 0., 0., 0., 0., 0.,\n",
              "       0., 0., 0., 0., 0., 0., 0., 0., 0., 0., 0., 0., 0., 0., 0., 0., 0.,\n",
              "       0., 0., 0., 0., 0., 0., 0., 0., 0., 0., 0., 0., 0., 0., 0., 0., 0.,\n",
              "       0., 0., 0., 0., 0., 0., 0., 0., 0., 0., 0., 0., 0., 0., 0., 0., 0.,\n",
              "       0., 0., 0., 0., 0., 0., 0., 0., 0., 0., 0., 0., 0., 0., 0., 0., 0.,\n",
              "       0., 0., 0., 0., 0., 0., 0., 0., 0., 0., 0., 0., 0., 0., 0., 0., 0.,\n",
              "       0., 0., 0., 0., 0., 0., 0., 0., 0., 0., 0., 0., 0.])"
            ]
          },
          "metadata": {
            "tags": []
          },
          "execution_count": 2
        }
      ]
    },
    {
      "cell_type": "markdown",
      "metadata": {
        "id": "cnFutOuvabxY",
        "colab_type": "text"
      },
      "source": [
        "可以看見 y 類別中，有 160 個 類別 0，40 個 類別 1 ，請試著使用 train_test_split 函數，切分出 y_test 中能各有 10 筆類別 0 與 10 筆類別 1 。(HINT: 參考函數中的 test_size，可針對不同類別各自作切分後再合併)"
      ]
    },
    {
      "cell_type": "code",
      "metadata": {
        "id": "hsvBPGF_abxZ",
        "colab_type": "code",
        "colab": {}
      },
      "source": [
        "from sklearn.model_selection import train_test_split\n",
        "\n",
        "X_class_1 = X[:40]\n",
        "X_class_0 = X[40:]\n",
        "\n",
        "y_class_1 = y[:40]\n",
        "y_class_0 = y[40:]\n",
        "\n",
        "# If float, should be between 0.0 and 1.0 and represent the proportion of the dataset to include in the test split.\n",
        "# If int, represents the absolute number of test samples. \n",
        "X_train1 , X_test1 , y_train1 , y_test1 = train_test_split(X_class_1 , y_class_1 , test_size = 0.25)\n",
        "X_train0 , X_test0 , y_train0 , y_test0 = train_test_split(X_class_0 , y_class_0 , test_size = 10)\n",
        "\n",
        "X_train = np.concatenate((X_train1 , X_train0) , axis = 0)\n",
        "X_test = np.concatenate((X_test1 , X_test0) , axis = 0)\n",
        "\n",
        "y_train = np.concatenate((y_train1 , y_train0) , axis = 0)\n",
        "y_test = np.concatenate((y_test1 , y_test0) , axis = 0)"
      ],
      "execution_count": 0,
      "outputs": []
    },
    {
      "cell_type": "code",
      "metadata": {
        "id": "y8ZgEtkVdbgG",
        "colab_type": "code",
        "colab": {
          "base_uri": "https://localhost:8080/",
          "height": 452
        },
        "outputId": "1a3cd24b-3e8c-4798-b298-aaf0771f476b"
      },
      "source": [
        "print('shape of X_test:' + str(X_test.shape))\n",
        "print('X_test:')\n",
        "print(X_test)\n",
        "\n",
        "print('-'*30)\n",
        "\n",
        "print('shape of y_test:' + str(y_test.shape))\n",
        "print('y_test:')\n",
        "print(y_test)"
      ],
      "execution_count": 6,
      "outputs": [
        {
          "output_type": "stream",
          "text": [
            "shape of X_test:(20, 5)\n",
            "X_test:\n",
            "[[ 70  71  72  73  74]\n",
            " [ 15  16  17  18  19]\n",
            " [ 20  21  22  23  24]\n",
            " [145 146 147 148 149]\n",
            " [  0   1   2   3   4]\n",
            " [ 65  66  67  68  69]\n",
            " [195 196 197 198 199]\n",
            " [ 95  96  97  98  99]\n",
            " [ 50  51  52  53  54]\n",
            " [ 30  31  32  33  34]\n",
            " [705 706 707 708 709]\n",
            " [535 536 537 538 539]\n",
            " [430 431 432 433 434]\n",
            " [665 666 667 668 669]\n",
            " [795 796 797 798 799]\n",
            " [220 221 222 223 224]\n",
            " [480 481 482 483 484]\n",
            " [390 391 392 393 394]\n",
            " [575 576 577 578 579]\n",
            " [295 296 297 298 299]]\n",
            "------------------------------\n",
            "shape of y_test:(20,)\n",
            "y_test:\n",
            "[1. 1. 1. 1. 1. 1. 1. 1. 1. 1. 0. 0. 0. 0. 0. 0. 0. 0. 0. 0.]\n"
          ],
          "name": "stdout"
        }
      ]
    }
  ]
}