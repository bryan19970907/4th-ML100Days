{
  "nbformat": 4,
  "nbformat_minor": 0,
  "metadata": {
    "kernelspec": {
      "display_name": "Python 3",
      "language": "python",
      "name": "python3"
    },
    "language_info": {
      "codemirror_mode": {
        "name": "ipython",
        "version": 3
      },
      "file_extension": ".py",
      "mimetype": "text/x-python",
      "name": "python",
      "nbconvert_exporter": "python",
      "pygments_lexer": "ipython3",
      "version": "3.6.1"
    },
    "colab": {
      "name": "Day_063_HW (1).ipynb",
      "provenance": [],
      "collapsed_sections": []
    }
  },
  "cells": [
    {
      "cell_type": "markdown",
      "metadata": {
        "id": "rwKxF-285-sm",
        "colab_type": "text"
      },
      "source": [
        "# 作業\n",
        "* 在精簡深度學習的方式上 : 卷積類神經 (CNN) 採用像素遠近，而遞歸類神經 (RNN) 採用著則是時間遠近\n",
        "* 那麼，既然有著類似的設計精神，兩者是否有可能互換應用呢?"
      ]
    },
    {
      "cell_type": "code",
      "metadata": {
        "id": "5wUJPJVv5-sp",
        "colab_type": "code",
        "colab": {}
      },
      "source": [
        "\"\"\"\n",
        "我覺得是可行的，比如說將RNN用在辨識碼(圖像)的識別應用。\n",
        "\"\"\""
      ],
      "execution_count": 0,
      "outputs": []
    }
  ]
}