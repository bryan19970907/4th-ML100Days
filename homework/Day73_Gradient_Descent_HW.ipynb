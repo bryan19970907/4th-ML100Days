{
  "nbformat": 4,
  "nbformat_minor": 0,
  "metadata": {
    "kernelspec": {
      "display_name": "Python 3",
      "language": "python",
      "name": "python3"
    },
    "language_info": {
      "codemirror_mode": {
        "name": "ipython",
        "version": 3
      },
      "file_extension": ".py",
      "mimetype": "text/x-python",
      "name": "python",
      "nbconvert_exporter": "python",
      "pygments_lexer": "ipython3",
      "version": "3.7.0"
    },
    "colab": {
      "name": "Day73_Gradient_Descent_HW.ipynb",
      "provenance": [],
      "collapsed_sections": []
    }
  },
  "cells": [
    {
      "cell_type": "markdown",
      "metadata": {
        "id": "CmXLtCEJvPKN",
        "colab_type": "text"
      },
      "source": [
        "# 作業重點\n",
        "\n",
        "使用function y=(x+5)² 來練習學習率( leanrning rate ) 調整所造成的影響"
      ]
    },
    {
      "cell_type": "markdown",
      "metadata": {
        "id": "9y2h6Mw8vPKP",
        "colab_type": "text"
      },
      "source": [
        "# 作業目標:\n",
        "    請嘗試使用不同的組合驗證 learning rate 對所需 iteration 的影響\n",
        "    lr = [0.1, 0.0001]\n",
        "    主要驗證 Lr 對於grandient 收斂的速度\n",
        "    "
      ]
    },
    {
      "cell_type": "code",
      "metadata": {
        "id": "BLtVdlIUvPKP",
        "colab_type": "code",
        "colab": {}
      },
      "source": [
        "cur_x = 3 # The algorithm starts at x=3\n",
        "precision = 0.000001 #This tells us when to stop the algorithm\n",
        "max_iters = 10000 # maximum number of iterations\n",
        "df = lambda x: 2*(x+5) #Gradient of our function \n",
        "iters = 0"
      ],
      "execution_count": 0,
      "outputs": []
    },
    {
      "cell_type": "code",
      "metadata": {
        "scrolled": false,
        "id": "ZK1zf0e7vPKU",
        "colab_type": "code",
        "colab": {}
      },
      "source": [
        "'''\n",
        "需要執行初始值設定, 下列三個\n",
        "# Learning rate\n",
        "#iteration counter\n",
        "#Step size  \n",
        "'''\n",
        "lr = [0.1 , 0.0001]\n",
        "\n",
        "previous_step_size = 1\n",
        "\n",
        "hist_x_1 = [cur_x]\n",
        "hist_iter_1=[iters]\n",
        "hist_x_2 = [cur_x]\n",
        "hist_iter_2=[iters]\n",
        "\n",
        "\n",
        "for cur_lr in lr:\n",
        "  while previous_step_size > precision and iters < max_iters:\n",
        "    pre_x = cur_x\n",
        "    cur_x = cur_x - cur_lr*df(pre_x)\n",
        "    previous_step_size = abs(cur_x - pre_x)\n",
        "    iters +=1 \n",
        "    if cur_lr==0.1:\n",
        "      hist_x_1.append(cur_x)\n",
        "      hist_iter_1.append(iters)\n",
        "    else:\n",
        "      hist_x_2.append(cur_x)\n",
        "      hist_iter_2.append(iters)\n",
        "\n",
        "  iters = 0\n",
        "  previous_step_size = 1\n",
        "  cur_x = 3\n",
        "\n",
        "#print(\"the learning rate is\",lr, \"\\nIteration\",iters,\"\\nX value is\",cur_x) #Print iterations\n"
      ],
      "execution_count": 0,
      "outputs": []
    },
    {
      "cell_type": "code",
      "metadata": {
        "id": "JAkKX2tJ3cHM",
        "colab_type": "code",
        "colab": {
          "base_uri": "https://localhost:8080/",
          "height": 51
        },
        "outputId": "115c008c-0ab2-4953-925b-99fc1350684a"
      },
      "source": [
        "print(\"Totally iteations for lr_0.1: \", hist_iter_1[-1])\n",
        "print(\"The local minimum occurs at\", hist_x_1[-1])"
      ],
      "execution_count": 6,
      "outputs": [
        {
          "output_type": "stream",
          "text": [
            "Totally iteations for lr_0.1:  66\n",
            "The local minimum occurs at -4.999996786123911\n"
          ],
          "name": "stdout"
        }
      ]
    },
    {
      "cell_type": "code",
      "metadata": {
        "id": "icKU_W9o3k-4",
        "colab_type": "code",
        "colab": {
          "base_uri": "https://localhost:8080/",
          "height": 51
        },
        "outputId": "98c07d64-4aeb-46ea-929f-19f4b1f11f24"
      },
      "source": [
        "print(\"Totally iteations for lr_0.0001: \", hist_iter_2[-1])\n",
        "print(\"The local minimum occurs at\", hist_x_2[-1])"
      ],
      "execution_count": 7,
      "outputs": [
        {
          "output_type": "stream",
          "text": [
            "Totally iteations for lr_0.0001:  10000\n",
            "The local minimum occurs at -3.917534277778167\n"
          ],
          "name": "stdout"
        }
      ]
    },
    {
      "cell_type": "code",
      "metadata": {
        "id": "61NMGfTmvPKY",
        "colab_type": "code",
        "colab": {
          "base_uri": "https://localhost:8080/",
          "height": 284
        },
        "outputId": "87687add-36e3-44c9-9aaf-744b4203d301"
      },
      "source": [
        "import matplotlib.pyplot as plt\n",
        "plt.plot(hist_iter_1 , hist_x_1 , 'o' , label = 'lr_0.1')\n",
        "plt.plot(hist_iter_2 , hist_x_2 , '+' , label = 'lr_0.0001')\n",
        "plt.xlabel(r'$iters$', fontsize=16)\n",
        "plt.ylabel(r'$x$', fontsize=16)\n",
        "plt.legend()\n",
        "plt.show()"
      ],
      "execution_count": 5,
      "outputs": [
        {
          "output_type": "display_data",
          "data": {
            "image/png": "[encoded data removed]",
            "text/plain": [
              "<Figure size 432x288 with 1 Axes>"
            ]
          },
          "metadata": {
            "tags": [],
            "needs_background": "light"
          }
        }
      ]
    }
  ]
}