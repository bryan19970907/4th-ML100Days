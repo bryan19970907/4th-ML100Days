{
  "nbformat": 4,
  "nbformat_minor": 0,
  "metadata": {
    "kernelspec": {
      "display_name": "Python 3",
      "language": "python",
      "name": "python3"
    },
    "language_info": {
      "codemirror_mode": {
        "name": "ipython",
        "version": 3
      },
      "file_extension": ".py",
      "mimetype": "text/x-python",
      "name": "python",
      "nbconvert_exporter": "python",
      "pygments_lexer": "ipython3",
      "version": "3.7.0"
    },
    "colab": {
      "name": "Day_040_HW.ipynb",
      "provenance": []
    }
  },
  "cells": [
    {
      "cell_type": "markdown",
      "metadata": {
        "id": "4aMArUMHvZ6q",
        "colab_type": "text"
      },
      "source": [
        "## [作業重點]\n",
        "使用 Sklearn 中的 Lasso, Ridge 模型，來訓練各種資料集，務必了解送進去模型訓練的**資料型態**為何，也請了解模型中各項參數的意義。\n",
        "\n",
        "機器學習的模型非常多種，但要訓練的資料多半有固定的格式，確保你了解訓練資料的格式為何，這樣在應用新模型時，就能夠最快的上手開始訓練！"
      ]
    },
    {
      "cell_type": "markdown",
      "metadata": {
        "id": "1DCb-L7kvZ6t",
        "colab_type": "text"
      },
      "source": [
        "## 練習時間\n",
        "試著使用 sklearn datasets 的其他資料集 (boston, ...)，來訓練自己的線性迴歸模型，並加上適當的正則化來觀察訓練情形。"
      ]
    },
    {
      "cell_type": "code",
      "metadata": {
        "id": "9kMRTyFRvZ6w",
        "colab_type": "code",
        "colab": {}
      },
      "source": [
        "import numpy as np\n",
        "from sklearn import datasets , linear_model\n",
        "from sklearn.model_selection import train_test_split\n",
        "from sklearn.metrics import mean_squared_error , r2_score"
      ],
      "execution_count": 0,
      "outputs": []
    },
    {
      "cell_type": "code",
      "metadata": {
        "id": "CUZGPRHmwsOJ",
        "colab_type": "code",
        "colab": {}
      },
      "source": [
        "wine = datasets.load_wine()\n",
        "\n",
        "x_train , x_test , y_train , y_test = train_test_split(wine.data , wine.target , test_size = 0.2 , random_state = 4) \n",
        "\n",
        "lin_reg = linear_model.LinearRegression() \n",
        "lin_reg.fit(x_train , y_train)\n",
        "y_pred = lin_reg.predict(x_test)"
      ],
      "execution_count": 0,
      "outputs": []
    },
    {
      "cell_type": "code",
      "metadata": {
        "id": "WUAeLlCqx4qe",
        "colab_type": "code",
        "colab": {
          "base_uri": "https://localhost:8080/",
          "height": 84
        },
        "outputId": "6a19e9aa-6642-4b43-9332-fa0892d9cc84"
      },
      "source": [
        "print(lin_reg.coef_)"
      ],
      "execution_count": 3,
      "outputs": [
        {
          "output_type": "stream",
          "text": [
            "[-1.09099883e-01  1.67405249e-02 -2.18753671e-01  4.66803998e-02\n",
            "  3.20692287e-04  1.24491691e-01 -3.26192950e-01 -1.91327414e-01\n",
            "  3.72016066e-02  7.57429505e-02 -1.55979636e-01 -2.85946973e-01\n",
            " -7.51809245e-04]\n"
          ],
          "name": "stdout"
        }
      ]
    },
    {
      "cell_type": "code",
      "metadata": {
        "id": "QenPgbPDxleK",
        "colab_type": "code",
        "colab": {
          "base_uri": "https://localhost:8080/",
          "height": 33
        },
        "outputId": "eda91555-bca2-4df3-83f3-7ea61afc5e90"
      },
      "source": [
        "print('Mean_square_error :　%.3f' % mean_squared_error(y_test , y_pred))"
      ],
      "execution_count": 4,
      "outputs": [
        {
          "output_type": "stream",
          "text": [
            "Mean_square_error :　0.067\n"
          ],
          "name": "stdout"
        }
      ]
    },
    {
      "cell_type": "code",
      "metadata": {
        "id": "WuUqfww0x-Ej",
        "colab_type": "code",
        "colab": {}
      },
      "source": [
        "wine = datasets.load_wine()\n",
        "\n",
        "x_train , x_test , y_train , y_test = train_test_split(wine.data , wine.target , test_size = 0.2 , random_state = 4) \n",
        "\n",
        "lasso_reg = linear_model.Lasso(alpha=0.5) \n",
        "lasso_reg.fit(x_train , y_train)\n",
        "y_pred = lasso_reg.predict(x_test)"
      ],
      "execution_count": 0,
      "outputs": []
    },
    {
      "cell_type": "code",
      "metadata": {
        "id": "VZftTokuyF0h",
        "colab_type": "code",
        "colab": {
          "base_uri": "https://localhost:8080/",
          "height": 67
        },
        "outputId": "221969fc-e512-4b39-c3dd-edd848161b32"
      },
      "source": [
        "print(lasso_reg.coef_)"
      ],
      "execution_count": 8,
      "outputs": [
        {
          "output_type": "stream",
          "text": [
            "[ 0.          0.          0.          0.00301828  0.         -0.\n",
            " -0.          0.         -0.          0.06074464 -0.         -0.\n",
            " -0.00172235]\n"
          ],
          "name": "stdout"
        }
      ]
    },
    {
      "cell_type": "code",
      "metadata": {
        "id": "60TooJGSyI2R",
        "colab_type": "code",
        "colab": {
          "base_uri": "https://localhost:8080/",
          "height": 33
        },
        "outputId": "232ad4a0-0224-434a-8800-6a6963e036b6"
      },
      "source": [
        "print('Mean_square_error :　%.3f' % mean_squared_error(y_test , y_pred))"
      ],
      "execution_count": 9,
      "outputs": [
        {
          "output_type": "stream",
          "text": [
            "Mean_square_error :　0.321\n"
          ],
          "name": "stdout"
        }
      ]
    },
    {
      "cell_type": "code",
      "metadata": {
        "id": "RJZ6FdQ2yMpV",
        "colab_type": "code",
        "colab": {}
      },
      "source": [
        "wine = datasets.load_wine()\n",
        "\n",
        "x_train , x_test , y_train , y_test = train_test_split(wine.data , wine.target , test_size = 0.2 , random_state = 4) \n",
        "\n",
        "ridge_reg = linear_model.Ridge(alpha=0.5) \n",
        "ridge_reg.fit(x_train , y_train)\n",
        "y_pred = ridge_reg.predict(x_test)"
      ],
      "execution_count": 0,
      "outputs": []
    },
    {
      "cell_type": "code",
      "metadata": {
        "id": "qFBQdYmzyVTE",
        "colab_type": "code",
        "colab": {
          "base_uri": "https://localhost:8080/",
          "height": 67
        },
        "outputId": "51cfa3b8-0f49-4175-d196-6eed3eca64c3"
      },
      "source": [
        "print(ridge_reg.coef_)"
      ],
      "execution_count": 11,
      "outputs": [
        {
          "output_type": "stream",
          "text": [
            "[-0.1073333   0.01712214 -0.21119203  0.04590509  0.00039135  0.11063007\n",
            " -0.31826171 -0.13486439  0.03590049  0.07673492 -0.14525493 -0.27955302\n",
            " -0.00076108]\n"
          ],
          "name": "stdout"
        }
      ]
    },
    {
      "cell_type": "code",
      "metadata": {
        "id": "t4NMx6XAyX7C",
        "colab_type": "code",
        "colab": {
          "base_uri": "https://localhost:8080/",
          "height": 33
        },
        "outputId": "76adac9d-3f95-44ba-8a2a-42f1ba13432d"
      },
      "source": [
        "print('Mean_square_error :　%.3f' % mean_squared_error(y_test , y_pred))"
      ],
      "execution_count": 12,
      "outputs": [
        {
          "output_type": "stream",
          "text": [
            "Mean_square_error :　0.067\n"
          ],
          "name": "stdout"
        }
      ]
    }
  ]
}