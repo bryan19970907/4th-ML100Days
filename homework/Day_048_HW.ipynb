{
  "nbformat": 4,
  "nbformat_minor": 0,
  "metadata": {
    "colab": {
      "name": "Day_047_HW.ipynb",
      "provenance": []
    },
    "kernelspec": {
      "name": "python3",
      "display_name": "Python 3"
    }
  },
  "cells": [
    {
      "cell_type": "code",
      "metadata": {
        "id": "gYox9cB6yALX",
        "colab_type": "code",
        "colab": {
          "base_uri": "https://localhost:8080/",
          "height": 121
        },
        "outputId": "4e62c74b-ab6d-4c21-fe7d-90ad16ebd0d1"
      },
      "source": [
        "from google.colab import drive\n",
        "drive.mount('/content/drive')"
      ],
      "execution_count": 1,
      "outputs": [
        {
          "output_type": "stream",
          "text": [
            "Go to this URL in a browser: https://accounts.google.com/o/oauth2/auth?client_id=947318989803-6bn6qk8qdgf4n4g3pfee6491hc0brc4i.apps.googleusercontent.com&redirect_uri=urn%3aietf%3awg%3aoauth%3a2.0%3aoob&response_type=code&scope=email%20https%3a%2f%2fwww.googleapis.com%2fauth%2fdocs.test%20https%3a%2f%2fwww.googleapis.com%2fauth%2fdrive%20https%3a%2f%2fwww.googleapis.com%2fauth%2fdrive.photos.readonly%20https%3a%2f%2fwww.googleapis.com%2fauth%2fpeopleapi.readonly\n",
            "\n",
            "Enter your authorization code:\n",
            "··········\n",
            "Mounted at /content/drive\n"
          ],
          "name": "stdout"
        }
      ]
    },
    {
      "cell_type": "code",
      "metadata": {
        "id": "5FXbkxWV0doX",
        "colab_type": "code",
        "colab": {}
      },
      "source": [
        "import pandas as pd"
      ],
      "execution_count": 0,
      "outputs": []
    },
    {
      "cell_type": "code",
      "metadata": {
        "id": "UzBPKAa002P4",
        "colab_type": "code",
        "colab": {
          "base_uri": "https://localhost:8080/",
          "height": 34
        },
        "outputId": "c604a1b1-a167-43b8-84e4-6b5ff1c5b0c8"
      },
      "source": [
        "pwd"
      ],
      "execution_count": 3,
      "outputs": [
        {
          "output_type": "execute_result",
          "data": {
            "text/plain": [
              "'/content'"
            ]
          },
          "metadata": {
            "tags": []
          },
          "execution_count": 3
        }
      ]
    },
    {
      "cell_type": "code",
      "metadata": {
        "id": "yld7WdHh0qgn",
        "colab_type": "code",
        "colab": {
          "base_uri": "https://localhost:8080/",
          "height": 34
        },
        "outputId": "a8f2dd1e-3f65-44f4-ca23-9ca86e4e0742"
      },
      "source": [
        "train_data = pd.read_csv('./drive/My Drive/ML_100/day48/data_kaggle/train.csv')\n",
        "print(train_data.shape)"
      ],
      "execution_count": 4,
      "outputs": [
        {
          "output_type": "stream",
          "text": [
            "(999, 40)\n"
          ],
          "name": "stdout"
        }
      ]
    },
    {
      "cell_type": "code",
      "metadata": {
        "id": "xKh_IFYt2UFA",
        "colab_type": "code",
        "colab": {
          "base_uri": "https://localhost:8080/",
          "height": 215
        },
        "outputId": "2b5f4099-b2b4-4380-c9ef-85a4441dac56"
      },
      "source": [
        "train_data.head()"
      ],
      "execution_count": 5,
      "outputs": [
        {
          "output_type": "execute_result",
          "data": {
            "text/html": [
              "<div>\n",
              "<style scoped>\n",
              "    .dataframe tbody tr th:only-of-type {\n",
              "        vertical-align: middle;\n",
              "    }\n",
              "\n",
              "    .dataframe tbody tr th {\n",
              "        vertical-align: top;\n",
              "    }\n",
              "\n",
              "    .dataframe thead th {\n",
              "        text-align: right;\n",
              "    }\n",
              "</style>\n",
              "<table border=\"1\" class=\"dataframe\">\n",
              "  <thead>\n",
              "    <tr style=\"text-align: right;\">\n",
              "      <th></th>\n",
              "      <th>0.29940251144353242</th>\n",
              "      <th>-1.2266241875260637</th>\n",
              "      <th>1.4984250500215328</th>\n",
              "      <th>-1.1761503610375272</th>\n",
              "      <th>5.2898525545597037</th>\n",
              "      <th>0.20829711393323402</th>\n",
              "      <th>2.4044983672405826</th>\n",
              "      <th>1.5945062220589785</th>\n",
              "      <th>-0.051608163273514231</th>\n",
              "      <th>0.66323431039687908</th>\n",
              "      <th>-1.4083700642531511</th>\n",
              "      <th>1.1147436351160869</th>\n",
              "      <th>0.91041530967390116</th>\n",
              "      <th>2.2181103179158135</th>\n",
              "      <th>4.3056427290235391</th>\n",
              "      <th>0.088923978050666208</th>\n",
              "      <th>0.1691492586690862</th>\n",
              "      <th>0.41344763764684195</th>\n",
              "      <th>1.5138621708864943</th>\n",
              "      <th>2.6629665829474161</th>\n",
              "      <th>-1.0727654812214888</th>\n",
              "      <th>0.14911112051014644</th>\n",
              "      <th>0.55957919164070269</th>\n",
              "      <th>4.3788846423749064</th>\n",
              "      <th>-0.4636026556416834</th>\n",
              "      <th>-0.063959155289009084</th>\n",
              "      <th>0.54493030536966891</th>\n",
              "      <th>0.71277166708074502</th>\n",
              "      <th>-1.4940501263538932</th>\n",
              "      <th>-2.6361688752136554</th>\n",
              "      <th>-0.85046544625016463</th>\n",
              "      <th>-0.62298999638261954</th>\n",
              "      <th>-1.8330573433160038</th>\n",
              "      <th>0.29302438506869571</th>\n",
              "      <th>3.5526813410266507</th>\n",
              "      <th>0.71761099417552265</th>\n",
              "      <th>3.3059719748508889</th>\n",
              "      <th>-2.7155588147154619</th>\n",
              "      <th>-2.6824085866346223</th>\n",
              "      <th>0.10105047232890663</th>\n",
              "    </tr>\n",
              "  </thead>\n",
              "  <tbody>\n",
              "    <tr>\n",
              "      <th>0</th>\n",
              "      <td>-1.174176</td>\n",
              "      <td>0.332157</td>\n",
              "      <td>0.949919</td>\n",
              "      <td>-1.285328</td>\n",
              "      <td>2.199061</td>\n",
              "      <td>-0.151268</td>\n",
              "      <td>-0.427039</td>\n",
              "      <td>2.619246</td>\n",
              "      <td>-0.765884</td>\n",
              "      <td>-0.093780</td>\n",
              "      <td>0.935347</td>\n",
              "      <td>1.057796</td>\n",
              "      <td>-0.539275</td>\n",
              "      <td>-0.172662</td>\n",
              "      <td>-0.679051</td>\n",
              "      <td>0.607362</td>\n",
              "      <td>1.148635</td>\n",
              "      <td>2.437077</td>\n",
              "      <td>-0.313069</td>\n",
              "      <td>0.528104</td>\n",
              "      <td>-0.513476</td>\n",
              "      <td>0.766221</td>\n",
              "      <td>-1.466939</td>\n",
              "      <td>-2.318885</td>\n",
              "      <td>1.647223</td>\n",
              "      <td>-1.556443</td>\n",
              "      <td>-1.645581</td>\n",
              "      <td>-0.198467</td>\n",
              "      <td>-1.472066</td>\n",
              "      <td>-1.906147</td>\n",
              "      <td>-0.819750</td>\n",
              "      <td>0.012037</td>\n",
              "      <td>2.038836</td>\n",
              "      <td>0.468579</td>\n",
              "      <td>-0.517657</td>\n",
              "      <td>0.422326</td>\n",
              "      <td>0.803699</td>\n",
              "      <td>1.213219</td>\n",
              "      <td>1.382932</td>\n",
              "      <td>-1.817761</td>\n",
              "    </tr>\n",
              "    <tr>\n",
              "      <th>1</th>\n",
              "      <td>1.192222</td>\n",
              "      <td>-0.414371</td>\n",
              "      <td>0.067054</td>\n",
              "      <td>-2.233568</td>\n",
              "      <td>3.658881</td>\n",
              "      <td>0.089007</td>\n",
              "      <td>0.203439</td>\n",
              "      <td>-4.219054</td>\n",
              "      <td>-1.184919</td>\n",
              "      <td>-1.240310</td>\n",
              "      <td>-0.890270</td>\n",
              "      <td>0.909969</td>\n",
              "      <td>-11.851312</td>\n",
              "      <td>3.352420</td>\n",
              "      <td>-4.862125</td>\n",
              "      <td>-0.903317</td>\n",
              "      <td>-1.824344</td>\n",
              "      <td>0.045446</td>\n",
              "      <td>-2.126474</td>\n",
              "      <td>1.161563</td>\n",
              "      <td>-1.027912</td>\n",
              "      <td>-1.078792</td>\n",
              "      <td>1.848525</td>\n",
              "      <td>3.758918</td>\n",
              "      <td>0.623649</td>\n",
              "      <td>-0.091044</td>\n",
              "      <td>-1.033094</td>\n",
              "      <td>-0.254151</td>\n",
              "      <td>-4.377542</td>\n",
              "      <td>-1.196298</td>\n",
              "      <td>-0.604501</td>\n",
              "      <td>0.750054</td>\n",
              "      <td>-3.360521</td>\n",
              "      <td>0.856988</td>\n",
              "      <td>-2.751451</td>\n",
              "      <td>-1.582735</td>\n",
              "      <td>1.672246</td>\n",
              "      <td>0.656438</td>\n",
              "      <td>-0.932473</td>\n",
              "      <td>2.987436</td>\n",
              "    </tr>\n",
              "    <tr>\n",
              "      <th>2</th>\n",
              "      <td>1.573270</td>\n",
              "      <td>-0.580318</td>\n",
              "      <td>-0.866332</td>\n",
              "      <td>-0.603812</td>\n",
              "      <td>3.125716</td>\n",
              "      <td>0.870321</td>\n",
              "      <td>-0.161992</td>\n",
              "      <td>4.499666</td>\n",
              "      <td>1.038741</td>\n",
              "      <td>-1.092716</td>\n",
              "      <td>-0.713474</td>\n",
              "      <td>-0.136399</td>\n",
              "      <td>0.058990</td>\n",
              "      <td>-1.083458</td>\n",
              "      <td>1.622659</td>\n",
              "      <td>-1.685582</td>\n",
              "      <td>-1.222879</td>\n",
              "      <td>-0.215834</td>\n",
              "      <td>0.155612</td>\n",
              "      <td>0.627873</td>\n",
              "      <td>-0.732789</td>\n",
              "      <td>1.337941</td>\n",
              "      <td>1.335689</td>\n",
              "      <td>0.680062</td>\n",
              "      <td>0.504754</td>\n",
              "      <td>1.204808</td>\n",
              "      <td>0.144477</td>\n",
              "      <td>0.673993</td>\n",
              "      <td>1.027921</td>\n",
              "      <td>3.073382</td>\n",
              "      <td>1.022959</td>\n",
              "      <td>1.275598</td>\n",
              "      <td>-3.480110</td>\n",
              "      <td>-1.065252</td>\n",
              "      <td>2.153133</td>\n",
              "      <td>1.563539</td>\n",
              "      <td>2.767117</td>\n",
              "      <td>0.215748</td>\n",
              "      <td>0.619645</td>\n",
              "      <td>1.883397</td>\n",
              "    </tr>\n",
              "    <tr>\n",
              "      <th>3</th>\n",
              "      <td>-0.613071</td>\n",
              "      <td>-0.644204</td>\n",
              "      <td>1.112558</td>\n",
              "      <td>-0.032397</td>\n",
              "      <td>3.490142</td>\n",
              "      <td>-0.011935</td>\n",
              "      <td>1.443521</td>\n",
              "      <td>-4.290282</td>\n",
              "      <td>-1.761308</td>\n",
              "      <td>0.807652</td>\n",
              "      <td>-0.416575</td>\n",
              "      <td>0.433862</td>\n",
              "      <td>-12.822821</td>\n",
              "      <td>-0.048248</td>\n",
              "      <td>-5.031497</td>\n",
              "      <td>-0.704413</td>\n",
              "      <td>0.515952</td>\n",
              "      <td>-2.635899</td>\n",
              "      <td>-2.359881</td>\n",
              "      <td>-0.053400</td>\n",
              "      <td>0.741432</td>\n",
              "      <td>1.573043</td>\n",
              "      <td>0.723686</td>\n",
              "      <td>1.735602</td>\n",
              "      <td>0.335774</td>\n",
              "      <td>0.572905</td>\n",
              "      <td>0.625971</td>\n",
              "      <td>0.412084</td>\n",
              "      <td>-4.883833</td>\n",
              "      <td>-5.588332</td>\n",
              "      <td>0.513906</td>\n",
              "      <td>-1.803473</td>\n",
              "      <td>0.518579</td>\n",
              "      <td>-0.205029</td>\n",
              "      <td>-4.744566</td>\n",
              "      <td>-1.520015</td>\n",
              "      <td>1.830651</td>\n",
              "      <td>0.870772</td>\n",
              "      <td>-1.894609</td>\n",
              "      <td>0.408332</td>\n",
              "    </tr>\n",
              "    <tr>\n",
              "      <th>4</th>\n",
              "      <td>-0.773247</td>\n",
              "      <td>-0.123227</td>\n",
              "      <td>0.047423</td>\n",
              "      <td>-0.210266</td>\n",
              "      <td>10.377793</td>\n",
              "      <td>0.526604</td>\n",
              "      <td>-2.751616</td>\n",
              "      <td>0.315541</td>\n",
              "      <td>0.608603</td>\n",
              "      <td>-0.043421</td>\n",
              "      <td>0.192455</td>\n",
              "      <td>-0.146712</td>\n",
              "      <td>3.732708</td>\n",
              "      <td>-0.313714</td>\n",
              "      <td>1.566330</td>\n",
              "      <td>0.570415</td>\n",
              "      <td>-2.451730</td>\n",
              "      <td>0.946946</td>\n",
              "      <td>3.118289</td>\n",
              "      <td>0.169902</td>\n",
              "      <td>-0.744261</td>\n",
              "      <td>-1.714586</td>\n",
              "      <td>1.391285</td>\n",
              "      <td>3.897549</td>\n",
              "      <td>0.362316</td>\n",
              "      <td>0.033738</td>\n",
              "      <td>-1.194431</td>\n",
              "      <td>-1.075610</td>\n",
              "      <td>-1.291695</td>\n",
              "      <td>-3.953392</td>\n",
              "      <td>-1.487714</td>\n",
              "      <td>0.792790</td>\n",
              "      <td>-0.540711</td>\n",
              "      <td>0.114115</td>\n",
              "      <td>-0.277477</td>\n",
              "      <td>-0.896411</td>\n",
              "      <td>-2.805207</td>\n",
              "      <td>0.469162</td>\n",
              "      <td>3.614157</td>\n",
              "      <td>0.081689</td>\n",
              "    </tr>\n",
              "  </tbody>\n",
              "</table>\n",
              "</div>"
            ],
            "text/plain": [
              "   0.29940251144353242  ...  0.10105047232890663\n",
              "0            -1.174176  ...            -1.817761\n",
              "1             1.192222  ...             2.987436\n",
              "2             1.573270  ...             1.883397\n",
              "3            -0.613071  ...             0.408332\n",
              "4            -0.773247  ...             0.081689\n",
              "\n",
              "[5 rows x 40 columns]"
            ]
          },
          "metadata": {
            "tags": []
          },
          "execution_count": 5
        }
      ]
    },
    {
      "cell_type": "code",
      "metadata": {
        "id": "zWAko84e2VG7",
        "colab_type": "code",
        "colab": {
          "base_uri": "https://localhost:8080/",
          "height": 34
        },
        "outputId": "4366b36f-0103-42a2-af04-f6dc105acd66"
      },
      "source": [
        "train_label = pd.read_csv('./drive/My Drive/ML_100/day48/data_kaggle/trainLabels.csv')\n",
        "print(train_label.shape)"
      ],
      "execution_count": 6,
      "outputs": [
        {
          "output_type": "stream",
          "text": [
            "(999, 1)\n"
          ],
          "name": "stdout"
        }
      ]
    },
    {
      "cell_type": "code",
      "metadata": {
        "id": "RgDBL3cg2lws",
        "colab_type": "code",
        "colab": {
          "base_uri": "https://localhost:8080/",
          "height": 195
        },
        "outputId": "0144f4e2-8e3b-4d63-cd77-82e35eda30a8"
      },
      "source": [
        "train_label.head()"
      ],
      "execution_count": 7,
      "outputs": [
        {
          "output_type": "execute_result",
          "data": {
            "text/html": [
              "<div>\n",
              "<style scoped>\n",
              "    .dataframe tbody tr th:only-of-type {\n",
              "        vertical-align: middle;\n",
              "    }\n",
              "\n",
              "    .dataframe tbody tr th {\n",
              "        vertical-align: top;\n",
              "    }\n",
              "\n",
              "    .dataframe thead th {\n",
              "        text-align: right;\n",
              "    }\n",
              "</style>\n",
              "<table border=\"1\" class=\"dataframe\">\n",
              "  <thead>\n",
              "    <tr style=\"text-align: right;\">\n",
              "      <th></th>\n",
              "      <th>1</th>\n",
              "    </tr>\n",
              "  </thead>\n",
              "  <tbody>\n",
              "    <tr>\n",
              "      <th>0</th>\n",
              "      <td>0</td>\n",
              "    </tr>\n",
              "    <tr>\n",
              "      <th>1</th>\n",
              "      <td>0</td>\n",
              "    </tr>\n",
              "    <tr>\n",
              "      <th>2</th>\n",
              "      <td>1</td>\n",
              "    </tr>\n",
              "    <tr>\n",
              "      <th>3</th>\n",
              "      <td>0</td>\n",
              "    </tr>\n",
              "    <tr>\n",
              "      <th>4</th>\n",
              "      <td>1</td>\n",
              "    </tr>\n",
              "  </tbody>\n",
              "</table>\n",
              "</div>"
            ],
            "text/plain": [
              "   1\n",
              "0  0\n",
              "1  0\n",
              "2  1\n",
              "3  0\n",
              "4  1"
            ]
          },
          "metadata": {
            "tags": []
          },
          "execution_count": 7
        }
      ]
    },
    {
      "cell_type": "code",
      "metadata": {
        "id": "Ngwx-5vC2v3l",
        "colab_type": "code",
        "colab": {}
      },
      "source": [
        "from sklearn import metrics\n",
        "from sklearn.model_selection import train_test_split , GridSearchCV\n",
        "from sklearn.ensemble import GradientBoostingClassifier "
      ],
      "execution_count": 0,
      "outputs": []
    },
    {
      "cell_type": "code",
      "metadata": {
        "id": "LelSffrO3EX5",
        "colab_type": "code",
        "colab": {}
      },
      "source": [
        "x_train , x_test , y_train , y_test = train_test_split(train_data , train_label , test_size = 0.25 , random_state =4)"
      ],
      "execution_count": 0,
      "outputs": []
    },
    {
      "cell_type": "code",
      "metadata": {
        "id": "m4IKAjxr3cMY",
        "colab_type": "code",
        "colab": {
          "base_uri": "https://localhost:8080/",
          "height": 70
        },
        "outputId": "dd8467e9-200f-4741-d3b3-1ca849f5f0cf"
      },
      "source": [
        "clf = GradientBoostingClassifier(random_state=7)\n",
        "clf.fit(x_train , y_train)\n",
        "y_pred = clf.predict(x_test)"
      ],
      "execution_count": 10,
      "outputs": [
        {
          "output_type": "stream",
          "text": [
            "/usr/local/lib/python3.6/dist-packages/sklearn/ensemble/_gb.py:1454: DataConversionWarning: A column-vector y was passed when a 1d array was expected. Please change the shape of y to (n_samples, ), for example using ravel().\n",
            "  y = column_or_1d(y, warn=True)\n"
          ],
          "name": "stderr"
        }
      ]
    },
    {
      "cell_type": "code",
      "metadata": {
        "id": "2_MitmSc4Coj",
        "colab_type": "code",
        "colab": {
          "base_uri": "https://localhost:8080/",
          "height": 34
        },
        "outputId": "76cf5e26-853b-4777-afc3-26a8e04f7303"
      },
      "source": [
        "acc = metrics.accuracy_score(y_test , y_pred)\n",
        "print('accuracy :' , acc)"
      ],
      "execution_count": 11,
      "outputs": [
        {
          "output_type": "stream",
          "text": [
            "accuracy : 0.848\n"
          ],
          "name": "stdout"
        }
      ]
    },
    {
      "cell_type": "code",
      "metadata": {
        "id": "q927c9O_4TBv",
        "colab_type": "code",
        "colab": {
          "base_uri": "https://localhost:8080/",
          "height": 154
        },
        "outputId": "d0f118a3-6ce5-46f4-fabc-80a41304942d"
      },
      "source": [
        "n_estimators = [100 , 200 ,300]\n",
        "max_depth = [2 , 4 , 6]\n",
        "param_grid = dict(n_estimators = n_estimators , max_depth = max_depth)\n",
        "\n",
        "grid_search = GridSearchCV(cv = 3 , estimator=clf , param_grid= param_grid , n_jobs=-1, verbose=1)\n",
        "grid_result = grid_search.fit(x_train , y_train)\n",
        "\n",
        "print(grid_result.best_score_)\n",
        "print(grid_result.best_params_)"
      ],
      "execution_count": 12,
      "outputs": [
        {
          "output_type": "stream",
          "text": [
            "Fitting 3 folds for each of 9 candidates, totalling 27 fits\n"
          ],
          "name": "stdout"
        },
        {
          "output_type": "stream",
          "text": [
            "[Parallel(n_jobs=-1)]: Using backend LokyBackend with 2 concurrent workers.\n",
            "[Parallel(n_jobs=-1)]: Done  27 out of  27 | elapsed:   25.6s finished\n",
            "/usr/local/lib/python3.6/dist-packages/sklearn/ensemble/_gb.py:1454: DataConversionWarning: A column-vector y was passed when a 1d array was expected. Please change the shape of y to (n_samples, ), for example using ravel().\n",
            "  y = column_or_1d(y, warn=True)\n"
          ],
          "name": "stderr"
        },
        {
          "output_type": "stream",
          "text": [
            "0.8518072289156627\n",
            "{'max_depth': 4, 'n_estimators': 300}\n"
          ],
          "name": "stdout"
        }
      ]
    },
    {
      "cell_type": "code",
      "metadata": {
        "id": "qRJNyAj-5HWL",
        "colab_type": "code",
        "colab": {
          "base_uri": "https://localhost:8080/",
          "height": 70
        },
        "outputId": "ae03e9c0-b5e3-41f4-eee0-fb73fb844a7a"
      },
      "source": [
        "clf_best_param = GradientBoostingClassifier(n_estimators= grid_result.best_params_['n_estimators'] , max_depth = grid_result.best_params_['max_depth'])\n",
        "clf_best_param.fit(x_train , y_train)\n",
        "\n",
        "y_pred = clf_best_param.predict(x_test)"
      ],
      "execution_count": 13,
      "outputs": [
        {
          "output_type": "stream",
          "text": [
            "/usr/local/lib/python3.6/dist-packages/sklearn/ensemble/_gb.py:1454: DataConversionWarning: A column-vector y was passed when a 1d array was expected. Please change the shape of y to (n_samples, ), for example using ravel().\n",
            "  y = column_or_1d(y, warn=True)\n"
          ],
          "name": "stderr"
        }
      ]
    },
    {
      "cell_type": "code",
      "metadata": {
        "id": "CEBbk4476Xx_",
        "colab_type": "code",
        "colab": {
          "base_uri": "https://localhost:8080/",
          "height": 34
        },
        "outputId": "b34539b3-f71c-4367-8405-75e2898c2a5c"
      },
      "source": [
        "acc = metrics.accuracy_score(y_test , y_pred)\n",
        "print('accuracy :' , acc)"
      ],
      "execution_count": 14,
      "outputs": [
        {
          "output_type": "stream",
          "text": [
            "accuracy : 0.868\n"
          ],
          "name": "stdout"
        }
      ]
    },
    {
      "cell_type": "code",
      "metadata": {
        "id": "OnBvhau86obM",
        "colab_type": "code",
        "colab": {}
      },
      "source": [
        "# https://stackoverflow.com/questions/32940709/missing-first-row-while-reading-from-file-python-pandas\n",
        "public_test_data = pd.read_csv('./drive/My Drive/ML_100/day48/data_kaggle/test.csv' , header=None)"
      ],
      "execution_count": 0,
      "outputs": []
    },
    {
      "cell_type": "code",
      "metadata": {
        "id": "1pxTzM5EDnH-",
        "colab_type": "code",
        "colab": {
          "base_uri": "https://localhost:8080/",
          "height": 34
        },
        "outputId": "534d59a5-3b7a-4c8c-e28d-9e8acc94a603"
      },
      "source": [
        "public_test_data.shape"
      ],
      "execution_count": 28,
      "outputs": [
        {
          "output_type": "execute_result",
          "data": {
            "text/plain": [
              "(9000, 40)"
            ]
          },
          "metadata": {
            "tags": []
          },
          "execution_count": 28
        }
      ]
    },
    {
      "cell_type": "code",
      "metadata": {
        "id": "2BsIqCkU68IG",
        "colab_type": "code",
        "colab": {}
      },
      "source": [
        "y_pred = clf_best_param.predict(public_test_data)"
      ],
      "execution_count": 0,
      "outputs": []
    },
    {
      "cell_type": "code",
      "metadata": {
        "id": "XIVOmtwb8A1B",
        "colab_type": "code",
        "colab": {
          "base_uri": "https://localhost:8080/",
          "height": 34
        },
        "outputId": "a5f405f0-3f14-4cb4-9637-1cd159f799bb"
      },
      "source": [
        "y_pred.shape"
      ],
      "execution_count": 30,
      "outputs": [
        {
          "output_type": "execute_result",
          "data": {
            "text/plain": [
              "(9000,)"
            ]
          },
          "metadata": {
            "tags": []
          },
          "execution_count": 30
        }
      ]
    },
    {
      "cell_type": "code",
      "metadata": {
        "id": "3BJleHuJ7ff0",
        "colab_type": "code",
        "colab": {}
      },
      "source": [
        "y_pred = pd.Series(y_pred)"
      ],
      "execution_count": 0,
      "outputs": []
    },
    {
      "cell_type": "code",
      "metadata": {
        "id": "T6P7xIAO-N70",
        "colab_type": "code",
        "colab": {
          "base_uri": "https://localhost:8080/",
          "height": 134
        },
        "outputId": "a97ee1bb-4ba3-4117-e738-a92f76e888e7"
      },
      "source": [
        "import numpy as np\n",
        "\n",
        "y_pred = pd.DataFrame(y_pred)\n",
        "y_pred.index = np.arange(1,len(y_pred)+1)\n",
        "print(y_pred.shape)\n",
        "print(y_pred.head())"
      ],
      "execution_count": 32,
      "outputs": [
        {
          "output_type": "stream",
          "text": [
            "(9000, 1)\n",
            "   0\n",
            "1  1\n",
            "2  0\n",
            "3  1\n",
            "4  0\n",
            "5  0\n"
          ],
          "name": "stdout"
        }
      ]
    },
    {
      "cell_type": "code",
      "metadata": {
        "id": "N9xCeJpF-t_f",
        "colab_type": "code",
        "colab": {
          "base_uri": "https://localhost:8080/",
          "height": 134
        },
        "outputId": "7e525543-264a-454e-8f1b-a234742fd112"
      },
      "source": [
        "y_pred = y_pred.reset_index()\n",
        "print(y_pred.shape)\n",
        "print(y_pred.head())"
      ],
      "execution_count": 33,
      "outputs": [
        {
          "output_type": "stream",
          "text": [
            "(9000, 2)\n",
            "   index  0\n",
            "0      1  1\n",
            "1      2  0\n",
            "2      3  1\n",
            "3      4  0\n",
            "4      5  0\n"
          ],
          "name": "stdout"
        }
      ]
    },
    {
      "cell_type": "code",
      "metadata": {
        "id": "Rh-Calir-498",
        "colab_type": "code",
        "colab": {
          "base_uri": "https://localhost:8080/",
          "height": 195
        },
        "outputId": "147126c0-26fb-4ac1-c82d-38edd19fe94b"
      },
      "source": [
        "y_pred.columns = ['Id' , 'Solution']\n",
        "y_pred.head()"
      ],
      "execution_count": 34,
      "outputs": [
        {
          "output_type": "execute_result",
          "data": {
            "text/html": [
              "<div>\n",
              "<style scoped>\n",
              "    .dataframe tbody tr th:only-of-type {\n",
              "        vertical-align: middle;\n",
              "    }\n",
              "\n",
              "    .dataframe tbody tr th {\n",
              "        vertical-align: top;\n",
              "    }\n",
              "\n",
              "    .dataframe thead th {\n",
              "        text-align: right;\n",
              "    }\n",
              "</style>\n",
              "<table border=\"1\" class=\"dataframe\">\n",
              "  <thead>\n",
              "    <tr style=\"text-align: right;\">\n",
              "      <th></th>\n",
              "      <th>Id</th>\n",
              "      <th>Solution</th>\n",
              "    </tr>\n",
              "  </thead>\n",
              "  <tbody>\n",
              "    <tr>\n",
              "      <th>0</th>\n",
              "      <td>1</td>\n",
              "      <td>1</td>\n",
              "    </tr>\n",
              "    <tr>\n",
              "      <th>1</th>\n",
              "      <td>2</td>\n",
              "      <td>0</td>\n",
              "    </tr>\n",
              "    <tr>\n",
              "      <th>2</th>\n",
              "      <td>3</td>\n",
              "      <td>1</td>\n",
              "    </tr>\n",
              "    <tr>\n",
              "      <th>3</th>\n",
              "      <td>4</td>\n",
              "      <td>0</td>\n",
              "    </tr>\n",
              "    <tr>\n",
              "      <th>4</th>\n",
              "      <td>5</td>\n",
              "      <td>0</td>\n",
              "    </tr>\n",
              "  </tbody>\n",
              "</table>\n",
              "</div>"
            ],
            "text/plain": [
              "   Id  Solution\n",
              "0   1         1\n",
              "1   2         0\n",
              "2   3         1\n",
              "3   4         0\n",
              "4   5         0"
            ]
          },
          "metadata": {
            "tags": []
          },
          "execution_count": 34
        }
      ]
    },
    {
      "cell_type": "code",
      "metadata": {
        "id": "BJA9Gg7bAqpG",
        "colab_type": "code",
        "colab": {
          "base_uri": "https://localhost:8080/",
          "height": 34
        },
        "outputId": "ffdd8c60-1e1f-4622-d95e-f590eb92e904"
      },
      "source": [
        "y_pred.shape"
      ],
      "execution_count": 35,
      "outputs": [
        {
          "output_type": "execute_result",
          "data": {
            "text/plain": [
              "(9000, 2)"
            ]
          },
          "metadata": {
            "tags": []
          },
          "execution_count": 35
        }
      ]
    },
    {
      "cell_type": "code",
      "metadata": {
        "id": "joOs3zKS86Ze",
        "colab_type": "code",
        "colab": {}
      },
      "source": [
        "y_pred.to_csv('./drive/My Drive/ML_100/day48/data_kaggle/testLabel.csv' , index=False)"
      ],
      "execution_count": 0,
      "outputs": []
    },
    {
      "cell_type": "code",
      "metadata": {
        "id": "y26IJCbtFGcD",
        "colab_type": "code",
        "colab": {
          "base_uri": "https://localhost:8080/",
          "height": 386
        },
        "outputId": "ae0bcd8e-f814-4dfc-b627-6861c10302b0"
      },
      "source": [
        "import cv2\n",
        "from google.colab.patches import cv2_imshow\n",
        "\n",
        "img = cv2.imread('./drive/My Drive/ML_100/day48/data_kaggle/img.PNG')\n",
        "cv2_imshow(img)"
      ],
      "execution_count": 39,
      "outputs": [
        {
          "output_type": "display_data",
          "data": {
            "image/png": "[encoded data removed]",
            "text/plain": [
              "<PIL.Image.Image image mode=RGB size=1205x369 at 0x7FBFEA24EBA8>"
            ]
          },
          "metadata": {
            "tags": []
          }
        }
      ]
    }
  ]
}