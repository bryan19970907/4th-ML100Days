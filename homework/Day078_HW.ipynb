{
  "nbformat": 4,
  "nbformat_minor": 0,
  "metadata": {
    "kernelspec": {
      "display_name": "Python 3",
      "language": "python",
      "name": "python3"
    },
    "language_info": {
      "codemirror_mode": {
        "name": "ipython",
        "version": 3
      },
      "file_extension": ".py",
      "mimetype": "text/x-python",
      "name": "python",
      "nbconvert_exporter": "python",
      "pygments_lexer": "ipython3",
      "version": "3.6.5"
    },
    "colab": {
      "name": "Day078_HW.ipynb",
      "provenance": []
    },
    "accelerator": "GPU"
  },
  "cells": [
    {
      "cell_type": "markdown",
      "metadata": {
        "id": "5uTCSopAWQ6c",
        "colab_type": "text"
      },
      "source": [
        "## Work\n",
        "1. 請嘗試將 preproc_x 替換成以每筆資料的 min/max 進行標準化至 -1 ~ 1 間，再進行訓練\n",
        "2. 請嘗試將 mlp 疊更深 (e.g 5~10 層)，進行訓練後觀察 learning curve 的走勢\n",
        "3. (optional) 請改用 GPU 進行訓練 (如果你有 GPU 的話)，比較使用 CPU 與 GPU 的訓練速度"
      ]
    },
    {
      "cell_type": "code",
      "metadata": {
        "id": "9xKIxwOAWQ6e",
        "colab_type": "code",
        "colab": {}
      },
      "source": [
        "## \n",
        "\"\"\"\n",
        "Your code here (optional)\n",
        "確認硬體資源\n",
        "\"\"\"\n"
      ],
      "execution_count": null,
      "outputs": []
    },
    {
      "cell_type": "code",
      "metadata": {
        "id": "_KbMUK9oWQ6m",
        "colab_type": "code",
        "colab": {
          "base_uri": "https://localhost:8080/",
          "height": 34
        },
        "outputId": "36b34198-e78a-457f-f037-0a9c203afd99"
      },
      "source": [
        "import os\n",
        "import keras\n",
        "# 請嘗試設定 GPU：os.environ\n"
      ],
      "execution_count": 1,
      "outputs": [
        {
          "output_type": "stream",
          "text": [
            "Using TensorFlow backend.\n"
          ],
          "name": "stderr"
        }
      ]
    },
    {
      "cell_type": "code",
      "metadata": {
        "id": "4IBcB4tJWQ6r",
        "colab_type": "code",
        "colab": {
          "base_uri": "https://localhost:8080/",
          "height": 51
        },
        "outputId": "f0d907ef-9cb4-481b-f9cf-868e00991c84"
      },
      "source": [
        "train, test = keras.datasets.cifar10.load_data()"
      ],
      "execution_count": 2,
      "outputs": [
        {
          "output_type": "stream",
          "text": [
            "Downloading data from https://www.cs.toronto.edu/~kriz/cifar-10-python.tar.gz\n",
            "170500096/170498071 [==============================] - 11s 0us/step\n"
          ],
          "name": "stdout"
        }
      ]
    },
    {
      "cell_type": "code",
      "metadata": {
        "id": "I9RShj9BWQ6u",
        "colab_type": "code",
        "colab": {}
      },
      "source": [
        "## 資料前處理\n",
        "\"\"\"\n",
        "Your code here\n",
        "\"\"\"\n",
        "def preproc_x(x , flatten = True):\n",
        "    x = x.astype('float32')/255.\n",
        "    if flatten == True:\n",
        "      x = x.reshape((len(x) , -1))\n",
        "    return x\n",
        "\n",
        "def preproc_y(y , num_classes = 10):\n",
        "    y = keras.utils.to_categorical(y , num_classes = num_classes)\n",
        "    return y"
      ],
      "execution_count": 4,
      "outputs": []
    },
    {
      "cell_type": "code",
      "metadata": {
        "id": "E34mBnDyWQ6y",
        "colab_type": "code",
        "colab": {}
      },
      "source": [
        "x_train, y_train = train\n",
        "x_test, y_test = test\n",
        "\n",
        "# Preproc the inputs\n",
        "x_train = preproc_x(x_train)\n",
        "x_test = preproc_x(x_test)\n",
        "\n",
        "# Preprc the outputs\n",
        "y_train = preproc_y(y_train)\n",
        "y_test = preproc_y(y_test)"
      ],
      "execution_count": 5,
      "outputs": []
    },
    {
      "cell_type": "code",
      "metadata": {
        "id": "naPd4UKWWQ61",
        "colab_type": "code",
        "colab": {
          "base_uri": "https://localhost:8080/",
          "height": 375
        },
        "outputId": "4ab84f17-b3e9-4efc-80bd-51105357bcf4"
      },
      "source": [
        "\"\"\"Code Here\n",
        "建立你的神經網路\n",
        "\"\"\"\n",
        "def build_mlp(input_shape , output_shape = 10 , neurons = [256 , 256 , 128 , 64]):\n",
        "\n",
        "  print('para_shape:' , input_shape)\n",
        "  # 傳入的參數input_shape本身是(a , )\n",
        "\n",
        "  inputs = keras.layers.Input(shape = input_shape)\n",
        "  \n",
        "  for i , neuron in enumerate(neurons):\n",
        "    if i == 0:\n",
        "      x = keras.layers.Dense(units = neuron , activation = 'relu' , name = 'hidden_layer'+str(i+1))(inputs)\n",
        "    else:\n",
        "      x = keras.layers.Dense(units = neuron , activation = 'relu' , name = 'hidden_layer'+str(i+1))(x)\n",
        "    \n",
        "    \n",
        "  outputs = keras.layers.Dense(units = output_shape , activation = 'softmax' , name = 'output')(x)\n",
        "  \n",
        "  model = keras.models.Model(inputs = [inputs] , outputs = [outputs])\n",
        "  return model\n",
        "\n",
        "model = build_mlp(x_train.shape[1:])\n",
        "model.summary()"
      ],
      "execution_count": 18,
      "outputs": [
        {
          "output_type": "stream",
          "text": [
            "para_shape: (3072,)\n",
            "Model: \"model_3\"\n",
            "_________________________________________________________________\n",
            "Layer (type)                 Output Shape              Param #   \n",
            "=================================================================\n",
            "input_11 (InputLayer)        (None, 3072)              0         \n",
            "_________________________________________________________________\n",
            "hidden_layer1 (Dense)        (None, 256)               786688    \n",
            "_________________________________________________________________\n",
            "hidden_layer2 (Dense)        (None, 256)               65792     \n",
            "_________________________________________________________________\n",
            "hidden_layer3 (Dense)        (None, 128)               32896     \n",
            "_________________________________________________________________\n",
            "hidden_layer4 (Dense)        (None, 64)                8256      \n",
            "_________________________________________________________________\n",
            "output (Dense)               (None, 10)                650       \n",
            "=================================================================\n",
            "Total params: 894,282\n",
            "Trainable params: 894,282\n",
            "Non-trainable params: 0\n",
            "_________________________________________________________________\n"
          ],
          "name": "stdout"
        }
      ]
    },
    {
      "cell_type": "code",
      "metadata": {
        "id": "Jdcdn_rcWQ65",
        "colab_type": "code",
        "colab": {}
      },
      "source": [
        "## 超參數設定\n",
        "LEARNING_RATE = 0.001\n",
        "EPOCHS = 20\n",
        "BATCH_SIZE = 256"
      ],
      "execution_count": 19,
      "outputs": []
    },
    {
      "cell_type": "code",
      "metadata": {
        "id": "8iCMzC76WQ68",
        "colab_type": "code",
        "colab": {}
      },
      "source": [
        "optimizer = keras.optimizers.Adam(lr=LEARNING_RATE)\n",
        "model.compile(loss=\"categorical_crossentropy\", metrics=[\"accuracy\"], optimizer=optimizer)"
      ],
      "execution_count": 20,
      "outputs": []
    },
    {
      "cell_type": "code",
      "metadata": {
        "id": "L5IdOZIUWQ7A",
        "colab_type": "code",
        "colab": {
          "base_uri": "https://localhost:8080/",
          "height": 733
        },
        "outputId": "d256fc0d-3736-47fc-f1fc-848c59ddc8d9"
      },
      "source": [
        "model.fit(x_train, y_train, \n",
        "          epochs=EPOCHS, \n",
        "          batch_size=BATCH_SIZE, \n",
        "          validation_data=(x_test, y_test), \n",
        "          shuffle=True)"
      ],
      "execution_count": 21,
      "outputs": [
        {
          "output_type": "stream",
          "text": [
            "Train on 50000 samples, validate on 10000 samples\n",
            "Epoch 1/20\n",
            "50000/50000 [==============================] - 3s 60us/step - loss: 1.9330 - accuracy: 0.2985 - val_loss: 1.7620 - val_accuracy: 0.3636\n",
            "Epoch 2/20\n",
            "50000/50000 [==============================] - 1s 24us/step - loss: 1.7108 - accuracy: 0.3851 - val_loss: 1.6580 - val_accuracy: 0.4110\n",
            "Epoch 3/20\n",
            "50000/50000 [==============================] - 1s 24us/step - loss: 1.6174 - accuracy: 0.4211 - val_loss: 1.5692 - val_accuracy: 0.4410\n",
            "Epoch 4/20\n",
            "50000/50000 [==============================] - 1s 25us/step - loss: 1.5525 - accuracy: 0.4458 - val_loss: 1.6300 - val_accuracy: 0.4182\n",
            "Epoch 5/20\n",
            "50000/50000 [==============================] - 1s 24us/step - loss: 1.5151 - accuracy: 0.4575 - val_loss: 1.5069 - val_accuracy: 0.4635\n",
            "Epoch 6/20\n",
            "50000/50000 [==============================] - 1s 25us/step - loss: 1.4661 - accuracy: 0.4781 - val_loss: 1.4889 - val_accuracy: 0.4688\n",
            "Epoch 7/20\n",
            "50000/50000 [==============================] - 1s 24us/step - loss: 1.4332 - accuracy: 0.4857 - val_loss: 1.4367 - val_accuracy: 0.4930\n",
            "Epoch 8/20\n",
            "50000/50000 [==============================] - 1s 24us/step - loss: 1.3991 - accuracy: 0.5009 - val_loss: 1.4497 - val_accuracy: 0.4877\n",
            "Epoch 9/20\n",
            "50000/50000 [==============================] - 1s 25us/step - loss: 1.3828 - accuracy: 0.5047 - val_loss: 1.4449 - val_accuracy: 0.4844\n",
            "Epoch 10/20\n",
            "50000/50000 [==============================] - 1s 26us/step - loss: 1.3617 - accuracy: 0.5115 - val_loss: 1.4305 - val_accuracy: 0.4878\n",
            "Epoch 11/20\n",
            "50000/50000 [==============================] - 1s 26us/step - loss: 1.3278 - accuracy: 0.5282 - val_loss: 1.4434 - val_accuracy: 0.4856\n",
            "Epoch 12/20\n",
            "50000/50000 [==============================] - 1s 24us/step - loss: 1.3051 - accuracy: 0.5333 - val_loss: 1.4189 - val_accuracy: 0.4979\n",
            "Epoch 13/20\n",
            "50000/50000 [==============================] - 1s 25us/step - loss: 1.2809 - accuracy: 0.5419 - val_loss: 1.4132 - val_accuracy: 0.4936\n",
            "Epoch 14/20\n",
            "50000/50000 [==============================] - 1s 24us/step - loss: 1.2642 - accuracy: 0.5480 - val_loss: 1.3997 - val_accuracy: 0.4996\n",
            "Epoch 15/20\n",
            "50000/50000 [==============================] - 1s 24us/step - loss: 1.2404 - accuracy: 0.5554 - val_loss: 1.4093 - val_accuracy: 0.4967\n",
            "Epoch 16/20\n",
            "50000/50000 [==============================] - 1s 27us/step - loss: 1.2290 - accuracy: 0.5610 - val_loss: 1.3952 - val_accuracy: 0.5034\n",
            "Epoch 17/20\n",
            "50000/50000 [==============================] - 1s 24us/step - loss: 1.2037 - accuracy: 0.5685 - val_loss: 1.4219 - val_accuracy: 0.5088\n",
            "Epoch 18/20\n",
            "50000/50000 [==============================] - 1s 27us/step - loss: 1.1862 - accuracy: 0.5750 - val_loss: 1.3667 - val_accuracy: 0.5165\n",
            "Epoch 19/20\n",
            "50000/50000 [==============================] - 1s 27us/step - loss: 1.1733 - accuracy: 0.5808 - val_loss: 1.3812 - val_accuracy: 0.5106\n",
            "Epoch 20/20\n",
            "50000/50000 [==============================] - 1s 25us/step - loss: 1.1572 - accuracy: 0.5857 - val_loss: 1.3975 - val_accuracy: 0.5135\n"
          ],
          "name": "stdout"
        },
        {
          "output_type": "execute_result",
          "data": {
            "text/plain": [
              "<keras.callbacks.callbacks.History at 0x7f520c319438>"
            ]
          },
          "metadata": {
            "tags": []
          },
          "execution_count": 21
        }
      ]
    },
    {
      "cell_type": "code",
      "metadata": {
        "id": "V_TlplZhWQ7D",
        "colab_type": "code",
        "colab": {
          "base_uri": "https://localhost:8080/",
          "height": 545
        },
        "outputId": "2b4f87e1-e17c-472b-850f-d98c039aa3f4"
      },
      "source": [
        "import matplotlib.pyplot as plt\n",
        "\n",
        "\n",
        "train_loss = model.history.history[\"loss\"]\n",
        "valid_loss = model.history.history[\"val_loss\"]\n",
        "\n",
        "train_acc = model.history.history[\"accuracy\"]\n",
        "valid_acc = model.history.history[\"val_accuracy\"]\n",
        "\n",
        "plt.plot(range(len(train_loss)), train_loss, label=\"train loss\")\n",
        "plt.plot(range(len(valid_loss)), valid_loss, label=\"valid loss\")\n",
        "plt.legend()\n",
        "plt.title(\"Loss\")\n",
        "plt.show()\n",
        "\n",
        "plt.plot(range(len(train_acc)), train_acc, label=\"train accuracy\")\n",
        "plt.plot(range(len(valid_acc)), valid_acc, label=\"valid accuracy\")\n",
        "plt.legend()\n",
        "plt.title(\"Accuracy\")\n",
        "plt.show()"
      ],
      "execution_count": 23,
      "outputs": [
        {
          "output_type": "display_data",
          "data": {
            "image/png": "[encoded data removed]",
            "text/plain": [
              "<Figure size 432x288 with 1 Axes>"
            ]
          },
          "metadata": {
            "tags": [],
            "needs_background": "light"
          }
        },
        {
          "output_type": "display_data",
          "data": {
            "image/png": "[encoded data removed]",
            "text/plain": [
              "<Figure size 432x288 with 1 Axes>"
            ]
          },
          "metadata": {
            "tags": [],
            "needs_background": "light"
          }
        }
      ]
    }
  ]
}