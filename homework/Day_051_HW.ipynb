{
  "nbformat": 4,
  "nbformat_minor": 0,
  "metadata": {
    "colab": {
      "name": "Day_051_HW.ipynb",
      "provenance": [],
      "collapsed_sections": []
    },
    "kernelspec": {
      "name": "python3",
      "display_name": "Python 3"
    }
  },
  "cells": [
    {
      "cell_type": "code",
      "metadata": {
        "id": "mwtZ38NOW4_P",
        "colab_type": "code",
        "outputId": "1265f7b8-f564-478e-cf80-7f7945b0098c",
        "colab": {
          "base_uri": "https://localhost:8080/",
          "height": 34
        }
      },
      "source": [
        "from google.colab import drive\n",
        "drive.mount('/content/drive')"
      ],
      "execution_count": 0,
      "outputs": [
        {
          "output_type": "stream",
          "text": [
            "Drive already mounted at /content/drive; to attempt to forcibly remount, call drive.mount(\"/content/drive\", force_remount=True).\n"
          ],
          "name": "stdout"
        }
      ]
    },
    {
      "cell_type": "code",
      "metadata": {
        "id": "9rsqq6R1X1nR",
        "colab_type": "code",
        "colab": {}
      },
      "source": [
        "import pandas as pd\n",
        "import numpy as np\n",
        "from IPython.display import display\n",
        "from sklearn.preprocessing import MinMaxScaler\n",
        "from sklearn.model_selection import train_test_split"
      ],
      "execution_count": 0,
      "outputs": []
    },
    {
      "cell_type": "code",
      "metadata": {
        "id": "RWa-em-yX9K0",
        "colab_type": "code",
        "colab": {}
      },
      "source": [
        "data_path = './drive/My Drive/ML_100/day51/'\n",
        "\n",
        "df_train = pd.read_csv(data_path + 'train_data.csv')\n",
        "df_test = pd.read_csv(data_path + 'test_features.csv')"
      ],
      "execution_count": 0,
      "outputs": []
    },
    {
      "cell_type": "code",
      "metadata": {
        "id": "LzAvlJFyiueF",
        "colab_type": "code",
        "outputId": "0f09535f-9853-41ad-fa80-8c07266bca88",
        "colab": {
          "base_uri": "https://localhost:8080/",
          "height": 118
        }
      },
      "source": [
        "# 檢查row , training data中，如果某個人的缺失值太多，則捨棄\n",
        "\n",
        "row_na = []\n",
        "\n",
        "for i in range(len(df_train.index)):\n",
        "  row_na.append( df_train.iloc[i].isnull().sum() )\n",
        "\n",
        "row_na = np.array(row_na)\n",
        "print(row_na)\n",
        "result = np.where(row_na > 17)\n",
        "print(result)"
      ],
      "execution_count": 0,
      "outputs": [
        {
          "output_type": "stream",
          "text": [
            "[ 4  5  5 11  5 13 12  5  2  5  5  4 10 11  2  5 10 18 12  7  5 11  5 11\n",
            " 11 16  6 12  9  5 18  5  5  5  5 16  5  8 16 12 13 15  6 10 15 10 10  5\n",
            " 10  4 14  5  5  5  7 13 16  3  9  4 11 16 17  7 11 18  4  9  2  5 17 11\n",
            " 13 16 16  5 16  8 11 18  4  7 11  5 15 11  6  5 12  5 10 10 15 10 17  5\n",
            "  5  4 17 15 17 11  5  9 16 16  6 20 12 12  7 10  6]\n",
            "(array([ 17,  30,  65,  79, 107]),)\n"
          ],
          "name": "stdout"
        }
      ]
    },
    {
      "cell_type": "code",
      "metadata": {
        "id": "EG1WcKFDpdk7",
        "colab_type": "code",
        "outputId": "19933189-ce31-407a-ab6f-e5cd317036ee",
        "colab": {
          "base_uri": "https://localhost:8080/",
          "height": 101
        }
      },
      "source": [
        "print(df_train.iloc[17]['name'] )\n",
        "print(df_train.iloc[30]['name'] )\n",
        "print(df_train.iloc[65]['name'] )\n",
        "print(df_train.iloc[79]['name'] )\n",
        "print(df_train.iloc[107]['name'] )"
      ],
      "execution_count": 0,
      "outputs": [
        {
          "output_type": "stream",
          "text": [
            "WROBEL BRUCE\n",
            "WHALEY DAVID A\n",
            "THE TRAVEL AGENCY IN THE PARK\n",
            "GRAMM WENDY L\n",
            "LOCKHART EUGENE E\n"
          ],
          "name": "stdout"
        }
      ]
    },
    {
      "cell_type": "code",
      "metadata": {
        "id": "pB9SHxqYp8QI",
        "colab_type": "code",
        "outputId": "1860376e-d23c-4b9a-974f-bac904bcaaa7",
        "colab": {
          "base_uri": "https://localhost:8080/",
          "height": 34
        }
      },
      "source": [
        "print(df_train.index)"
      ],
      "execution_count": 0,
      "outputs": [
        {
          "output_type": "stream",
          "text": [
            "RangeIndex(start=0, stop=113, step=1)\n"
          ],
          "name": "stdout"
        }
      ]
    },
    {
      "cell_type": "code",
      "metadata": {
        "id": "00t2HO3socI8",
        "colab_type": "code",
        "colab": {}
      },
      "source": [
        "df_train = df_train.drop([17 , 30 , 65 , 79 , 107] , axis = 0)"
      ],
      "execution_count": 0,
      "outputs": []
    },
    {
      "cell_type": "code",
      "metadata": {
        "id": "wBV7vIueoKE2",
        "colab_type": "code",
        "outputId": "3de217a8-fc15-48c8-f467-6208c5457245",
        "colab": {
          "base_uri": "https://localhost:8080/",
          "height": 215
        }
      },
      "source": [
        "train_Y = df_train['poi']\n",
        "name = df_test['name']\n",
        "df_train = df_train.drop(['name', 'poi'] , axis=1)\n",
        "df_test = df_test.drop(['name'] , axis=1)\n",
        "df = pd.concat([df_train,df_test])\n",
        "df.head()"
      ],
      "execution_count": 0,
      "outputs": [
        {
          "output_type": "execute_result",
          "data": {
            "text/html": [
              "<div>\n",
              "<style scoped>\n",
              "    .dataframe tbody tr th:only-of-type {\n",
              "        vertical-align: middle;\n",
              "    }\n",
              "\n",
              "    .dataframe tbody tr th {\n",
              "        vertical-align: top;\n",
              "    }\n",
              "\n",
              "    .dataframe thead th {\n",
              "        text-align: right;\n",
              "    }\n",
              "</style>\n",
              "<table border=\"1\" class=\"dataframe\">\n",
              "  <thead>\n",
              "    <tr style=\"text-align: right;\">\n",
              "      <th></th>\n",
              "      <th>bonus</th>\n",
              "      <th>deferral_payments</th>\n",
              "      <th>deferred_income</th>\n",
              "      <th>director_fees</th>\n",
              "      <th>email_address</th>\n",
              "      <th>exercised_stock_options</th>\n",
              "      <th>expenses</th>\n",
              "      <th>from_messages</th>\n",
              "      <th>from_poi_to_this_person</th>\n",
              "      <th>from_this_person_to_poi</th>\n",
              "      <th>loan_advances</th>\n",
              "      <th>long_term_incentive</th>\n",
              "      <th>other</th>\n",
              "      <th>restricted_stock</th>\n",
              "      <th>restricted_stock_deferred</th>\n",
              "      <th>salary</th>\n",
              "      <th>shared_receipt_with_poi</th>\n",
              "      <th>to_messages</th>\n",
              "      <th>total_payments</th>\n",
              "      <th>total_stock_value</th>\n",
              "    </tr>\n",
              "  </thead>\n",
              "  <tbody>\n",
              "    <tr>\n",
              "      <th>0</th>\n",
              "      <td>1750000.0</td>\n",
              "      <td>NaN</td>\n",
              "      <td>-3504386.0</td>\n",
              "      <td>NaN</td>\n",
              "      <td>ken.rice@enron.com</td>\n",
              "      <td>19794175.0</td>\n",
              "      <td>46950.0</td>\n",
              "      <td>18.0</td>\n",
              "      <td>42.0</td>\n",
              "      <td>4.0</td>\n",
              "      <td>NaN</td>\n",
              "      <td>1617011.0</td>\n",
              "      <td>174839.0</td>\n",
              "      <td>2748364.0</td>\n",
              "      <td>NaN</td>\n",
              "      <td>420636.0</td>\n",
              "      <td>864.0</td>\n",
              "      <td>905.0</td>\n",
              "      <td>505050.0</td>\n",
              "      <td>22542539.0</td>\n",
              "    </tr>\n",
              "    <tr>\n",
              "      <th>1</th>\n",
              "      <td>5600000.0</td>\n",
              "      <td>NaN</td>\n",
              "      <td>NaN</td>\n",
              "      <td>NaN</td>\n",
              "      <td>jeff.skilling@enron.com</td>\n",
              "      <td>19250000.0</td>\n",
              "      <td>29336.0</td>\n",
              "      <td>108.0</td>\n",
              "      <td>88.0</td>\n",
              "      <td>30.0</td>\n",
              "      <td>NaN</td>\n",
              "      <td>1920000.0</td>\n",
              "      <td>22122.0</td>\n",
              "      <td>6843672.0</td>\n",
              "      <td>NaN</td>\n",
              "      <td>1111258.0</td>\n",
              "      <td>2042.0</td>\n",
              "      <td>3627.0</td>\n",
              "      <td>8682716.0</td>\n",
              "      <td>26093672.0</td>\n",
              "    </tr>\n",
              "    <tr>\n",
              "      <th>2</th>\n",
              "      <td>200000.0</td>\n",
              "      <td>NaN</td>\n",
              "      <td>-4167.0</td>\n",
              "      <td>NaN</td>\n",
              "      <td>rex.shelby@enron.com</td>\n",
              "      <td>1624396.0</td>\n",
              "      <td>22884.0</td>\n",
              "      <td>39.0</td>\n",
              "      <td>13.0</td>\n",
              "      <td>14.0</td>\n",
              "      <td>NaN</td>\n",
              "      <td>NaN</td>\n",
              "      <td>1573324.0</td>\n",
              "      <td>869220.0</td>\n",
              "      <td>NaN</td>\n",
              "      <td>211844.0</td>\n",
              "      <td>91.0</td>\n",
              "      <td>225.0</td>\n",
              "      <td>2003885.0</td>\n",
              "      <td>2493616.0</td>\n",
              "    </tr>\n",
              "    <tr>\n",
              "      <th>3</th>\n",
              "      <td>800000.0</td>\n",
              "      <td>NaN</td>\n",
              "      <td>NaN</td>\n",
              "      <td>NaN</td>\n",
              "      <td>michael.kopper@enron.com</td>\n",
              "      <td>NaN</td>\n",
              "      <td>118134.0</td>\n",
              "      <td>NaN</td>\n",
              "      <td>NaN</td>\n",
              "      <td>NaN</td>\n",
              "      <td>NaN</td>\n",
              "      <td>602671.0</td>\n",
              "      <td>907502.0</td>\n",
              "      <td>985032.0</td>\n",
              "      <td>NaN</td>\n",
              "      <td>224305.0</td>\n",
              "      <td>NaN</td>\n",
              "      <td>NaN</td>\n",
              "      <td>2652612.0</td>\n",
              "      <td>985032.0</td>\n",
              "    </tr>\n",
              "    <tr>\n",
              "      <th>4</th>\n",
              "      <td>1250000.0</td>\n",
              "      <td>NaN</td>\n",
              "      <td>-262500.0</td>\n",
              "      <td>NaN</td>\n",
              "      <td>christopher.calger@enron.com</td>\n",
              "      <td>NaN</td>\n",
              "      <td>35818.0</td>\n",
              "      <td>144.0</td>\n",
              "      <td>199.0</td>\n",
              "      <td>25.0</td>\n",
              "      <td>NaN</td>\n",
              "      <td>375304.0</td>\n",
              "      <td>486.0</td>\n",
              "      <td>126027.0</td>\n",
              "      <td>NaN</td>\n",
              "      <td>240189.0</td>\n",
              "      <td>2188.0</td>\n",
              "      <td>2598.0</td>\n",
              "      <td>1639297.0</td>\n",
              "      <td>126027.0</td>\n",
              "    </tr>\n",
              "  </tbody>\n",
              "</table>\n",
              "</div>"
            ],
            "text/plain": [
              "       bonus  deferral_payments  ...  total_payments  total_stock_value\n",
              "0  1750000.0                NaN  ...        505050.0         22542539.0\n",
              "1  5600000.0                NaN  ...       8682716.0         26093672.0\n",
              "2   200000.0                NaN  ...       2003885.0          2493616.0\n",
              "3   800000.0                NaN  ...       2652612.0           985032.0\n",
              "4  1250000.0                NaN  ...       1639297.0           126027.0\n",
              "\n",
              "[5 rows x 20 columns]"
            ]
          },
          "metadata": {
            "tags": []
          },
          "execution_count": 53
        }
      ]
    },
    {
      "cell_type": "code",
      "metadata": {
        "id": "MIKxo5gMbjDE",
        "colab_type": "code",
        "outputId": "3ab9c367-5238-48f1-d7dd-3c7d4d1ab763",
        "colab": {
          "base_uri": "https://localhost:8080/",
          "height": 343
        }
      },
      "source": [
        "# 檢查 DataFrame 空缺值的狀態\n",
        "# 檢查 col\n",
        "def na_check(df_data):\n",
        "    # data_na is a Series\n",
        "    data_na = (df_data.isnull().sum() / len(df_data)) * 100\n",
        "    data_na = data_na.drop(data_na[data_na.values == 0].index).sort_values(ascending=False)\n",
        "    missing_data = pd.DataFrame({'Missing Ratio' :data_na})\n",
        "    display(missing_data.head(10))\n",
        "na_check(df)"
      ],
      "execution_count": 0,
      "outputs": [
        {
          "output_type": "display_data",
          "data": {
            "text/html": [
              "<div>\n",
              "<style scoped>\n",
              "    .dataframe tbody tr th:only-of-type {\n",
              "        vertical-align: middle;\n",
              "    }\n",
              "\n",
              "    .dataframe tbody tr th {\n",
              "        vertical-align: top;\n",
              "    }\n",
              "\n",
              "    .dataframe thead th {\n",
              "        text-align: right;\n",
              "    }\n",
              "</style>\n",
              "<table border=\"1\" class=\"dataframe\">\n",
              "  <thead>\n",
              "    <tr style=\"text-align: right;\">\n",
              "      <th></th>\n",
              "      <th>Missing Ratio</th>\n",
              "    </tr>\n",
              "  </thead>\n",
              "  <tbody>\n",
              "    <tr>\n",
              "      <th>loan_advances</th>\n",
              "      <td>97.163121</td>\n",
              "    </tr>\n",
              "    <tr>\n",
              "      <th>director_fees</th>\n",
              "      <td>88.652482</td>\n",
              "    </tr>\n",
              "    <tr>\n",
              "      <th>restricted_stock_deferred</th>\n",
              "      <td>87.234043</td>\n",
              "    </tr>\n",
              "    <tr>\n",
              "      <th>deferral_payments</th>\n",
              "      <td>72.340426</td>\n",
              "    </tr>\n",
              "    <tr>\n",
              "      <th>deferred_income</th>\n",
              "      <td>65.248227</td>\n",
              "    </tr>\n",
              "    <tr>\n",
              "      <th>long_term_incentive</th>\n",
              "      <td>53.191489</td>\n",
              "    </tr>\n",
              "    <tr>\n",
              "      <th>bonus</th>\n",
              "      <td>41.843972</td>\n",
              "    </tr>\n",
              "    <tr>\n",
              "      <th>from_messages</th>\n",
              "      <td>39.007092</td>\n",
              "    </tr>\n",
              "    <tr>\n",
              "      <th>from_poi_to_this_person</th>\n",
              "      <td>39.007092</td>\n",
              "    </tr>\n",
              "    <tr>\n",
              "      <th>from_this_person_to_poi</th>\n",
              "      <td>39.007092</td>\n",
              "    </tr>\n",
              "  </tbody>\n",
              "</table>\n",
              "</div>"
            ],
            "text/plain": [
              "                           Missing Ratio\n",
              "loan_advances                  97.163121\n",
              "director_fees                  88.652482\n",
              "restricted_stock_deferred      87.234043\n",
              "deferral_payments              72.340426\n",
              "deferred_income                65.248227\n",
              "long_term_incentive            53.191489\n",
              "bonus                          41.843972\n",
              "from_messages                  39.007092\n",
              "from_poi_to_this_person        39.007092\n",
              "from_this_person_to_poi        39.007092"
            ]
          },
          "metadata": {
            "tags": []
          }
        }
      ]
    },
    {
      "cell_type": "code",
      "metadata": {
        "id": "ZMlTR4e0cg1F",
        "colab_type": "code",
        "outputId": "3cb331d8-dc32-48ed-d0b4-075c39aa42fd",
        "colab": {
          "base_uri": "https://localhost:8080/",
          "height": 34
        }
      },
      "source": [
        "# email address can be discarded\n",
        "df = df.drop(['email_address'] , axis = 1)\n",
        "print(df.shape)"
      ],
      "execution_count": 0,
      "outputs": [
        {
          "output_type": "stream",
          "text": [
            "(141, 19)\n"
          ],
          "name": "stdout"
        }
      ]
    },
    {
      "cell_type": "code",
      "metadata": {
        "id": "8bXFnSRLne6K",
        "colab_type": "code",
        "outputId": "48306812-3b4c-4a11-a5b4-1d044d3139d0",
        "colab": {
          "base_uri": "https://localhost:8080/",
          "height": 151
        }
      },
      "source": [
        "# 檢查email有沒有異常值\n",
        "print('max_to_messages' , df['to_messages'].max())\n",
        "print('mean_to_messages' , df['to_messages'].mean())\n",
        "\n",
        "print('max_from_messages' , df['from_messages'].max())\n",
        "print('mean_from_messages' , df['from_messages'].mean())\n",
        "\n",
        "print('max_this_preson2poi' , df['from_this_person_to_poi'].max())\n",
        "print('mean_this_preson2poi' , df['from_this_person_to_poi'].mean())\n",
        "\n",
        "print('max_poi2this_person' , df['from_poi_to_this_person'].max())\n",
        "print('mean_poi2this_person' , df['from_poi_to_this_person'].mean())"
      ],
      "execution_count": 0,
      "outputs": [
        {
          "output_type": "stream",
          "text": [
            "max_to_messages 15149.0\n",
            "mean_to_messages 2073.860465116279\n",
            "max_from_messages 14368.0\n",
            "mean_from_messages 608.7906976744187\n",
            "max_this_preson2poi 609.0\n",
            "mean_this_preson2poi 41.23255813953488\n",
            "max_poi2this_person 528.0\n",
            "mean_poi2this_person 64.8953488372093\n"
          ],
          "name": "stdout"
        }
      ]
    },
    {
      "cell_type": "code",
      "metadata": {
        "id": "DX-laG3eqcnQ",
        "colab_type": "code",
        "colab": {}
      },
      "source": [
        "# 新增feature\n",
        "# 以比例顯示\n",
        "df['this_preson2poi_ratio'] = df['from_this_person_to_poi'].divide(df['from_messages'] , fill_value = 0.0)\n",
        "df['poi2this_person_ratio'] = df['from_poi_to_this_person'].divide(df['to_messages'] , fill_value = 0.0)\n",
        "\n",
        "df['bonus_to_salary'] = df['bonus'].divide(df['salary'] , fill_value=0.0)\n",
        "df['bonus_to_total'] = df['bonus'].divide(df['total_payments'] , fill_value=0.0)\n",
        "\n",
        "df['shared_receipt_poi_ratio'] = df['shared_receipt_with_poi'].divide(df['to_messages'] , fill_value = 0.0)\n",
        "\n",
        "df['this_preson2poi_ratio'] = df['this_preson2poi_ratio'].fillna(0.0)\n",
        "df['poi2this_person_ratio'] = df['poi2this_person_ratio'].fillna(0.0)\n",
        "\n",
        "df['shared_receipt_poi_ratio'] = df['shared_receipt_poi_ratio'].fillna(0.0)\n",
        "df['bonus_to_salary'] = df['bonus_to_salary'].fillna(0.0)\n",
        "df['bonus_to_total'] = df['bonus_to_total'].fillna(0.0)"
      ],
      "execution_count": 0,
      "outputs": []
    },
    {
      "cell_type": "code",
      "metadata": {
        "id": "WIU5KfcaefQ4",
        "colab_type": "code",
        "colab": {}
      },
      "source": [
        "# 以中位數填補to_messages和from_messages\n",
        "# to_messages:別人寄過來\n",
        "df['to_messages'] = df['to_messages'].fillna(df['to_messages'].median())\n",
        "df['from_messages'] = df['from_messages'].fillna(df['from_messages'].median())\n",
        "\n",
        "# 以中位數填補from_this_person_to_poi和from_poi_to_this_person\n",
        "df['from_this_person_to_poi'] = df['from_this_person_to_poi'].fillna(df['from_this_person_to_poi'].median())\n",
        "df['from_poi_to_this_person'] = df['from_poi_to_this_person'].fillna(df['from_poi_to_this_person'].median())\n",
        "\n",
        "# 新增feature:\n",
        "df['from_this_person_to_not_poi'] = df['from_messages'] - df['from_this_person_to_poi']\n",
        "df['from_not_poi_to_this_person'] = df['to_messages'] - df['from_poi_to_this_person']"
      ],
      "execution_count": 0,
      "outputs": []
    },
    {
      "cell_type": "code",
      "metadata": {
        "id": "4DxhdqlgsTvA",
        "colab_type": "code",
        "outputId": "ecd404d6-3dd0-4414-d1df-fb27291872f3",
        "colab": {
          "base_uri": "https://localhost:8080/",
          "height": 101
        }
      },
      "source": [
        "# 檢查財務的特徵的異常值\n",
        "# Salary應為百萬等級\n",
        "print('max_salary' , df['salary'].max())\n",
        "print('mean_salary' , df['salary'].mean())\n",
        "\n",
        "print('max_deferral_payments' , df['deferral_payments'].max())\n",
        "print('min_deferral_payments' , df['deferral_payments'].min())\n",
        "print('mean_deferral_payments' , df['deferral_payments'].mean())\n"
      ],
      "execution_count": 0,
      "outputs": [
        {
          "output_type": "stream",
          "text": [
            "max_salary 26704229.0\n",
            "mean_salary 562194.2947368422\n",
            "max_deferral_payments 32083396.0\n",
            "min_deferral_payments -102500.0\n",
            "mean_deferral_payments 1642674.1538461538\n"
          ],
          "name": "stdout"
        }
      ]
    },
    {
      "cell_type": "code",
      "metadata": {
        "id": "wRz1s61JzHTO",
        "colab_type": "code",
        "outputId": "25740b22-5c88-4277-e840-cea110147220",
        "colab": {
          "base_uri": "https://localhost:8080/",
          "height": 34
        }
      },
      "source": [
        "df['salary'] = df['salary'].fillna(0.0)\n",
        "df.loc[df['salary'] == 26704229.0 , 'salary'] = df['salary'].median()\n",
        "print('max_salary' , df['salary'].max())"
      ],
      "execution_count": 0,
      "outputs": [
        {
          "output_type": "stream",
          "text": [
            "max_salary 1111258.0\n"
          ],
          "name": "stdout"
        }
      ]
    },
    {
      "cell_type": "code",
      "metadata": {
        "id": "WJ7MXsE5wBwm",
        "colab_type": "code",
        "colab": {}
      },
      "source": [
        "# 小於0或超過七位數\n",
        "# 參考:https://stackoverflow.com/questions/17729853/replace-value-for-a-selected-cell-in-pandas-dataframe-without-using-index\n",
        "df.loc[ (df['deferral_payments'] < 0 ) | (df['deferral_payments'] > 9999999) , 'deferral_payments' ] = df['deferral_payments'].median()\n",
        "df['deferral_payments'] = df['deferral_payments'].fillna(df['deferral_payments'].mean())"
      ],
      "execution_count": 0,
      "outputs": []
    },
    {
      "cell_type": "code",
      "metadata": {
        "id": "9Oa6TJOhKV2R",
        "colab_type": "code",
        "colab": {}
      },
      "source": [
        "df['bonus'] = df['bonus'].fillna(df['bonus'].median())\n",
        "df['deferred_income'] = df['deferred_income'].fillna(df['deferred_income'].median())\n",
        "df['expenses'] = df['expenses'].fillna(df['expenses'].median())\n",
        "df['total_payments'] = df['total_payments'].fillna(df['total_payments'].median())\n",
        "df['total_stock_value'] = df['total_stock_value'].fillna(df['total_stock_value'].median())\n",
        "df['exercised_stock_options'] = df['exercised_stock_options'].fillna(df['exercised_stock_options'].median())\n",
        "df['long_term_incentive'] = df['long_term_incentive'].fillna(df['long_term_incentive'].median())\n",
        "df['restricted_stock'] = df['restricted_stock'].fillna(df['restricted_stock'].median())\n",
        "df['other'] = df['other'].fillna(df['other'].median())"
      ],
      "execution_count": 0,
      "outputs": []
    },
    {
      "cell_type": "code",
      "metadata": {
        "id": "1NnpVixbxESw",
        "colab_type": "code",
        "colab": {}
      },
      "source": [
        "df['shared_receipt_with_poi'] = df['shared_receipt_with_poi'].fillna(0.0)"
      ],
      "execution_count": 0,
      "outputs": []
    },
    {
      "cell_type": "code",
      "metadata": {
        "id": "VibYIerILWps",
        "colab_type": "code",
        "colab": {}
      },
      "source": [
        "df = df.drop(['director_fees'] , axis = 1)\n",
        "df = df.drop(['loan_advances'] , axis = 1)\n",
        "df = df.drop(['restricted_stock_deferred'] , axis = 1)"
      ],
      "execution_count": 0,
      "outputs": []
    },
    {
      "cell_type": "code",
      "metadata": {
        "id": "mB2H0xOcPPZI",
        "colab_type": "code",
        "outputId": "c49e088e-a8a0-4859-c816-f3d74d54f12a",
        "colab": {
          "base_uri": "https://localhost:8080/",
          "height": 47
        }
      },
      "source": [
        "na_check(df)"
      ],
      "execution_count": 0,
      "outputs": [
        {
          "output_type": "display_data",
          "data": {
            "text/html": [
              "<div>\n",
              "<style scoped>\n",
              "    .dataframe tbody tr th:only-of-type {\n",
              "        vertical-align: middle;\n",
              "    }\n",
              "\n",
              "    .dataframe tbody tr th {\n",
              "        vertical-align: top;\n",
              "    }\n",
              "\n",
              "    .dataframe thead th {\n",
              "        text-align: right;\n",
              "    }\n",
              "</style>\n",
              "<table border=\"1\" class=\"dataframe\">\n",
              "  <thead>\n",
              "    <tr style=\"text-align: right;\">\n",
              "      <th></th>\n",
              "      <th>Missing Ratio</th>\n",
              "    </tr>\n",
              "  </thead>\n",
              "  <tbody>\n",
              "  </tbody>\n",
              "</table>\n",
              "</div>"
            ],
            "text/plain": [
              "Empty DataFrame\n",
              "Columns: [Missing Ratio]\n",
              "Index: []"
            ]
          },
          "metadata": {
            "tags": []
          }
        }
      ]
    },
    {
      "cell_type": "code",
      "metadata": {
        "id": "Y5uJmvjpxPjF",
        "colab_type": "code",
        "colab": {}
      },
      "source": [
        "# log scale\n",
        "df['bonus'] = np.log1p(df['bonus'])\n",
        "df['exercised_stock_options'] = np.log1p(df['exercised_stock_options'])\n",
        "df['total_payments'] = np.log1p(df['total_payments'])"
      ],
      "execution_count": 0,
      "outputs": []
    },
    {
      "cell_type": "code",
      "metadata": {
        "id": "F0KWmWI6zSHh",
        "colab_type": "code",
        "outputId": "69df808e-e1f3-4dad-bb31-b48e5ceb0fbd",
        "colab": {
          "base_uri": "https://localhost:8080/",
          "height": 47
        }
      },
      "source": [
        "na_check(df)"
      ],
      "execution_count": 0,
      "outputs": [
        {
          "output_type": "display_data",
          "data": {
            "text/html": [
              "<div>\n",
              "<style scoped>\n",
              "    .dataframe tbody tr th:only-of-type {\n",
              "        vertical-align: middle;\n",
              "    }\n",
              "\n",
              "    .dataframe tbody tr th {\n",
              "        vertical-align: top;\n",
              "    }\n",
              "\n",
              "    .dataframe thead th {\n",
              "        text-align: right;\n",
              "    }\n",
              "</style>\n",
              "<table border=\"1\" class=\"dataframe\">\n",
              "  <thead>\n",
              "    <tr style=\"text-align: right;\">\n",
              "      <th></th>\n",
              "      <th>Missing Ratio</th>\n",
              "    </tr>\n",
              "  </thead>\n",
              "  <tbody>\n",
              "  </tbody>\n",
              "</table>\n",
              "</div>"
            ],
            "text/plain": [
              "Empty DataFrame\n",
              "Columns: [Missing Ratio]\n",
              "Index: []"
            ]
          },
          "metadata": {
            "tags": []
          }
        }
      ]
    },
    {
      "cell_type": "code",
      "metadata": {
        "id": "uQq11mvmq1re",
        "colab_type": "code",
        "colab": {}
      },
      "source": [
        "# 將資料最大最小化\n",
        "df = MinMaxScaler().fit_transform(df)\n",
        "\n",
        "# 將前述轉換完畢資料 df , 重新切成 train_X, test_X\n",
        "train_num = train_Y.shape[0]\n",
        "train_X = df[:train_num]\n",
        "test_X = df[train_num:]\n",
        "\n",
        "x_train , x_val , y_train , y_val = train_test_split(train_X, train_Y , test_size = 0.25 , random_state = 4)"
      ],
      "execution_count": 0,
      "outputs": []
    },
    {
      "cell_type": "code",
      "metadata": {
        "id": "HJvafHkPP4FR",
        "colab_type": "code",
        "colab": {}
      },
      "source": [
        "from sklearn import metrics\n",
        "from sklearn.linear_model import LogisticRegression\n",
        "from sklearn.ensemble import GradientBoostingClassifier, RandomForestClassifier\n",
        "from sklearn.model_selection import GridSearchCV\n",
        "\n",
        "n_estimators = [100, 200, 250 , 300]\n",
        "max_depth = [2 , 3 , 4 , 6 ]\n",
        "param_grid = dict(n_estimators=n_estimators, max_depth=max_depth)\n",
        "\n",
        "# 尚未使用GridSearchCV\n",
        "gdbt = GradientBoostingClassifier(tol=100, subsample=0.75, n_estimators=250, max_features=20,\n",
        "                                  max_depth=6, learning_rate=0.03)\n",
        "\n",
        "\n",
        "rf = RandomForestClassifier(n_estimators=100, min_samples_split=2, min_samples_leaf=1, \n",
        "                            max_features='sqrt', max_depth=6, bootstrap=True)"
      ],
      "execution_count": 0,
      "outputs": []
    },
    {
      "cell_type": "code",
      "metadata": {
        "id": "ZB68jd5nQDVt",
        "colab_type": "code",
        "colab": {}
      },
      "source": [
        "rf.fit(x_train, y_train)\n",
        "rf_pred = rf.predict_proba(x_val)[:,1]"
      ],
      "execution_count": 0,
      "outputs": []
    },
    {
      "cell_type": "code",
      "metadata": {
        "id": "118R9ls2QYy9",
        "colab_type": "code",
        "outputId": "0580327b-8311-4aaa-b4a5-744fef62acc5",
        "colab": {
          "base_uri": "https://localhost:8080/",
          "height": 34
        }
      },
      "source": [
        "auc = metrics.roc_auc_score(y_val , rf_pred)\n",
        "print('auc: ' , auc)"
      ],
      "execution_count": 0,
      "outputs": [
        {
          "output_type": "stream",
          "text": [
            "auc:  0.861111111111111\n"
          ],
          "name": "stdout"
        }
      ]
    },
    {
      "cell_type": "code",
      "metadata": {
        "id": "fSTecud4cW7A",
        "colab_type": "code",
        "outputId": "69871a7f-1a19-43c9-cf5d-479648486baa",
        "colab": {
          "base_uri": "https://localhost:8080/",
          "height": 84
        }
      },
      "source": [
        "# 使用GridSearchCV\n",
        "grid_search = GridSearchCV(rf, param_grid, scoring=\"roc_auc\", n_jobs=-1, verbose=1)\n",
        "grid_result = grid_search.fit(x_train, y_train)\n",
        "\n",
        "rf_best_param = RandomForestClassifier(n_estimators = grid_result.best_params_['n_estimators'] , min_samples_split=2, min_samples_leaf=1, \n",
        "                            max_features='sqrt' , max_depth = grid_result.best_params_['max_depth'] , bootstrap=True)\n",
        "\n",
        "rf_best_param.fit(x_train , y_train)\n",
        "rf_best_param_pred = rf_best_param.predict_proba(x_val)[:,1]"
      ],
      "execution_count": 0,
      "outputs": [
        {
          "output_type": "stream",
          "text": [
            "Fitting 5 folds for each of 16 candidates, totalling 80 fits\n"
          ],
          "name": "stdout"
        },
        {
          "output_type": "stream",
          "text": [
            "[Parallel(n_jobs=-1)]: Using backend LokyBackend with 2 concurrent workers.\n",
            "[Parallel(n_jobs=-1)]: Done  46 tasks      | elapsed:   11.9s\n",
            "[Parallel(n_jobs=-1)]: Done  80 out of  80 | elapsed:   20.7s finished\n"
          ],
          "name": "stderr"
        }
      ]
    },
    {
      "cell_type": "code",
      "metadata": {
        "id": "GS-g5EQ0yQ0o",
        "colab_type": "code",
        "outputId": "ed62e02d-71df-43da-e957-3eb82fbb810e",
        "colab": {
          "base_uri": "https://localhost:8080/",
          "height": 50
        }
      },
      "source": [
        "print(grid_result.best_params_['max_depth'])\n",
        "print(grid_result.best_params_['n_estimators'])"
      ],
      "execution_count": 0,
      "outputs": [
        {
          "output_type": "stream",
          "text": [
            "3\n",
            "200\n"
          ],
          "name": "stdout"
        }
      ]
    },
    {
      "cell_type": "code",
      "metadata": {
        "id": "USI_heT1du_a",
        "colab_type": "code",
        "outputId": "0e00115b-d5fc-4632-9ce1-3edc464de6b4",
        "colab": {
          "base_uri": "https://localhost:8080/",
          "height": 34
        }
      },
      "source": [
        "auc = metrics.roc_auc_score(y_val , rf_best_param_pred)\n",
        "print('auc: ' , auc)"
      ],
      "execution_count": 0,
      "outputs": [
        {
          "output_type": "stream",
          "text": [
            "auc:  0.8333333333333334\n"
          ],
          "name": "stdout"
        }
      ]
    },
    {
      "cell_type": "code",
      "metadata": {
        "id": "U_0B15huSAvZ",
        "colab_type": "code",
        "colab": {}
      },
      "source": [
        "store_path = './drive/My Drive/ML_100/day51/'"
      ],
      "execution_count": 0,
      "outputs": []
    },
    {
      "cell_type": "code",
      "metadata": {
        "id": "CT5wWbrYRfwi",
        "colab_type": "code",
        "colab": {}
      },
      "source": [
        "# 0.77\n",
        "rf.fit(train_X , train_Y)\n",
        "rf_pred = rf.predict_proba(test_X)[:,1]\n",
        "sub = pd.DataFrame({'name': name, 'poi': rf_pred})\n",
        "sub.to_csv(store_path + 'midterm_rf.csv', index=False)"
      ],
      "execution_count": 0,
      "outputs": []
    },
    {
      "cell_type": "code",
      "metadata": {
        "id": "njPNJt5eeCD-",
        "colab_type": "code",
        "colab": {}
      },
      "source": [
        "# 0.82\n",
        "rf_best_param.fit(train_X , train_Y)\n",
        "rf_best_param_pred = rf_best_param.predict_proba(test_X)[:,1]\n",
        "sub = pd.DataFrame({'name': name, 'poi': rf_best_param_pred})\n",
        "sub.to_csv(store_path + 'midterm_rf_best_param.csv', index=False)"
      ],
      "execution_count": 0,
      "outputs": []
    }
  ]
}