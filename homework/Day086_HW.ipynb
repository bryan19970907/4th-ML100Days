{
  "nbformat": 4,
  "nbformat_minor": 0,
  "metadata": {
    "kernelspec": {
      "display_name": "Python 3",
      "language": "python",
      "name": "python3"
    },
    "language_info": {
      "codemirror_mode": {
        "name": "ipython",
        "version": 3
      },
      "file_extension": ".py",
      "mimetype": "text/x-python",
      "name": "python",
      "nbconvert_exporter": "python",
      "pygments_lexer": "ipython3",
      "version": "3.6.5"
    },
    "colab": {
      "name": "Day086_HW.ipynb",
      "provenance": [],
      "collapsed_sections": []
    },
    "accelerator": "GPU"
  },
  "cells": [
    {
      "cell_type": "markdown",
      "metadata": {
        "id": "FOW1jAcxmwfp",
        "colab_type": "text"
      },
      "source": [
        "## Work\n",
        "1. 試比較 save_best_only 與否的差異\n",
        "2. 請僅存入將 save_weights_only 設定為 True, 並嘗試 reset ipynb 並將模型與權重重新建回並預測 x_test"
      ]
    },
    {
      "cell_type": "code",
      "metadata": {
        "id": "0_l05YCZoP09",
        "colab_type": "code",
        "colab": {
          "base_uri": "https://localhost:8080/",
          "height": 122
        },
        "outputId": "70551c4d-43ee-48b7-dae7-fc7173df6f0e"
      },
      "source": [
        "from google.colab import drive\n",
        "drive.mount('/content/drive')"
      ],
      "execution_count": 11,
      "outputs": [
        {
          "output_type": "stream",
          "text": [
            "Go to this URL in a browser: https://accounts.google.com/o/oauth2/auth?client_id=947318989803-6bn6qk8qdgf4n4g3pfee6491hc0brc4i.apps.googleusercontent.com&redirect_uri=urn%3aietf%3awg%3aoauth%3a2.0%3aoob&response_type=code&scope=email%20https%3a%2f%2fwww.googleapis.com%2fauth%2fdocs.test%20https%3a%2f%2fwww.googleapis.com%2fauth%2fdrive%20https%3a%2f%2fwww.googleapis.com%2fauth%2fdrive.photos.readonly%20https%3a%2f%2fwww.googleapis.com%2fauth%2fpeopleapi.readonly\n",
            "\n",
            "Enter your authorization code:\n",
            "··········\n",
            "Mounted at /content/drive\n"
          ],
          "name": "stdout"
        }
      ]
    },
    {
      "cell_type": "code",
      "metadata": {
        "id": "_Rj-sv_GocJX",
        "colab_type": "code",
        "colab": {
          "base_uri": "https://localhost:8080/",
          "height": 34
        },
        "outputId": "74ef22d8-fcdc-4706-d132-bc6e622c70a3"
      },
      "source": [
        "!pwd"
      ],
      "execution_count": 12,
      "outputs": [
        {
          "output_type": "stream",
          "text": [
            "/content\n"
          ],
          "name": "stdout"
        }
      ]
    },
    {
      "cell_type": "code",
      "metadata": {
        "id": "0EgVePsboq22",
        "colab_type": "code",
        "colab": {
          "base_uri": "https://localhost:8080/",
          "height": 34
        },
        "outputId": "993a8d90-a211-49ee-baac-6afbcb0a7a77"
      },
      "source": [
        "%cd drive/My Drive/ML_100/day86 "
      ],
      "execution_count": 13,
      "outputs": [
        {
          "output_type": "stream",
          "text": [
            "/content/drive/My Drive/ML_100/day86\n"
          ],
          "name": "stdout"
        }
      ]
    },
    {
      "cell_type": "code",
      "metadata": {
        "id": "QjSN3cM4mwfr",
        "colab_type": "code",
        "colab": {
          "base_uri": "https://localhost:8080/",
          "height": 34
        },
        "outputId": "3dba3c80-6c6c-4b3d-b5c9-6c168948191a"
      },
      "source": [
        "import os\n",
        "import keras\n",
        "\n",
        "# Disable GPU\n",
        "# os.environ[\"CUDA_VISIBLE_DEVICES\"] = \"\""
      ],
      "execution_count": 1,
      "outputs": [
        {
          "output_type": "stream",
          "text": [
            "Using TensorFlow backend.\n"
          ],
          "name": "stderr"
        }
      ]
    },
    {
      "cell_type": "code",
      "metadata": {
        "id": "k3svg7Frmwfw",
        "colab_type": "code",
        "colab": {
          "base_uri": "https://localhost:8080/",
          "height": 51
        },
        "outputId": "e8ea657a-af6d-44b4-a077-404f12d1d7fe"
      },
      "source": [
        "train, test = keras.datasets.cifar10.load_data()"
      ],
      "execution_count": 2,
      "outputs": [
        {
          "output_type": "stream",
          "text": [
            "Downloading data from https://www.cs.toronto.edu/~kriz/cifar-10-python.tar.gz\n",
            "170500096/170498071 [==============================] - 11s 0us/step\n"
          ],
          "name": "stdout"
        }
      ]
    },
    {
      "cell_type": "code",
      "metadata": {
        "id": "4YZm1cu5mwf1",
        "colab_type": "code",
        "colab": {}
      },
      "source": [
        "## 資料前處理\n",
        "def preproc_x(x, flatten=True):\n",
        "    x = x / 255.\n",
        "    if flatten:\n",
        "        x = x.reshape((len(x), -1))\n",
        "    return x\n",
        "\n",
        "def preproc_y(y, num_classes=10):\n",
        "    if y.shape[-1] == 1:\n",
        "        y = keras.utils.to_categorical(y, num_classes)\n",
        "    return y    "
      ],
      "execution_count": 3,
      "outputs": []
    },
    {
      "cell_type": "code",
      "metadata": {
        "id": "oD6MKSP7mwf5",
        "colab_type": "code",
        "colab": {}
      },
      "source": [
        "x_train, y_train = train\n",
        "x_test, y_test = test\n",
        "\n",
        "# Preproc the inputs\n",
        "x_train = preproc_x(x_train)\n",
        "x_test = preproc_x(x_test)\n",
        "\n",
        "# Preprc the outputs\n",
        "y_train = preproc_y(y_train)\n",
        "y_test = preproc_y(y_test)"
      ],
      "execution_count": 4,
      "outputs": []
    },
    {
      "cell_type": "code",
      "metadata": {
        "id": "MbzQk6fkmwf8",
        "colab_type": "code",
        "colab": {}
      },
      "source": [
        "from keras.layers import BatchNormalization\n",
        "\n",
        "\"\"\"\n",
        "建立神經網路，並加入 BN layer\n",
        "\"\"\"\n",
        "def build_mlp(input_shape, output_units=10, num_neurons=[512, 256, 128]):\n",
        "    input_layer = keras.layers.Input(input_shape)\n",
        "    \n",
        "    for i, n_units in enumerate(num_neurons):\n",
        "        if i == 0:\n",
        "            x = keras.layers.Dense(units=n_units, \n",
        "                                   activation=\"relu\", \n",
        "                                   name=\"hidden_layer\"+str(i+1))(input_layer)\n",
        "            x = BatchNormalization()(x)\n",
        "        else:\n",
        "            x = keras.layers.Dense(units=n_units, \n",
        "                                   activation=\"relu\", \n",
        "                                   name=\"hidden_layer\"+str(i+1))(x)\n",
        "            x = BatchNormalization()(x)\n",
        "    \n",
        "    out = keras.layers.Dense(units=output_units, activation=\"softmax\", name=\"output\")(x)\n",
        "    \n",
        "    model = keras.models.Model(inputs=[input_layer], outputs=[out])\n",
        "    return model"
      ],
      "execution_count": 5,
      "outputs": []
    },
    {
      "cell_type": "code",
      "metadata": {
        "id": "VrZjusQLmwgA",
        "colab_type": "code",
        "colab": {}
      },
      "source": [
        "\"\"\"Code Here\n",
        "設定超參數\n",
        "\"\"\"\n",
        "LEARNING_RATE = 1e-3\n",
        "EPOCHS = 20\n",
        "BATCH_SIZE = 1024\n",
        "MOMENTUM = 0.95"
      ],
      "execution_count": 6,
      "outputs": []
    },
    {
      "cell_type": "code",
      "metadata": {
        "id": "4YvIyXEGmwgD",
        "colab_type": "code",
        "colab": {
          "base_uri": "https://localhost:8080/",
          "height": 1000
        },
        "outputId": "27ffdf66-cf70-4ba4-ef60-22ca2adb65fe"
      },
      "source": [
        "# 載入 Callbacks\n",
        "\"\"\"Code Here\n",
        "設定 callbacks: model checkpoint\n",
        "\"\"\"\n",
        "from keras.callbacks import ModelCheckpoint\n",
        "\n",
        "save = [True , False]\n",
        "\n",
        "results = {}\n",
        "\"\"\"Code Here\n",
        "撰寫你的訓練流程並將結果用 dictionary 紀錄\n",
        "\"\"\"\n",
        "\n",
        "for save in (save):\n",
        "    keras.backend.clear_session() # 把舊的 Graph 清掉\n",
        "\n",
        "    model = build_mlp(input_shape=x_train.shape[1:])\n",
        "    \n",
        "    optimizer = keras.optimizers.SGD(lr = LEARNING_RATE, nesterov=True, momentum = MOMENTUM)\n",
        "    model.compile(loss=\"categorical_crossentropy\", metrics=[\"acc\"], optimizer=optimizer)\n",
        "\n",
        "    model_ckpt = ModelCheckpoint(filepath = './weights.{epoch:02d}-{val_loss:.2f}.hdf5' ,\n",
        "                             monitor = 'val_loss' ,\n",
        "                             save_best_only = save ,\n",
        "                             save_weights_only = True , \n",
        "                             verbose = 1\n",
        "                            )\n",
        "\n",
        "    model.fit(x_train, y_train, \n",
        "              epochs=EPOCHS, \n",
        "              batch_size=BATCH_SIZE, \n",
        "              validation_data=(x_test, y_test), \n",
        "              shuffle=True ,\n",
        "              callbacks = [model_ckpt]\n",
        "              )\n",
        "    \n",
        "    # Collect results\n",
        "    train_loss = model.history.history[\"loss\"]\n",
        "    valid_loss = model.history.history[\"val_loss\"]\n",
        "    train_acc = model.history.history[\"acc\"]\n",
        "    valid_acc = model.history.history[\"val_acc\"]\n",
        "    \n",
        "    exp_name_tag = \"exp-save_best_only:%s\" % str(save)\n",
        "    results[exp_name_tag] = {'train-loss': train_loss,\n",
        "                             'valid-loss': valid_loss,\n",
        "                             'train-acc': train_acc,\n",
        "                             'valid-acc': valid_acc}"
      ],
      "execution_count": 14,
      "outputs": [
        {
          "output_type": "stream",
          "text": [
            "Train on 50000 samples, validate on 10000 samples\n",
            "Epoch 1/20\n",
            "50000/50000 [==============================] - 2s 38us/step - loss: 2.2407 - acc: 0.2631 - val_loss: 2.1851 - val_acc: 0.1942\n",
            "\n",
            "Epoch 00001: val_loss improved from inf to 2.18508, saving model to ./weights.01-2.19.hdf5\n",
            "Epoch 2/20\n",
            "50000/50000 [==============================] - 2s 30us/step - loss: 1.7558 - acc: 0.3894 - val_loss: 1.9911 - val_acc: 0.2637\n",
            "\n",
            "Epoch 00002: val_loss improved from 2.18508 to 1.99106, saving model to ./weights.02-1.99.hdf5\n",
            "Epoch 3/20\n",
            "50000/50000 [==============================] - 2s 30us/step - loss: 1.6304 - acc: 0.4340 - val_loss: 1.8392 - val_acc: 0.3357\n",
            "\n",
            "Epoch 00003: val_loss improved from 1.99106 to 1.83922, saving model to ./weights.03-1.84.hdf5\n",
            "Epoch 4/20\n",
            "50000/50000 [==============================] - 2s 30us/step - loss: 1.5581 - acc: 0.4578 - val_loss: 1.7298 - val_acc: 0.3792\n",
            "\n",
            "Epoch 00004: val_loss improved from 1.83922 to 1.72983, saving model to ./weights.04-1.73.hdf5\n",
            "Epoch 5/20\n",
            "50000/50000 [==============================] - 2s 31us/step - loss: 1.5017 - acc: 0.4779 - val_loss: 1.6445 - val_acc: 0.4202\n",
            "\n",
            "Epoch 00005: val_loss improved from 1.72983 to 1.64449, saving model to ./weights.05-1.64.hdf5\n",
            "Epoch 6/20\n",
            "50000/50000 [==============================] - 2s 31us/step - loss: 1.4556 - acc: 0.4935 - val_loss: 1.5949 - val_acc: 0.4352\n",
            "\n",
            "Epoch 00006: val_loss improved from 1.64449 to 1.59491, saving model to ./weights.06-1.59.hdf5\n",
            "Epoch 7/20\n",
            "50000/50000 [==============================] - 2s 31us/step - loss: 1.4151 - acc: 0.5061 - val_loss: 1.5558 - val_acc: 0.4510\n",
            "\n",
            "Epoch 00007: val_loss improved from 1.59491 to 1.55582, saving model to ./weights.07-1.56.hdf5\n",
            "Epoch 8/20\n",
            "50000/50000 [==============================] - 2s 33us/step - loss: 1.3783 - acc: 0.5193 - val_loss: 1.5448 - val_acc: 0.4509\n",
            "\n",
            "Epoch 00008: val_loss improved from 1.55582 to 1.54475, saving model to ./weights.08-1.54.hdf5\n",
            "Epoch 9/20\n",
            "50000/50000 [==============================] - 2s 31us/step - loss: 1.3452 - acc: 0.5321 - val_loss: 1.4982 - val_acc: 0.4724\n",
            "\n",
            "Epoch 00009: val_loss improved from 1.54475 to 1.49824, saving model to ./weights.09-1.50.hdf5\n",
            "Epoch 10/20\n",
            "50000/50000 [==============================] - 2s 32us/step - loss: 1.3160 - acc: 0.5429 - val_loss: 1.4934 - val_acc: 0.4748\n",
            "\n",
            "Epoch 00010: val_loss improved from 1.49824 to 1.49341, saving model to ./weights.10-1.49.hdf5\n",
            "Epoch 11/20\n",
            "50000/50000 [==============================] - 2s 31us/step - loss: 1.2872 - acc: 0.5524 - val_loss: 1.4881 - val_acc: 0.4743\n",
            "\n",
            "Epoch 00011: val_loss improved from 1.49341 to 1.48807, saving model to ./weights.11-1.49.hdf5\n",
            "Epoch 12/20\n",
            "50000/50000 [==============================] - 2s 30us/step - loss: 1.2584 - acc: 0.5634 - val_loss: 1.4702 - val_acc: 0.4829\n",
            "\n",
            "Epoch 00012: val_loss improved from 1.48807 to 1.47021, saving model to ./weights.12-1.47.hdf5\n",
            "Epoch 13/20\n",
            "50000/50000 [==============================] - 2s 30us/step - loss: 1.2334 - acc: 0.5739 - val_loss: 1.4673 - val_acc: 0.4784\n",
            "\n",
            "Epoch 00013: val_loss improved from 1.47021 to 1.46734, saving model to ./weights.13-1.47.hdf5\n",
            "Epoch 14/20\n",
            "50000/50000 [==============================] - 2s 30us/step - loss: 1.2082 - acc: 0.5826 - val_loss: 1.4632 - val_acc: 0.4841\n",
            "\n",
            "Epoch 00014: val_loss improved from 1.46734 to 1.46317, saving model to ./weights.14-1.46.hdf5\n",
            "Epoch 15/20\n",
            "50000/50000 [==============================] - 1s 30us/step - loss: 1.1831 - acc: 0.5907 - val_loss: 1.4691 - val_acc: 0.4839\n",
            "\n",
            "Epoch 00015: val_loss did not improve from 1.46317\n",
            "Epoch 16/20\n",
            "50000/50000 [==============================] - 1s 30us/step - loss: 1.1601 - acc: 0.6004 - val_loss: 1.4663 - val_acc: 0.4829\n",
            "\n",
            "Epoch 00016: val_loss did not improve from 1.46317\n",
            "Epoch 17/20\n",
            "50000/50000 [==============================] - 2s 30us/step - loss: 1.1346 - acc: 0.6100 - val_loss: 1.4524 - val_acc: 0.4889\n",
            "\n",
            "Epoch 00017: val_loss improved from 1.46317 to 1.45239, saving model to ./weights.17-1.45.hdf5\n",
            "Epoch 18/20\n",
            "50000/50000 [==============================] - 2s 30us/step - loss: 1.1139 - acc: 0.6177 - val_loss: 1.4585 - val_acc: 0.4865\n",
            "\n",
            "Epoch 00018: val_loss did not improve from 1.45239\n",
            "Epoch 19/20\n",
            "50000/50000 [==============================] - 1s 30us/step - loss: 1.0915 - acc: 0.6274 - val_loss: 1.4498 - val_acc: 0.4923\n",
            "\n",
            "Epoch 00019: val_loss improved from 1.45239 to 1.44982, saving model to ./weights.19-1.45.hdf5\n",
            "Epoch 20/20\n",
            "50000/50000 [==============================] - 2s 30us/step - loss: 1.0707 - acc: 0.6331 - val_loss: 1.4568 - val_acc: 0.4931\n",
            "\n",
            "Epoch 00020: val_loss did not improve from 1.44982\n",
            "Train on 50000 samples, validate on 10000 samples\n",
            "Epoch 1/20\n",
            "50000/50000 [==============================] - 2s 37us/step - loss: 2.2187 - acc: 0.2659 - val_loss: 2.1011 - val_acc: 0.2176\n",
            "\n",
            "Epoch 00001: saving model to ./weights.01-2.10.hdf5\n",
            "Epoch 2/20\n",
            "50000/50000 [==============================] - 1s 30us/step - loss: 1.7359 - acc: 0.3950 - val_loss: 1.9621 - val_acc: 0.2867\n",
            "\n",
            "Epoch 00002: saving model to ./weights.02-1.96.hdf5\n",
            "Epoch 3/20\n",
            "50000/50000 [==============================] - 2s 30us/step - loss: 1.6158 - acc: 0.4350 - val_loss: 1.8391 - val_acc: 0.3465\n",
            "\n",
            "Epoch 00003: saving model to ./weights.03-1.84.hdf5\n",
            "Epoch 4/20\n",
            "50000/50000 [==============================] - 2s 31us/step - loss: 1.5480 - acc: 0.4569 - val_loss: 1.7131 - val_acc: 0.4067\n",
            "\n",
            "Epoch 00004: saving model to ./weights.04-1.71.hdf5\n",
            "Epoch 5/20\n",
            "50000/50000 [==============================] - 2s 31us/step - loss: 1.4935 - acc: 0.4782 - val_loss: 1.6533 - val_acc: 0.4205\n",
            "\n",
            "Epoch 00005: saving model to ./weights.05-1.65.hdf5\n",
            "Epoch 6/20\n",
            "50000/50000 [==============================] - 2s 36us/step - loss: 1.4489 - acc: 0.4927 - val_loss: 1.5867 - val_acc: 0.4484\n",
            "\n",
            "Epoch 00006: saving model to ./weights.06-1.59.hdf5\n",
            "Epoch 7/20\n",
            "50000/50000 [==============================] - 1s 29us/step - loss: 1.4096 - acc: 0.5092 - val_loss: 1.5492 - val_acc: 0.4578\n",
            "\n",
            "Epoch 00007: saving model to ./weights.07-1.55.hdf5\n",
            "Epoch 8/20\n",
            "50000/50000 [==============================] - 1s 30us/step - loss: 1.3752 - acc: 0.5197 - val_loss: 1.5265 - val_acc: 0.4613\n",
            "\n",
            "Epoch 00008: saving model to ./weights.08-1.53.hdf5\n",
            "Epoch 9/20\n",
            "50000/50000 [==============================] - 1s 30us/step - loss: 1.3440 - acc: 0.5316 - val_loss: 1.5026 - val_acc: 0.4681\n",
            "\n",
            "Epoch 00009: saving model to ./weights.09-1.50.hdf5\n",
            "Epoch 10/20\n",
            "50000/50000 [==============================] - 2s 30us/step - loss: 1.3125 - acc: 0.5430 - val_loss: 1.4921 - val_acc: 0.4727\n",
            "\n",
            "Epoch 00010: saving model to ./weights.10-1.49.hdf5\n",
            "Epoch 11/20\n",
            "50000/50000 [==============================] - 1s 29us/step - loss: 1.2835 - acc: 0.5523 - val_loss: 1.4781 - val_acc: 0.4782\n",
            "\n",
            "Epoch 00011: saving model to ./weights.11-1.48.hdf5\n",
            "Epoch 12/20\n",
            "50000/50000 [==============================] - 1s 29us/step - loss: 1.2576 - acc: 0.5610 - val_loss: 1.4653 - val_acc: 0.4836\n",
            "\n",
            "Epoch 00012: saving model to ./weights.12-1.47.hdf5\n",
            "Epoch 13/20\n",
            "50000/50000 [==============================] - 1s 30us/step - loss: 1.2323 - acc: 0.5710 - val_loss: 1.4691 - val_acc: 0.4818\n",
            "\n",
            "Epoch 00013: saving model to ./weights.13-1.47.hdf5\n",
            "Epoch 14/20\n",
            "50000/50000 [==============================] - 1s 30us/step - loss: 1.2068 - acc: 0.5811 - val_loss: 1.4752 - val_acc: 0.4848\n",
            "\n",
            "Epoch 00014: saving model to ./weights.14-1.48.hdf5\n",
            "Epoch 15/20\n",
            "50000/50000 [==============================] - 2s 31us/step - loss: 1.1828 - acc: 0.5890 - val_loss: 1.4625 - val_acc: 0.4871\n",
            "\n",
            "Epoch 00015: saving model to ./weights.15-1.46.hdf5\n",
            "Epoch 16/20\n",
            "50000/50000 [==============================] - 2s 31us/step - loss: 1.1598 - acc: 0.5959 - val_loss: 1.4752 - val_acc: 0.4824\n",
            "\n",
            "Epoch 00016: saving model to ./weights.16-1.48.hdf5\n",
            "Epoch 17/20\n",
            "50000/50000 [==============================] - 2s 30us/step - loss: 1.1376 - acc: 0.6061 - val_loss: 1.4509 - val_acc: 0.4912\n",
            "\n",
            "Epoch 00017: saving model to ./weights.17-1.45.hdf5\n",
            "Epoch 18/20\n",
            "50000/50000 [==============================] - 1s 29us/step - loss: 1.1155 - acc: 0.6141 - val_loss: 1.4608 - val_acc: 0.4862\n",
            "\n",
            "Epoch 00018: saving model to ./weights.18-1.46.hdf5\n",
            "Epoch 19/20\n",
            "50000/50000 [==============================] - 2s 30us/step - loss: 1.0942 - acc: 0.6221 - val_loss: 1.4602 - val_acc: 0.4947\n",
            "\n",
            "Epoch 00019: saving model to ./weights.19-1.46.hdf5\n",
            "Epoch 20/20\n",
            "50000/50000 [==============================] - 1s 29us/step - loss: 1.0734 - acc: 0.6301 - val_loss: 1.4549 - val_acc: 0.4963\n",
            "\n",
            "Epoch 00020: saving model to ./weights.20-1.45.hdf5\n"
          ],
          "name": "stdout"
        }
      ]
    },
    {
      "cell_type": "code",
      "metadata": {
        "scrolled": true,
        "id": "KGWTCXlFmwgG",
        "colab_type": "code",
        "colab": {
          "base_uri": "https://localhost:8080/",
          "height": 779
        },
        "outputId": "4e8f1ad3-36e8-495d-c4a0-71b3e75db4d7"
      },
      "source": [
        "import matplotlib.pyplot as plt\n",
        "%matplotlib inline \n",
        "    \n",
        "NUM_COLORS = len(results.keys())\n",
        "cm = plt.get_cmap('gist_rainbow')\n",
        "color_bar = [cm(1.*i/NUM_COLORS) for i in range(NUM_COLORS)]\n",
        "\n",
        "# 匯入\n",
        "model1 = build_mlp(input_shape=x_train.shape[1:])\n",
        "model1.load_weights('./weights.19-1.45.hdf5')\n",
        "model1.compile(loss=\"categorical_crossentropy\", optimizer=optimizer ,metrics = ['acc'])\n",
        "loss_loadback, acc_loadback = model1.evaluate(x_test , y_test)\n",
        "\n",
        "plt.figure(figsize=(8,6))\n",
        "for i, cond in enumerate(results.keys()):\n",
        "    plt.plot(range(len(results[cond]['train-loss'])),results[cond]['train-loss'], '-', label=cond, color=color_bar[i])\n",
        "    plt.plot(range(len(results[cond]['valid-loss'])),results[cond]['valid-loss'], '--', label=cond, color=color_bar[i])\n",
        "plt.title(\"Loss\")\n",
        "plt.hlines(y=loss_loadback, xmin=0, xmax=len(train_loss), colors='r', linestyles='--')\n",
        "plt.legend(loc='center left', bbox_to_anchor=(1, 0.5))\n",
        "plt.show()\n",
        "\n",
        "plt.figure(figsize=(8,6))\n",
        "for i, cond in enumerate(results.keys()):\n",
        "    plt.plot(range(len(results[cond]['train-acc'])),results[cond]['train-acc'], '-', label=cond, color=color_bar[i])\n",
        "    plt.plot(range(len(results[cond]['valid-acc'])),results[cond]['valid-acc'], '--', label=cond, color=color_bar[i])\n",
        "plt.title(\"Accuracy\")\n",
        "plt.hlines(y=acc_loadback, xmin=0, xmax=len(train_loss), colors='r', linestyles='--')\n",
        "plt.legend(loc='center left', bbox_to_anchor=(1, 0.5))\n",
        "plt.show()\n",
        "\n"
      ],
      "execution_count": 24,
      "outputs": [
        {
          "output_type": "stream",
          "text": [
            "10000/10000 [==============================] - 1s 125us/step\n"
          ],
          "name": "stdout"
        },
        {
          "output_type": "display_data",
          "data": {
            "image/png": "[encoded data removed]",
            "text/plain": [
              "<Figure size 576x432 with 1 Axes>"
            ]
          },
          "metadata": {
            "tags": [],
            "needs_background": "light"
          }
        },
        {
          "output_type": "display_data",
          "data": {
            "image/png": "[encoded data removed]",
            "text/plain": [
              "<Figure size 576x432 with 1 Axes>"
            ]
          },
          "metadata": {
            "tags": [],
            "needs_background": "light"
          }
        }
      ]
    }
  ]
}