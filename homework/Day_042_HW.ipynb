{
  "nbformat": 4,
  "nbformat_minor": 0,
  "metadata": {
    "kernelspec": {
      "display_name": "Python 3",
      "language": "python",
      "name": "python3"
    },
    "language_info": {
      "codemirror_mode": {
        "name": "ipython",
        "version": 3
      },
      "file_extension": ".py",
      "mimetype": "text/x-python",
      "name": "python",
      "nbconvert_exporter": "python",
      "pygments_lexer": "ipython3",
      "version": "3.6.2"
    },
    "colab": {
      "name": "Day_042_HW.ipynb",
      "provenance": []
    }
  },
  "cells": [
    {
      "cell_type": "markdown",
      "metadata": {
        "id": "XkPlWykw8cZT",
        "colab_type": "text"
      },
      "source": [
        "## [作業重點]\n",
        "目前你應該已經要很清楚資料集中，資料的型態是什麼樣子囉！包含特徵 (features) 與標籤 (labels)。因此要記得未來不管什麼專案，必須要把資料清理成相同的格式，才能送進模型訓練。\n",
        "今天的作業開始踏入決策樹這個非常重要的模型，請務必確保你理解模型中每個超參數的意思，並試著調整看看，對最終預測結果的影響為何"
      ]
    },
    {
      "cell_type": "markdown",
      "metadata": {
        "id": "Jr3VfYvN8cZU",
        "colab_type": "text"
      },
      "source": [
        "## 作業\n",
        "\n",
        "1. 試著調整 DecisionTreeClassifier(...) 中的參數，並觀察是否會改變結果？\n",
        "2. 改用其他資料集 (boston, wine)，並與回歸模型的結果進行比較"
      ]
    },
    {
      "cell_type": "code",
      "metadata": {
        "id": "XWBljrck8cZV",
        "colab_type": "code",
        "colab": {}
      },
      "source": [
        "from sklearn import datasets , metrics\n",
        "from sklearn.model_selection import train_test_split\n",
        "from sklearn.tree import DecisionTreeClassifier , DecisionTreeRegressor"
      ],
      "execution_count": 0,
      "outputs": []
    },
    {
      "cell_type": "code",
      "metadata": {
        "id": "GvRdBKwS8-tZ",
        "colab_type": "code",
        "colab": {}
      },
      "source": [
        "iris_data = datasets.load_iris()\n",
        "\n",
        "x_train , x_test , y_train , y_test = train_test_split(iris_data.data , iris_data.target , test_size = 0.2 , random_state = 4)\n",
        "\n",
        "clf = DecisionTreeClassifier(criterion = 'gini' , max_depth = None , min_samples_split = 2 , min_samples_leaf = 1)\n",
        "\n",
        "clf.fit(x_train , y_train)\n",
        "y_pred = clf.predict(x_test)"
      ],
      "execution_count": 0,
      "outputs": []
    },
    {
      "cell_type": "code",
      "metadata": {
        "id": "fOj6hUXx-UUi",
        "colab_type": "code",
        "outputId": "a930a875-7338-44c0-a640-a52c5e7cdc96",
        "colab": {
          "base_uri": "https://localhost:8080/",
          "height": 33
        }
      },
      "source": [
        "acc = metrics.accuracy_score(y_test , y_pred)\n",
        "print('acc :' , acc)"
      ],
      "execution_count": 3,
      "outputs": [
        {
          "output_type": "stream",
          "text": [
            "acc : 0.9666666666666667\n"
          ],
          "name": "stdout"
        }
      ]
    },
    {
      "cell_type": "code",
      "metadata": {
        "id": "aYEA4y1k-syt",
        "colab_type": "code",
        "outputId": "fdace86b-1e05-4dd7-c410-3d389f1d9cfe",
        "colab": {
          "base_uri": "https://localhost:8080/",
          "height": 33
        }
      },
      "source": [
        "print(iris_data.feature_names)"
      ],
      "execution_count": 4,
      "outputs": [
        {
          "output_type": "stream",
          "text": [
            "['sepal length (cm)', 'sepal width (cm)', 'petal length (cm)', 'petal width (cm)']\n"
          ],
          "name": "stdout"
        }
      ]
    },
    {
      "cell_type": "code",
      "metadata": {
        "id": "8-7Krk-4-z-p",
        "colab_type": "code",
        "outputId": "f2954457-8bfa-4ace-c6c7-2e29dc3f4830",
        "colab": {
          "base_uri": "https://localhost:8080/",
          "height": 33
        }
      },
      "source": [
        "print(\"Feature importance: \", clf.feature_importances_)"
      ],
      "execution_count": 5,
      "outputs": [
        {
          "output_type": "stream",
          "text": [
            "Feature importance:  [0.01677501 0.         0.05652535 0.92669965]\n"
          ],
          "name": "stdout"
        }
      ]
    },
    {
      "cell_type": "code",
      "metadata": {
        "id": "_hQLAPDR-3Cf",
        "colab_type": "code",
        "colab": {}
      },
      "source": [
        "boston_data = datasets.load_boston()\n",
        "\n",
        "x_train , x_test , y_train , y_test = train_test_split(boston_data.data , boston_data.target , test_size = 0.2 , random_state = 4)\n",
        "\n",
        "treg = DecisionTreeRegressor(criterion = 'mse' , max_depth = None , min_samples_split = 2 , min_samples_leaf = 1)\n",
        "\n",
        "treg.fit(x_train , y_train)\n",
        "y_pred = treg.predict(x_test)"
      ],
      "execution_count": 0,
      "outputs": []
    },
    {
      "cell_type": "code",
      "metadata": {
        "id": "mSOqw3Sj_Zft",
        "colab_type": "code",
        "outputId": "1bfee22f-1896-4035-de90-53dc1de7e151",
        "colab": {
          "base_uri": "https://localhost:8080/",
          "height": 33
        }
      },
      "source": [
        "mse = metrics.mean_squared_error(y_test , y_pred)\n",
        "print('mse :' , mse)"
      ],
      "execution_count": 7,
      "outputs": [
        {
          "output_type": "stream",
          "text": [
            "mse : 25.209901960784318\n"
          ],
          "name": "stdout"
        }
      ]
    },
    {
      "cell_type": "code",
      "metadata": {
        "id": "XVGvPbikrdqV",
        "colab_type": "code",
        "outputId": "7f4d850a-cdc8-4aea-b12e-efbee0bbbb9b",
        "colab": {
          "base_uri": "https://localhost:8080/",
          "height": 33
        }
      },
      "source": [
        "mae = metrics.mean_absolute_error(y_test , y_pred)\n",
        "print('mae :' , mae)"
      ],
      "execution_count": 8,
      "outputs": [
        {
          "output_type": "stream",
          "text": [
            "mae : 3.048039215686275\n"
          ],
          "name": "stdout"
        }
      ]
    },
    {
      "cell_type": "code",
      "metadata": {
        "id": "aILsl6IVqXY6",
        "colab_type": "code",
        "outputId": "60810dac-a8f7-4be9-d0c7-487ad838e6b8",
        "colab": {
          "base_uri": "https://localhost:8080/",
          "height": 50
        }
      },
      "source": [
        "print(boston_data.feature_names)"
      ],
      "execution_count": 9,
      "outputs": [
        {
          "output_type": "stream",
          "text": [
            "['CRIM' 'ZN' 'INDUS' 'CHAS' 'NOX' 'RM' 'AGE' 'DIS' 'RAD' 'TAX' 'PTRATIO'\n",
            " 'B' 'LSTAT']\n"
          ],
          "name": "stdout"
        }
      ]
    },
    {
      "cell_type": "code",
      "metadata": {
        "id": "1R5WACidqcnm",
        "colab_type": "code",
        "outputId": "223b5f0b-e88b-4d7e-a024-91d41b852a72",
        "colab": {
          "base_uri": "https://localhost:8080/",
          "height": 84
        }
      },
      "source": [
        "print(treg.feature_importances_)"
      ],
      "execution_count": 10,
      "outputs": [
        {
          "output_type": "stream",
          "text": [
            "[6.31712068e-02 6.88649782e-04 1.91340662e-03 1.23246819e-05\n",
            " 3.09608405e-02 5.82164244e-01 1.05536054e-02 5.23825587e-02\n",
            " 5.69729798e-04 1.75813985e-02 2.08933929e-02 8.30384871e-03\n",
            " 2.10804794e-01]\n"
          ],
          "name": "stdout"
        }
      ]
    }
  ]
}