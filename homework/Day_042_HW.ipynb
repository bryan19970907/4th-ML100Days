{
  "nbformat": 4,
  "nbformat_minor": 0,
  "metadata": {
    "kernelspec": {
      "display_name": "Python 3",
      "language": "python",
      "name": "python3"
    },
    "language_info": {
      "codemirror_mode": {
        "name": "ipython",
        "version": 3
      },
      "file_extension": ".py",
      "mimetype": "text/x-python",
      "name": "python",
      "nbconvert_exporter": "python",
      "pygments_lexer": "ipython3",
      "version": "3.6.2"
    },
    "colab": {
      "name": "Day_042_HW.ipynb",
      "provenance": []
    }
  },
  "cells": [
    {
      "cell_type": "markdown",
      "metadata": {
        "id": "XkPlWykw8cZT",
        "colab_type": "text"
      },
      "source": [
        "## [作業重點]\n",
        "目前你應該已經要很清楚資料集中，資料的型態是什麼樣子囉！包含特徵 (features) 與標籤 (labels)。因此要記得未來不管什麼專案，必須要把資料清理成相同的格式，才能送進模型訓練。\n",
        "今天的作業開始踏入決策樹這個非常重要的模型，請務必確保你理解模型中每個超參數的意思，並試著調整看看，對最終預測結果的影響為何"
      ]
    },
    {
      "cell_type": "markdown",
      "metadata": {
        "id": "Jr3VfYvN8cZU",
        "colab_type": "text"
      },
      "source": [
        "## 作業\n",
        "\n",
        "1. 試著調整 DecisionTreeClassifier(...) 中的參數，並觀察是否會改變結果？\n",
        "2. 改用其他資料集 (boston, wine)，並與回歸模型的結果進行比較"
      ]
    },
    {
      "cell_type": "code",
      "metadata": {
        "id": "XWBljrck8cZV",
        "colab_type": "code",
        "colab": {}
      },
      "source": [
        "from sklearn import datasets , metrics\n",
        "from sklearn.model_selection import train_test_split\n",
        "from sklearn.tree import DecisionTreeClassifier , DecisionTreeRegressor"
      ],
      "execution_count": 0,
      "outputs": []
    },
    {
      "cell_type": "code",
      "metadata": {
        "id": "GvRdBKwS8-tZ",
        "colab_type": "code",
        "colab": {}
      },
      "source": [
        "iris_data = datasets.load_iris()\n",
        "\n",
        "x_train , x_test , y_train , y_test = train_test_split(iris_data.data , iris_data.target , test_size = 0.2 , random_state = 4)\n",
        "\n",
        "clf = DecisionTreeClassifier(criterion = 'gini' , max_depth = None , min_samples_split = 2 , min_samples_leaf = 1)\n",
        "\n",
        "clf.fit(x_train , y_train)\n",
        "y_pred = clf.predict(x_test)"
      ],
      "execution_count": 0,
      "outputs": []
    },
    {
      "cell_type": "code",
      "metadata": {
        "id": "fOj6hUXx-UUi",
        "colab_type": "code",
        "colab": {
          "base_uri": "https://localhost:8080/",
          "height": 33
        },
        "outputId": "9e0908f4-c914-4f8e-e6b6-dc671f2de4ab"
      },
      "source": [
        "acc = metrics.accuracy_score(y_test , y_pred)\n",
        "print('acc :' , acc)"
      ],
      "execution_count": 5,
      "outputs": [
        {
          "output_type": "stream",
          "text": [
            "acc : 0.9666666666666667\n"
          ],
          "name": "stdout"
        }
      ]
    },
    {
      "cell_type": "code",
      "metadata": {
        "id": "aYEA4y1k-syt",
        "colab_type": "code",
        "colab": {
          "base_uri": "https://localhost:8080/",
          "height": 33
        },
        "outputId": "4b1fa543-d4ad-47cf-cb66-bd9f4ff3d2bf"
      },
      "source": [
        "print(iris_data.feature_names)"
      ],
      "execution_count": 7,
      "outputs": [
        {
          "output_type": "stream",
          "text": [
            "['sepal length (cm)', 'sepal width (cm)', 'petal length (cm)', 'petal width (cm)']\n"
          ],
          "name": "stdout"
        }
      ]
    },
    {
      "cell_type": "code",
      "metadata": {
        "id": "8-7Krk-4-z-p",
        "colab_type": "code",
        "colab": {
          "base_uri": "https://localhost:8080/",
          "height": 33
        },
        "outputId": "8b67060b-b4c8-45a6-85ba-83dd60b300d2"
      },
      "source": [
        "print(\"Feature importance: \", clf.feature_importances_)"
      ],
      "execution_count": 8,
      "outputs": [
        {
          "output_type": "stream",
          "text": [
            "Feature importance:  [0.         0.01677501 0.05652535 0.92669965]\n"
          ],
          "name": "stdout"
        }
      ]
    },
    {
      "cell_type": "code",
      "metadata": {
        "id": "_hQLAPDR-3Cf",
        "colab_type": "code",
        "colab": {}
      },
      "source": [
        "wine_data = datasets.load_wine()\n",
        "\n",
        "x_train , x_test , y_train , y_test = train_test_split(wine_data.data , wine_data.target , test_size = 0.2 , random_state = 4)\n",
        "\n",
        "treg = DecisionTreeRegressor(criterion = 'mse' , max_depth = None , min_samples_split = 2 , min_samples_leaf = 1)\n",
        "\n",
        "treg.fit(x_train , y_train)\n",
        "y_pred = treg.predict(x_test)"
      ],
      "execution_count": 0,
      "outputs": []
    },
    {
      "cell_type": "code",
      "metadata": {
        "id": "mSOqw3Sj_Zft",
        "colab_type": "code",
        "colab": {
          "base_uri": "https://localhost:8080/",
          "height": 33
        },
        "outputId": "94a03a88-3ad3-4706-d1dd-d9bb6e8fb40f"
      },
      "source": [
        "mse = metrics.mean_squared_error(y_test , y_pred)\n",
        "print('mse :' , mse)"
      ],
      "execution_count": 10,
      "outputs": [
        {
          "output_type": "stream",
          "text": [
            "mse : 0.0\n"
          ],
          "name": "stdout"
        }
      ]
    },
    {
      "cell_type": "code",
      "metadata": {
        "id": "XVGvPbikrdqV",
        "colab_type": "code",
        "colab": {
          "base_uri": "https://localhost:8080/",
          "height": 33
        },
        "outputId": "1beb7dae-e242-43ed-954d-b1a439d847df"
      },
      "source": [
        "mae = metrics.mean_absolute_error(y_test , y_pred)\n",
        "print('mae :' , mae)"
      ],
      "execution_count": 14,
      "outputs": [
        {
          "output_type": "stream",
          "text": [
            "mae : 0.0\n"
          ],
          "name": "stdout"
        }
      ]
    },
    {
      "cell_type": "code",
      "metadata": {
        "id": "aILsl6IVqXY6",
        "colab_type": "code",
        "colab": {
          "base_uri": "https://localhost:8080/",
          "height": 53
        },
        "outputId": "df354a1b-f3f4-44fa-d44d-f33bd170c7f8"
      },
      "source": [
        "print(wine_data.feature_names)"
      ],
      "execution_count": 12,
      "outputs": [
        {
          "output_type": "stream",
          "text": [
            "['alcohol', 'malic_acid', 'ash', 'alcalinity_of_ash', 'magnesium', 'total_phenols', 'flavanoids', 'nonflavanoid_phenols', 'proanthocyanins', 'color_intensity', 'hue', 'od280/od315_of_diluted_wines', 'proline']\n"
          ],
          "name": "stdout"
        }
      ]
    },
    {
      "cell_type": "code",
      "metadata": {
        "id": "1R5WACidqcnm",
        "colab_type": "code",
        "colab": {
          "base_uri": "https://localhost:8080/",
          "height": 67
        },
        "outputId": "7a8171be-28b4-4b3a-d632-1f9be7a268cb"
      },
      "source": [
        "print(treg.feature_importances_)"
      ],
      "execution_count": 13,
      "outputs": [
        {
          "output_type": "stream",
          "text": [
            "[0.         0.00276839 0.01176744 0.         0.         0.\n",
            " 0.6168095  0.         0.         0.10905869 0.         0.\n",
            " 0.25959599]\n"
          ],
          "name": "stdout"
        }
      ]
    }
  ]
}