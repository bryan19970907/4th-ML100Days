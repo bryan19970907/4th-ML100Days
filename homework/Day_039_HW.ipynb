{
  "nbformat": 4,
  "nbformat_minor": 0,
  "metadata": {
    "kernelspec": {
      "display_name": "Python 3",
      "language": "python",
      "name": "python3"
    },
    "language_info": {
      "codemirror_mode": {
        "name": "ipython",
        "version": 3
      },
      "file_extension": ".py",
      "mimetype": "text/x-python",
      "name": "python",
      "nbconvert_exporter": "python",
      "pygments_lexer": "ipython3",
      "version": "3.6.2"
    },
    "colab": {
      "name": "Day_039_HW.ipynb",
      "provenance": [],
      "collapsed_sections": []
    }
  },
  "cells": [
    {
      "cell_type": "markdown",
      "metadata": {
        "id": "RSoxc2UZ9iKZ",
        "colab_type": "text"
      },
      "source": [
        "## [作業重點]\n",
        "清楚了解 L1, L2 的意義與差異為何，並了解 LASSO 與 Ridge 之間的差異與使用情境"
      ]
    },
    {
      "cell_type": "markdown",
      "metadata": {
        "id": "8woaCiTK9iKb",
        "colab_type": "text"
      },
      "source": [
        "## 作業"
      ]
    },
    {
      "cell_type": "markdown",
      "metadata": {
        "id": "GTn-zsOS9iKb",
        "colab_type": "text"
      },
      "source": [
        "請閱讀相關文獻，並回答下列問題\n",
        "\n",
        "[脊回歸 (Ridge Regression)](https://blog.csdn.net/daunxx/article/details/51578787)\n",
        "[Linear, Ridge, Lasso Regression 本質區別](https://www.zhihu.com/question/38121173)\n",
        "\n",
        "1. LASSO 回歸可以被用來作為 Feature selection 的工具，請了解 LASSO 模型為什麼可用來作 Feature selection\n",
        "2. 當自變數 (X) 存在高度共線性時，Ridge Regression 可以處理這樣的問題嗎?\n"
      ]
    },
    {
      "cell_type": "markdown",
      "metadata": {
        "id": "va1Cc1Bd97_u",
        "colab_type": "text"
      },
      "source": [
        "1.LASSO在目標函數加入懲罰項，讓參數整體值偏小甚至趨近於0，趨近於0的參數乘上對應到的feature，會得到很更小的值，所以對模型沒什麼影響。\n",
        "\n",
        "2.多重共線性高時，代表兩個原本應該獨立的解釋變數變成相依，即該參數會受其他參數影響而變得比較\"敏感\"，使用Ridge Regression可以降低這些\"噪音\"的影響。"
      ]
    },
    {
      "cell_type": "code",
      "metadata": {
        "id": "I3Mys4II9iKc",
        "colab_type": "code",
        "colab": {}
      },
      "source": [
        "# https://statisticsbyjim.com/regression/multicollinearity-in-regression-analysis/"
      ],
      "execution_count": 0,
      "outputs": []
    }
  ]
}