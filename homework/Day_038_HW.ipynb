{
  "nbformat": 4,
  "nbformat_minor": 0,
  "metadata": {
    "kernelspec": {
      "display_name": "Python 3",
      "language": "python",
      "name": "python3"
    },
    "language_info": {
      "codemirror_mode": {
        "name": "ipython",
        "version": 3
      },
      "file_extension": ".py",
      "mimetype": "text/x-python",
      "name": "python",
      "nbconvert_exporter": "python",
      "pygments_lexer": "ipython3",
      "version": "3.6.2"
    },
    "colab": {
      "name": "Day_038_HW.ipynb",
      "provenance": []
    }
  },
  "cells": [
    {
      "cell_type": "markdown",
      "metadata": {
        "id": "OPDEAWDNny6E",
        "colab_type": "text"
      },
      "source": [
        "## [作業重點]\n",
        "使用 Sklearn 中的線性迴歸模型，來訓練各種資料集，務必了解送進去模型訓練的**資料型態**為何，也請了解模型中各項參數的意義"
      ]
    },
    {
      "cell_type": "markdown",
      "metadata": {
        "id": "p86V-AVwny6G",
        "colab_type": "text"
      },
      "source": [
        "## 作業\n",
        "試著使用 sklearn datasets 的其他資料集 (wine, boston, ...)，來訓練自己的線性迴歸模型。"
      ]
    },
    {
      "cell_type": "markdown",
      "metadata": {
        "id": "tK6jyHiNny6H",
        "colab_type": "text"
      },
      "source": [
        "### HINT: 注意 label 的型態，確定資料集的目標是分類還是回歸，在使用正確的模型訓練！"
      ]
    },
    {
      "cell_type": "code",
      "metadata": {
        "id": "JsVm5D0RoMRh",
        "colab_type": "code",
        "colab": {}
      },
      "source": [
        "import numpy as np\n",
        "import matplotlib.pyplot as plt\n",
        "from sklearn import datasets, linear_model\n",
        "from sklearn.model_selection import train_test_split\n",
        "from sklearn.metrics import mean_squared_error, r2_score, accuracy_score"
      ],
      "execution_count": 0,
      "outputs": []
    },
    {
      "cell_type": "code",
      "metadata": {
        "id": "SKP288Xhny6I",
        "colab_type": "code",
        "colab": {
          "base_uri": "https://localhost:8080/",
          "height": 150
        },
        "outputId": "ae85b636-aaf1-4ad5-d14a-0ec86afe7007"
      },
      "source": [
        "wine = datasets.load_wine()\n",
        "\n",
        "x_train , x_test , y_train , y_test = train_test_split(wine.data , wine.target , test_size = 0.1 , random_state = 4)\n",
        "\n",
        "logreg = linear_model.LogisticRegression()\n",
        "logreg.fit(x_train , y_train)\n",
        "y_pred = logreg.predict(x_test)"
      ],
      "execution_count": 2,
      "outputs": [
        {
          "output_type": "stream",
          "text": [
            "/usr/local/lib/python3.6/dist-packages/sklearn/linear_model/_logistic.py:940: ConvergenceWarning: lbfgs failed to converge (status=1):\n",
            "STOP: TOTAL NO. of ITERATIONS REACHED LIMIT.\n",
            "\n",
            "Increase the number of iterations (max_iter) or scale the data as shown in:\n",
            "    https://scikit-learn.org/stable/modules/preprocessing.html\n",
            "Please also refer to the documentation for alternative solver options:\n",
            "    https://scikit-learn.org/stable/modules/linear_model.html#logistic-regression\n",
            "  extra_warning_msg=_LOGISTIC_SOLVER_CONVERGENCE_MSG)\n"
          ],
          "name": "stderr"
        }
      ]
    },
    {
      "cell_type": "code",
      "metadata": {
        "id": "bKp5lro7p1Oo",
        "colab_type": "code",
        "colab": {
          "base_uri": "https://localhost:8080/",
          "height": 33
        },
        "outputId": "f8502e9e-cc69-474e-b38f-ee65ff035218"
      },
      "source": [
        "acc = accuracy_score(y_test , y_pred)\n",
        "print('accuracy : ' , acc)"
      ],
      "execution_count": 6,
      "outputs": [
        {
          "output_type": "stream",
          "text": [
            "accuracy :  0.8888888888888888\n"
          ],
          "name": "stdout"
        }
      ]
    },
    {
      "cell_type": "code",
      "metadata": {
        "id": "p7FQRmxtoieK",
        "colab_type": "code",
        "colab": {
          "base_uri": "https://localhost:8080/",
          "height": 33
        },
        "outputId": "6cb522d7-6f68-4718-cbb0-2a5346f3e938"
      },
      "source": [
        "boston = datasets.load_boston()\n",
        "\n",
        "print(boston.data.shape) #(506 , 13)\n",
        "\n",
        "x = boston.data[: , np.newaxis , 2]\n",
        "x_train , x_test , y_train , y_test = train_test_split(x , boston.target , test_size = 0.1 , random_state = 4)\n",
        "\n",
        "linreg = linear_model.LinearRegression()\n",
        "linreg.fit(x_train , y_train)\n",
        "y_pred = linreg.predict(x_test)"
      ],
      "execution_count": 9,
      "outputs": [
        {
          "output_type": "stream",
          "text": [
            "(506, 13)\n"
          ],
          "name": "stdout"
        }
      ]
    },
    {
      "cell_type": "code",
      "metadata": {
        "id": "1o05kYOjruLL",
        "colab_type": "code",
        "colab": {
          "base_uri": "https://localhost:8080/",
          "height": 50
        },
        "outputId": "d522add5-b999-424d-97c5-25421df0ecde"
      },
      "source": [
        "print('Coefficients: ', linreg.coef_)\n",
        "print(\"Mean squared error: %.2f\"  % mean_squared_error(y_test, y_pred))"
      ],
      "execution_count": 10,
      "outputs": [
        {
          "output_type": "stream",
          "text": [
            "Coefficients:  [-0.64959885]\n",
            "Mean squared error: 63.06\n"
          ],
          "name": "stdout"
        }
      ]
    },
    {
      "cell_type": "code",
      "metadata": {
        "id": "CavU02KSsFSK",
        "colab_type": "code",
        "colab": {
          "base_uri": "https://localhost:8080/",
          "height": 265
        },
        "outputId": "c4566f40-7f51-49ba-c71d-50e95f292d0e"
      },
      "source": [
        "plt.scatter(x_test , y_test , color ='blue')\n",
        "plt.plot(x_test , y_pred , color = 'black' , linewidth = 4)\n",
        "plt.show()"
      ],
      "execution_count": 12,
      "outputs": [
        {
          "output_type": "display_data",
          "data": {
            "image/png": "[encoded data removed]",
            "text/plain": [
              "<Figure size 432x288 with 1 Axes>"
            ]
          },
          "metadata": {
            "tags": [],
            "needs_background": "light"
          }
        }
      ]
    }
  ]
}