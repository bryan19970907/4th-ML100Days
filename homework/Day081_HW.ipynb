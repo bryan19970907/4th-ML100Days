{
  "nbformat": 4,
  "nbformat_minor": 0,
  "metadata": {
    "kernelspec": {
      "display_name": "Python 3",
      "language": "python",
      "name": "python3"
    },
    "language_info": {
      "codemirror_mode": {
        "name": "ipython",
        "version": 3
      },
      "file_extension": ".py",
      "mimetype": "text/x-python",
      "name": "python",
      "nbconvert_exporter": "python",
      "pygments_lexer": "ipython3",
      "version": "3.6.5"
    },
    "colab": {
      "name": "Day081_HW.ipynb",
      "provenance": []
    },
    "accelerator": "GPU"
  },
  "cells": [
    {
      "cell_type": "markdown",
      "metadata": {
        "id": "YLktmf24wgF3",
        "colab_type": "text"
      },
      "source": [
        "## Work\n",
        "1. 請比較使用 l1, l1_l2 及不同比例下的訓練結果"
      ]
    },
    {
      "cell_type": "code",
      "metadata": {
        "id": "kCheQdqzwgF5",
        "colab_type": "code",
        "colab": {
          "base_uri": "https://localhost:8080/",
          "height": 34
        },
        "outputId": "a9279966-e824-468b-e6c7-715ca266facc"
      },
      "source": [
        "import os\n",
        "import keras\n",
        "from keras.regularizers import l1,l1_l2\n",
        "# Disable GPU\n",
        "# os.environ[\"CUDA_VISIBLE_DEVICES\"] = \"\""
      ],
      "execution_count": 1,
      "outputs": [
        {
          "output_type": "stream",
          "text": [
            "Using TensorFlow backend.\n"
          ],
          "name": "stderr"
        }
      ]
    },
    {
      "cell_type": "code",
      "metadata": {
        "id": "ngcDISa2wgF-",
        "colab_type": "code",
        "colab": {
          "base_uri": "https://localhost:8080/",
          "height": 51
        },
        "outputId": "894be7d7-8eb3-498b-e64c-2504c162412f"
      },
      "source": [
        "train, test = keras.datasets.cifar10.load_data()"
      ],
      "execution_count": 2,
      "outputs": [
        {
          "output_type": "stream",
          "text": [
            "Downloading data from https://www.cs.toronto.edu/~kriz/cifar-10-python.tar.gz\n",
            "170500096/170498071 [==============================] - 2s 0us/step\n"
          ],
          "name": "stdout"
        }
      ]
    },
    {
      "cell_type": "code",
      "metadata": {
        "id": "PNS-KjcwwgGC",
        "colab_type": "code",
        "colab": {}
      },
      "source": [
        "## 資料前處理\n",
        "def preproc_x(x, flatten=True):\n",
        "    x = x / 255.\n",
        "    if flatten:\n",
        "        x = x.reshape((len(x), -1))\n",
        "    return x\n",
        "\n",
        "def preproc_y(y, num_classes=10):\n",
        "    if y.shape[-1] == 1:\n",
        "        y = keras.utils.to_categorical(y, num_classes)\n",
        "    return y    "
      ],
      "execution_count": 3,
      "outputs": []
    },
    {
      "cell_type": "code",
      "metadata": {
        "id": "sU7Tc0_nwgGF",
        "colab_type": "code",
        "colab": {}
      },
      "source": [
        "x_train, y_train = train\n",
        "x_test, y_test = test\n",
        "\n",
        "# Preproc the inputs\n",
        "x_train = preproc_x(x_train)\n",
        "x_test = preproc_x(x_test)\n",
        "\n",
        "# Preprc the outputs\n",
        "y_train = preproc_y(y_train)\n",
        "y_test = preproc_y(y_test)"
      ],
      "execution_count": 4,
      "outputs": []
    },
    {
      "cell_type": "code",
      "metadata": {
        "id": "395u_vxKwgGI",
        "colab_type": "code",
        "colab": {}
      },
      "source": [
        "\n",
        "def build_mlp(input_shape , output_neurons = 10 , neurons = [256 , 256 , 256 , 128] , l1_ratio_p = 1e-5 , l2_ratio_p = 1e-4 , l1_l2_sel = False):\n",
        "    \"\"\"Code Here\n",
        "    建立你的神經網路\n",
        "    \"\"\"\n",
        "    inputs = keras.layers.Input(shape = input_shape)\n",
        "    for i , neuron in enumerate(neurons):\n",
        "      if i ==0:\n",
        "        if l1_l2_sel == True:\n",
        "          x = keras.layers.Dense(units = neuron , activation = 'relu' , kernel_regularizer = l1_l2(l1 = l1_ratio_p , l2 = l2_ratio_p))(inputs)\n",
        "        else:\n",
        "          x = keras.layers.Dense(units = neuron , activation = 'relu' , kernel_regularizer = keras.regularizers.l1(l1_ratio_p) )(inputs)\n",
        "      else:\n",
        "        if l1_l2_sel == False:\n",
        "          x = keras.layers.Dense(units = neuron , activation = 'relu' , kernel_regularizer = keras.regularizers.l1(l1_ratio_p))(x)\n",
        "        else:\n",
        "          x = keras.layers.Dense(units = neuron , activation = 'relu' , kernel_regularizer = l1_l2(l1 = l1_ratio_p , l2 = l2_ratio_p))(x)\n",
        "    \n",
        "    if l1_l2_sel == False:\n",
        "      outputs = keras.layers.Dense(units = output_neurons , activation = 'softmax' , kernel_regularizer = keras.regularizers.l1(l1_ratio_p))(x)\n",
        "    else:\n",
        "      outputs = keras.layers.Dense(units = output_neurons , activation = 'softmax' , kernel_regularizer = l1_l2(l1 = l1_ratio_p , l2 = l2_ratio_p))(x)\n",
        "\n",
        "    model = keras.models.Model(inputs = [inputs] , outputs = [outputs])\n",
        "\n",
        "    return model"
      ],
      "execution_count": 48,
      "outputs": []
    },
    {
      "cell_type": "code",
      "metadata": {
        "id": "bc-KU6jKwgGM",
        "colab_type": "code",
        "colab": {}
      },
      "source": [
        "\"\"\"Code Here\n",
        "設定超參數\n",
        "\"\"\"\n",
        "epochs = 20\n",
        "batch_size = 128\n",
        "l1_ratio = [1e-2 , 1e-3 , 1e-4]\n",
        "l2_ratio = [1e-2 , 1e-3 , 1e-4]"
      ],
      "execution_count": 43,
      "outputs": []
    },
    {
      "cell_type": "code",
      "metadata": {
        "scrolled": true,
        "id": "CYzIHj1EwgGP",
        "colab_type": "code",
        "colab": {
          "base_uri": "https://localhost:8080/",
          "height": 1000
        },
        "outputId": "9a3bd626-a9e6-49eb-f171-a47fd2f48529"
      },
      "source": [
        "results = {}\n",
        "\"\"\"Code Here\n",
        "撰寫你的訓練流程並將結果用 dictionary 紀錄\n",
        "\"\"\"\n",
        "\n",
        "for l1_z , l2_z in zip(l1_ratio , l2_ratio):\n",
        "  keras.backend.clear_session()\n",
        "  print('l1: ' , l1_z)\n",
        "  print('l2: ' , l2_z)\n",
        "  \n",
        "  model = build_mlp(x_train.shape[1:] , l1_ratio_p = l1_z , l2_ratio_p = l2_z , l1_l2_sel = True)\n",
        "\n",
        "  model.compile(loss = 'categorical_crossentropy' , optimizer = 'adam' , metrics = ['acc'])\n",
        "  model.fit(x_train , y_train , epochs = epochs , batch_size = batch_size , validation_data = (x_test , y_test) , shuffle = True)\n",
        "\n",
        "  train_loss = model.history.history[\"loss\"]\n",
        "  valid_loss = model.history.history[\"val_loss\"]\n",
        "  train_acc = model.history.history[\"acc\"]\n",
        "  valid_acc = model.history.history[\"val_acc\"]\n",
        "    \n",
        "  results[0] = {'train-loss': train_loss,\n",
        "                'valid-loss': valid_loss,\n",
        "                'train-acc': train_acc,\n",
        "                'valid-acc': valid_acc}"
      ],
      "execution_count": 44,
      "outputs": [
        {
          "output_type": "stream",
          "text": [
            "l1:  0.01\n",
            "l2:  0.01\n",
            "Train on 50000 samples, validate on 10000 samples\n",
            "Epoch 1/20\n",
            "50000/50000 [==============================] - 4s 88us/step - loss: 20.7707 - acc: 0.1008 - val_loss: 3.4642 - val_acc: 0.1000\n",
            "Epoch 2/20\n",
            "50000/50000 [==============================] - 4s 80us/step - loss: 3.4543 - acc: 0.0982 - val_loss: 3.4385 - val_acc: 0.1000\n",
            "Epoch 3/20\n",
            "50000/50000 [==============================] - 4s 82us/step - loss: 3.4345 - acc: 0.0974 - val_loss: 3.4381 - val_acc: 0.1000\n",
            "Epoch 4/20\n",
            "50000/50000 [==============================] - 4s 81us/step - loss: 3.4431 - acc: 0.0990 - val_loss: 3.4436 - val_acc: 0.1000\n",
            "Epoch 5/20\n",
            "50000/50000 [==============================] - 4s 81us/step - loss: 3.4451 - acc: 0.0970 - val_loss: 3.4464 - val_acc: 0.1000\n",
            "Epoch 6/20\n",
            "50000/50000 [==============================] - 4s 81us/step - loss: 3.4646 - acc: 0.1002 - val_loss: 3.4823 - val_acc: 0.1000\n",
            "Epoch 7/20\n",
            "50000/50000 [==============================] - 4s 81us/step - loss: 3.4791 - acc: 0.0997 - val_loss: 3.4835 - val_acc: 0.1000\n",
            "Epoch 8/20\n",
            "50000/50000 [==============================] - 4s 82us/step - loss: 3.4801 - acc: 0.0991 - val_loss: 3.4749 - val_acc: 0.1000\n",
            "Epoch 9/20\n",
            "50000/50000 [==============================] - 4s 81us/step - loss: 3.4807 - acc: 0.0965 - val_loss: 3.4794 - val_acc: 0.1000\n",
            "Epoch 10/20\n",
            "50000/50000 [==============================] - 4s 81us/step - loss: 3.4814 - acc: 0.0979 - val_loss: 3.4837 - val_acc: 0.1000\n",
            "Epoch 11/20\n",
            "50000/50000 [==============================] - 4s 82us/step - loss: 3.4815 - acc: 0.0990 - val_loss: 3.4823 - val_acc: 0.1000\n",
            "Epoch 12/20\n",
            "50000/50000 [==============================] - 4s 81us/step - loss: 3.4815 - acc: 0.0987 - val_loss: 3.4808 - val_acc: 0.1000\n",
            "Epoch 13/20\n",
            "50000/50000 [==============================] - 4s 81us/step - loss: 3.4816 - acc: 0.0984 - val_loss: 3.4851 - val_acc: 0.1000\n",
            "Epoch 14/20\n",
            "50000/50000 [==============================] - 4s 81us/step - loss: 3.4815 - acc: 0.0974 - val_loss: 3.4837 - val_acc: 0.1000\n",
            "Epoch 15/20\n",
            "50000/50000 [==============================] - 4s 81us/step - loss: 3.4815 - acc: 0.0986 - val_loss: 3.4726 - val_acc: 0.1000\n",
            "Epoch 16/20\n",
            "50000/50000 [==============================] - 4s 81us/step - loss: 3.4815 - acc: 0.0990 - val_loss: 3.4805 - val_acc: 0.1000\n",
            "Epoch 17/20\n",
            "50000/50000 [==============================] - 4s 82us/step - loss: 3.4816 - acc: 0.0993 - val_loss: 3.4841 - val_acc: 0.1000\n",
            "Epoch 18/20\n",
            "50000/50000 [==============================] - 4s 81us/step - loss: 3.4815 - acc: 0.0959 - val_loss: 3.4867 - val_acc: 0.1000\n",
            "Epoch 19/20\n",
            "50000/50000 [==============================] - 4s 82us/step - loss: 3.4815 - acc: 0.0985 - val_loss: 3.4826 - val_acc: 0.1000\n",
            "Epoch 20/20\n",
            "50000/50000 [==============================] - 4s 81us/step - loss: 3.4816 - acc: 0.0966 - val_loss: 3.4790 - val_acc: 0.1000\n",
            "l1:  0.001\n",
            "l2:  0.001\n",
            "Train on 50000 samples, validate on 10000 samples\n",
            "Epoch 1/20\n",
            "50000/50000 [==============================] - 4s 87us/step - loss: 5.0925 - acc: 0.2314 - val_loss: 2.5388 - val_acc: 0.2556\n",
            "Epoch 2/20\n",
            "50000/50000 [==============================] - 4s 81us/step - loss: 2.4048 - acc: 0.2527 - val_loss: 2.3129 - val_acc: 0.2499\n",
            "Epoch 3/20\n",
            "50000/50000 [==============================] - 4s 81us/step - loss: 2.2783 - acc: 0.2592 - val_loss: 2.2312 - val_acc: 0.2599\n",
            "Epoch 4/20\n",
            "50000/50000 [==============================] - 4s 81us/step - loss: 2.2348 - acc: 0.2581 - val_loss: 2.2344 - val_acc: 0.2558\n",
            "Epoch 5/20\n",
            "50000/50000 [==============================] - 4s 81us/step - loss: 2.2072 - acc: 0.2596 - val_loss: 2.2320 - val_acc: 0.2486\n",
            "Epoch 6/20\n",
            "50000/50000 [==============================] - 4s 82us/step - loss: 2.1950 - acc: 0.2638 - val_loss: 2.1832 - val_acc: 0.2648\n",
            "Epoch 7/20\n",
            "50000/50000 [==============================] - 4s 81us/step - loss: 2.1846 - acc: 0.2630 - val_loss: 2.1595 - val_acc: 0.2690\n",
            "Epoch 8/20\n",
            "50000/50000 [==============================] - 4s 80us/step - loss: 2.1738 - acc: 0.2660 - val_loss: 2.1518 - val_acc: 0.2688\n",
            "Epoch 9/20\n",
            "50000/50000 [==============================] - 4s 81us/step - loss: 2.1809 - acc: 0.2638 - val_loss: 2.1532 - val_acc: 0.2719\n",
            "Epoch 10/20\n",
            "50000/50000 [==============================] - 4s 81us/step - loss: 2.1734 - acc: 0.2675 - val_loss: 2.1644 - val_acc: 0.2672\n",
            "Epoch 11/20\n",
            "50000/50000 [==============================] - 4s 82us/step - loss: 2.1627 - acc: 0.2712 - val_loss: 2.1478 - val_acc: 0.2757\n",
            "Epoch 12/20\n",
            "50000/50000 [==============================] - 4s 83us/step - loss: 2.1675 - acc: 0.2687 - val_loss: 2.1432 - val_acc: 0.2767\n",
            "Epoch 13/20\n",
            "50000/50000 [==============================] - 4s 82us/step - loss: 2.1651 - acc: 0.2702 - val_loss: 2.1617 - val_acc: 0.2718\n",
            "Epoch 14/20\n",
            "50000/50000 [==============================] - 4s 82us/step - loss: 2.1613 - acc: 0.2698 - val_loss: 2.1363 - val_acc: 0.2816\n",
            "Epoch 15/20\n",
            "50000/50000 [==============================] - 4s 82us/step - loss: 2.1541 - acc: 0.2725 - val_loss: 2.1462 - val_acc: 0.2767\n",
            "Epoch 16/20\n",
            "50000/50000 [==============================] - 4s 82us/step - loss: 2.1520 - acc: 0.2768 - val_loss: 2.1306 - val_acc: 0.2821\n",
            "Epoch 17/20\n",
            "50000/50000 [==============================] - 4s 82us/step - loss: 2.1521 - acc: 0.2747 - val_loss: 2.1946 - val_acc: 0.2609\n",
            "Epoch 18/20\n",
            "50000/50000 [==============================] - 4s 80us/step - loss: 2.1478 - acc: 0.2764 - val_loss: 2.1283 - val_acc: 0.2771\n",
            "Epoch 19/20\n",
            "50000/50000 [==============================] - 4s 81us/step - loss: 2.1477 - acc: 0.2761 - val_loss: 2.1250 - val_acc: 0.2804\n",
            "Epoch 20/20\n",
            "50000/50000 [==============================] - 4s 87us/step - loss: 2.1493 - acc: 0.2743 - val_loss: 2.1503 - val_acc: 0.2758\n",
            "l1:  0.0001\n",
            "l2:  0.0001\n",
            "Train on 50000 samples, validate on 10000 samples\n",
            "Epoch 1/20\n",
            "50000/50000 [==============================] - 5s 94us/step - loss: 2.7979 - acc: 0.3157 - val_loss: 2.2756 - val_acc: 0.3504\n",
            "Epoch 2/20\n",
            "50000/50000 [==============================] - 4s 82us/step - loss: 2.1427 - acc: 0.3777 - val_loss: 2.1060 - val_acc: 0.3696\n",
            "Epoch 3/20\n",
            "50000/50000 [==============================] - 4s 81us/step - loss: 1.9935 - acc: 0.3969 - val_loss: 1.9699 - val_acc: 0.4013\n",
            "Epoch 4/20\n",
            "50000/50000 [==============================] - 4s 81us/step - loss: 1.9167 - acc: 0.4127 - val_loss: 1.8615 - val_acc: 0.4248\n",
            "Epoch 5/20\n",
            "50000/50000 [==============================] - 4s 81us/step - loss: 1.8710 - acc: 0.4208 - val_loss: 1.8524 - val_acc: 0.4209\n",
            "Epoch 6/20\n",
            "50000/50000 [==============================] - 4s 81us/step - loss: 1.8220 - acc: 0.4313 - val_loss: 1.8131 - val_acc: 0.4326\n",
            "Epoch 7/20\n",
            "50000/50000 [==============================] - 4s 81us/step - loss: 1.7963 - acc: 0.4368 - val_loss: 1.7553 - val_acc: 0.4538\n",
            "Epoch 8/20\n",
            "50000/50000 [==============================] - 4s 81us/step - loss: 1.7663 - acc: 0.4457 - val_loss: 1.7977 - val_acc: 0.4319\n",
            "Epoch 9/20\n",
            "50000/50000 [==============================] - 4s 82us/step - loss: 1.7451 - acc: 0.4488 - val_loss: 1.7420 - val_acc: 0.4544\n",
            "Epoch 10/20\n",
            "50000/50000 [==============================] - 4s 80us/step - loss: 1.7303 - acc: 0.4553 - val_loss: 1.7104 - val_acc: 0.4660\n",
            "Epoch 11/20\n",
            "50000/50000 [==============================] - 4s 86us/step - loss: 1.7132 - acc: 0.4583 - val_loss: 1.7257 - val_acc: 0.4604\n",
            "Epoch 12/20\n",
            "50000/50000 [==============================] - 4s 84us/step - loss: 1.7074 - acc: 0.4617 - val_loss: 1.7588 - val_acc: 0.4507\n",
            "Epoch 13/20\n",
            "50000/50000 [==============================] - 4s 81us/step - loss: 1.6875 - acc: 0.4683 - val_loss: 1.7294 - val_acc: 0.4605\n",
            "Epoch 14/20\n",
            "50000/50000 [==============================] - 4s 82us/step - loss: 1.6752 - acc: 0.4706 - val_loss: 1.6740 - val_acc: 0.4719\n",
            "Epoch 15/20\n",
            "50000/50000 [==============================] - 4s 81us/step - loss: 1.6700 - acc: 0.4715 - val_loss: 1.7589 - val_acc: 0.4484\n",
            "Epoch 16/20\n",
            "50000/50000 [==============================] - 4s 80us/step - loss: 1.6634 - acc: 0.4782 - val_loss: 1.7123 - val_acc: 0.4630\n",
            "Epoch 17/20\n",
            "50000/50000 [==============================] - 4s 80us/step - loss: 1.6570 - acc: 0.4775 - val_loss: 1.6533 - val_acc: 0.4849\n",
            "Epoch 18/20\n",
            "50000/50000 [==============================] - 4s 81us/step - loss: 1.6543 - acc: 0.4781 - val_loss: 1.6844 - val_acc: 0.4712\n",
            "Epoch 19/20\n",
            "50000/50000 [==============================] - 4s 81us/step - loss: 1.6359 - acc: 0.4848 - val_loss: 1.6673 - val_acc: 0.4744\n",
            "Epoch 20/20\n",
            "50000/50000 [==============================] - 4s 82us/step - loss: 1.6296 - acc: 0.4858 - val_loss: 1.6403 - val_acc: 0.4847\n"
          ],
          "name": "stdout"
        }
      ]
    },
    {
      "cell_type": "code",
      "metadata": {
        "id": "upDN6tpsyiuw",
        "colab_type": "code",
        "colab": {
          "base_uri": "https://localhost:8080/",
          "height": 1000
        },
        "outputId": "945c111c-be1f-4061-82fd-238aa178430a"
      },
      "source": [
        "for l1_z , l2_z in zip(l1_ratio , l2_ratio):\n",
        "  keras.backend.clear_session()\n",
        "  print('l1: ' , l1_z)\n",
        "  print('l2: ' , l2_z)\n",
        "  \n",
        "  model = build_mlp(x_train.shape[1:] , l1_ratio_p = l1_z , l2_ratio_p = l2_z , l1_l2_sel = False)\n",
        "\n",
        "  model.compile(loss = 'categorical_crossentropy' , optimizer = 'adam' , metrics = ['acc'])\n",
        "  model.fit(x_train , y_train , epochs = epochs , batch_size = batch_size , validation_data = (x_test , y_test) , shuffle = True)\n",
        "\n",
        "  train_loss = model.history.history[\"loss\"]\n",
        "  valid_loss = model.history.history[\"val_loss\"]\n",
        "  train_acc = model.history.history[\"acc\"]\n",
        "  valid_acc = model.history.history[\"val_acc\"]\n",
        "    \n",
        "  results[1] = {'train-loss': train_loss,\n",
        "                'valid-loss': valid_loss,\n",
        "                'train-acc': train_acc,\n",
        "                'valid-acc': valid_acc}\n"
      ],
      "execution_count": 49,
      "outputs": [
        {
          "output_type": "stream",
          "text": [
            "l1:  0.01\n",
            "l2:  0.01\n",
            "Train on 50000 samples, validate on 10000 samples\n",
            "Epoch 1/20\n",
            "50000/50000 [==============================] - 4s 81us/step - loss: 19.6097 - acc: 0.1004 - val_loss: 3.4736 - val_acc: 0.1000\n",
            "Epoch 2/20\n",
            "50000/50000 [==============================] - 4s 77us/step - loss: 3.4740 - acc: 0.0974 - val_loss: 3.4732 - val_acc: 0.1000\n",
            "Epoch 3/20\n",
            "50000/50000 [==============================] - 4s 76us/step - loss: 3.4741 - acc: 0.0987 - val_loss: 3.4762 - val_acc: 0.1000\n",
            "Epoch 4/20\n",
            "50000/50000 [==============================] - 4s 77us/step - loss: 3.4742 - acc: 0.0978 - val_loss: 3.4727 - val_acc: 0.1000\n",
            "Epoch 5/20\n",
            "50000/50000 [==============================] - 4s 78us/step - loss: 3.4741 - acc: 0.0968 - val_loss: 3.4702 - val_acc: 0.1000\n",
            "Epoch 6/20\n",
            "50000/50000 [==============================] - 4s 77us/step - loss: 3.4741 - acc: 0.0968 - val_loss: 3.4759 - val_acc: 0.1000\n",
            "Epoch 7/20\n",
            "50000/50000 [==============================] - 4s 83us/step - loss: 3.4741 - acc: 0.0972 - val_loss: 3.4786 - val_acc: 0.1000\n",
            "Epoch 8/20\n",
            "50000/50000 [==============================] - 4s 84us/step - loss: 3.4741 - acc: 0.0975 - val_loss: 3.4688 - val_acc: 0.1000\n",
            "Epoch 9/20\n",
            "50000/50000 [==============================] - 4s 81us/step - loss: 3.4740 - acc: 0.0950 - val_loss: 3.4752 - val_acc: 0.1000\n",
            "Epoch 10/20\n",
            "50000/50000 [==============================] - 4s 78us/step - loss: 3.4740 - acc: 0.0975 - val_loss: 3.4785 - val_acc: 0.1000\n",
            "Epoch 11/20\n",
            "50000/50000 [==============================] - 4s 83us/step - loss: 3.4741 - acc: 0.0963 - val_loss: 3.4726 - val_acc: 0.1000\n",
            "Epoch 12/20\n",
            "50000/50000 [==============================] - 4s 78us/step - loss: 3.4740 - acc: 0.0982 - val_loss: 3.4712 - val_acc: 0.1000\n",
            "Epoch 13/20\n",
            "50000/50000 [==============================] - 4s 78us/step - loss: 3.4741 - acc: 0.0963 - val_loss: 3.4757 - val_acc: 0.1000\n",
            "Epoch 14/20\n",
            "50000/50000 [==============================] - 4s 78us/step - loss: 3.4739 - acc: 0.0973 - val_loss: 3.4758 - val_acc: 0.1000\n",
            "Epoch 15/20\n",
            "50000/50000 [==============================] - 4s 79us/step - loss: 3.4740 - acc: 0.0983 - val_loss: 3.4644 - val_acc: 0.1000\n",
            "Epoch 16/20\n",
            "50000/50000 [==============================] - 4s 78us/step - loss: 3.4739 - acc: 0.0980 - val_loss: 3.4697 - val_acc: 0.1000\n",
            "Epoch 17/20\n",
            "50000/50000 [==============================] - 4s 81us/step - loss: 3.4740 - acc: 0.0963 - val_loss: 3.4750 - val_acc: 0.1000\n",
            "Epoch 18/20\n",
            "50000/50000 [==============================] - 4s 83us/step - loss: 3.4738 - acc: 0.0967 - val_loss: 3.4769 - val_acc: 0.1000\n",
            "Epoch 19/20\n",
            "50000/50000 [==============================] - 4s 79us/step - loss: 3.4739 - acc: 0.0974 - val_loss: 3.4734 - val_acc: 0.1000\n",
            "Epoch 20/20\n",
            "50000/50000 [==============================] - 4s 79us/step - loss: 3.4740 - acc: 0.0986 - val_loss: 3.4731 - val_acc: 0.1000\n",
            "l1:  0.001\n",
            "l2:  0.001\n",
            "Train on 50000 samples, validate on 10000 samples\n",
            "Epoch 1/20\n",
            "50000/50000 [==============================] - 4s 83us/step - loss: 4.9682 - acc: 0.2361 - val_loss: 2.5069 - val_acc: 0.2617\n",
            "Epoch 2/20\n",
            "50000/50000 [==============================] - 4s 79us/step - loss: 2.3698 - acc: 0.2563 - val_loss: 2.2707 - val_acc: 0.2673\n",
            "Epoch 3/20\n",
            "50000/50000 [==============================] - 4s 79us/step - loss: 2.2500 - acc: 0.2625 - val_loss: 2.2158 - val_acc: 0.2705\n",
            "Epoch 4/20\n",
            "50000/50000 [==============================] - 4s 79us/step - loss: 2.2207 - acc: 0.2637 - val_loss: 2.2103 - val_acc: 0.2668\n",
            "Epoch 5/20\n",
            "50000/50000 [==============================] - 4s 79us/step - loss: 2.2050 - acc: 0.2646 - val_loss: 2.1836 - val_acc: 0.2702\n",
            "Epoch 6/20\n",
            "50000/50000 [==============================] - 4s 78us/step - loss: 2.1964 - acc: 0.2655 - val_loss: 2.1796 - val_acc: 0.2753\n",
            "Epoch 7/20\n",
            "50000/50000 [==============================] - 4s 79us/step - loss: 2.1846 - acc: 0.2684 - val_loss: 2.1822 - val_acc: 0.2675\n",
            "Epoch 8/20\n",
            "50000/50000 [==============================] - 4s 79us/step - loss: 2.1758 - acc: 0.2703 - val_loss: 2.1750 - val_acc: 0.2719\n",
            "Epoch 9/20\n",
            "50000/50000 [==============================] - 4s 78us/step - loss: 2.1709 - acc: 0.2705 - val_loss: 2.1430 - val_acc: 0.2885\n",
            "Epoch 10/20\n",
            "50000/50000 [==============================] - 4s 78us/step - loss: 2.1657 - acc: 0.2730 - val_loss: 2.1739 - val_acc: 0.2720\n",
            "Epoch 11/20\n",
            "50000/50000 [==============================] - 4s 77us/step - loss: 2.1596 - acc: 0.2734 - val_loss: 2.1703 - val_acc: 0.2642\n",
            "Epoch 12/20\n",
            "50000/50000 [==============================] - 4s 78us/step - loss: 2.1551 - acc: 0.2757 - val_loss: 2.1405 - val_acc: 0.2811\n",
            "Epoch 13/20\n",
            "50000/50000 [==============================] - 4s 78us/step - loss: 2.1511 - acc: 0.2750 - val_loss: 2.1423 - val_acc: 0.2857\n",
            "Epoch 14/20\n",
            "50000/50000 [==============================] - 4s 79us/step - loss: 2.1489 - acc: 0.2750 - val_loss: 2.1484 - val_acc: 0.2782\n",
            "Epoch 15/20\n",
            "50000/50000 [==============================] - 4s 78us/step - loss: 2.1474 - acc: 0.2803 - val_loss: 2.1282 - val_acc: 0.2920\n",
            "Epoch 16/20\n",
            "50000/50000 [==============================] - 4s 78us/step - loss: 2.1422 - acc: 0.2827 - val_loss: 2.1427 - val_acc: 0.2801\n",
            "Epoch 17/20\n",
            "50000/50000 [==============================] - 4s 78us/step - loss: 2.1386 - acc: 0.2844 - val_loss: 2.1228 - val_acc: 0.2908\n",
            "Epoch 18/20\n",
            "50000/50000 [==============================] - 4s 78us/step - loss: 2.1396 - acc: 0.2853 - val_loss: 2.1126 - val_acc: 0.3019\n",
            "Epoch 19/20\n",
            "50000/50000 [==============================] - 4s 77us/step - loss: 2.1317 - acc: 0.2919 - val_loss: 2.1207 - val_acc: 0.2987\n",
            "Epoch 20/20\n",
            "50000/50000 [==============================] - 4s 77us/step - loss: 2.1315 - acc: 0.2939 - val_loss: 2.1207 - val_acc: 0.3005\n",
            "l1:  0.0001\n",
            "l2:  0.0001\n",
            "Train on 50000 samples, validate on 10000 samples\n",
            "Epoch 1/20\n",
            "50000/50000 [==============================] - 4s 81us/step - loss: 2.7577 - acc: 0.3197 - val_loss: 2.2735 - val_acc: 0.3532\n",
            "Epoch 2/20\n",
            "50000/50000 [==============================] - 4s 77us/step - loss: 2.1535 - acc: 0.3808 - val_loss: 2.0927 - val_acc: 0.3715\n",
            "Epoch 3/20\n",
            "50000/50000 [==============================] - 4s 78us/step - loss: 2.0204 - acc: 0.3971 - val_loss: 1.9164 - val_acc: 0.4259\n",
            "Epoch 4/20\n",
            "50000/50000 [==============================] - 4s 77us/step - loss: 1.9257 - acc: 0.4142 - val_loss: 1.8741 - val_acc: 0.4248\n",
            "Epoch 5/20\n",
            "50000/50000 [==============================] - 4s 78us/step - loss: 1.8576 - acc: 0.4248 - val_loss: 1.7959 - val_acc: 0.4474\n",
            "Epoch 6/20\n",
            "50000/50000 [==============================] - 4s 77us/step - loss: 1.8228 - acc: 0.4323 - val_loss: 1.8645 - val_acc: 0.4105\n",
            "Epoch 7/20\n",
            "50000/50000 [==============================] - 4s 77us/step - loss: 1.7877 - acc: 0.4426 - val_loss: 1.7751 - val_acc: 0.4526\n",
            "Epoch 8/20\n",
            "50000/50000 [==============================] - 4s 78us/step - loss: 1.7545 - acc: 0.4527 - val_loss: 1.7309 - val_acc: 0.4618\n",
            "Epoch 9/20\n",
            "50000/50000 [==============================] - 4s 77us/step - loss: 1.7312 - acc: 0.4579 - val_loss: 1.7133 - val_acc: 0.4674\n",
            "Epoch 10/20\n",
            "50000/50000 [==============================] - 4s 78us/step - loss: 1.7311 - acc: 0.4565 - val_loss: 1.7233 - val_acc: 0.4666\n",
            "Epoch 11/20\n",
            "50000/50000 [==============================] - 4s 77us/step - loss: 1.7024 - acc: 0.4659 - val_loss: 1.7313 - val_acc: 0.4560\n",
            "Epoch 12/20\n",
            "50000/50000 [==============================] - 4s 77us/step - loss: 1.7012 - acc: 0.4691 - val_loss: 1.6852 - val_acc: 0.4730\n",
            "Epoch 13/20\n",
            "50000/50000 [==============================] - 4s 77us/step - loss: 1.6791 - acc: 0.4763 - val_loss: 1.7097 - val_acc: 0.4683\n",
            "Epoch 14/20\n",
            "50000/50000 [==============================] - 4s 78us/step - loss: 1.6740 - acc: 0.4751 - val_loss: 1.6865 - val_acc: 0.4768\n",
            "Epoch 15/20\n",
            "50000/50000 [==============================] - 4s 76us/step - loss: 1.6611 - acc: 0.4804 - val_loss: 1.6677 - val_acc: 0.4743\n",
            "Epoch 16/20\n",
            "50000/50000 [==============================] - 4s 77us/step - loss: 1.6518 - acc: 0.4823 - val_loss: 1.6941 - val_acc: 0.4770\n",
            "Epoch 17/20\n",
            "50000/50000 [==============================] - 4s 77us/step - loss: 1.6431 - acc: 0.4850 - val_loss: 1.6815 - val_acc: 0.4778\n",
            "Epoch 18/20\n",
            "50000/50000 [==============================] - 4s 76us/step - loss: 1.6435 - acc: 0.4848 - val_loss: 1.6618 - val_acc: 0.4749\n",
            "Epoch 19/20\n",
            "50000/50000 [==============================] - 4s 77us/step - loss: 1.6257 - acc: 0.4920 - val_loss: 1.6510 - val_acc: 0.4834\n",
            "Epoch 20/20\n",
            "50000/50000 [==============================] - 4s 77us/step - loss: 1.6285 - acc: 0.4888 - val_loss: 1.6743 - val_acc: 0.4794\n"
          ],
          "name": "stdout"
        }
      ]
    },
    {
      "cell_type": "code",
      "metadata": {
        "id": "zZpjYIfwwgGT",
        "colab_type": "code",
        "colab": {
          "base_uri": "https://localhost:8080/",
          "height": 762
        },
        "outputId": "ce7f5d8f-7f6f-4c8c-b560-c10b6d9c666f"
      },
      "source": [
        "import matplotlib.pyplot as plt\n",
        "%matplotlib inline\n",
        "\"\"\"Code Here\n",
        "將結果繪出\n",
        "\"\"\"\n",
        "color_bar = [\"r\", \"g\", \"b\", \"y\", \"m\", \"k\"]\n",
        "plt.figure(figsize=(8,6))\n",
        "\n",
        "for i , cond in enumerate(results.keys()):\n",
        "    plt.plot(range(len(results[cond]['train-loss'])),results[cond]['train-loss'], '-', label=cond, color=color_bar[i])\n",
        "    plt.plot(range(len(results[cond]['valid-loss'])),results[cond]['valid-loss'], '--', label=cond, color=color_bar[i])\n",
        "plt.title(\"Loss\")\n",
        "plt.legend()\n",
        "plt.show()\n",
        "\n",
        "plt.figure(figsize=(8,6))\n",
        "for i, cond in enumerate(results.keys()):\n",
        "    plt.plot(range(len(results[cond]['train-acc'])),results[cond]['train-acc'], '-', label=cond, color=color_bar[i])\n",
        "    plt.plot(range(len(results[cond]['valid-acc'])),results[cond]['valid-acc'], '--', label=cond, color=color_bar[i])\n",
        "plt.title(\"Accuracy\")\n",
        "plt.legend()\n",
        "plt.show()"
      ],
      "execution_count": 50,
      "outputs": [
        {
          "output_type": "display_data",
          "data": {
            "image/png": "[encoded data removed]",
            "text/plain": [
              "<Figure size 576x432 with 1 Axes>"
            ]
          },
          "metadata": {
            "tags": [],
            "needs_background": "light"
          }
        },
        {
          "output_type": "display_data",
          "data": {
            "image/png": "[encoded data removed]",
            "text/plain": [
              "<Figure size 576x432 with 1 Axes>"
            ]
          },
          "metadata": {
            "tags": [],
            "needs_background": "light"
          }
        }
      ]
    }
  ]
}