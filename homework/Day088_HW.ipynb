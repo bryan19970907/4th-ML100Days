{
  "nbformat": 4,
  "nbformat_minor": 0,
  "metadata": {
    "kernelspec": {
      "display_name": "Python 3",
      "language": "python",
      "name": "python3"
    },
    "language_info": {
      "codemirror_mode": {
        "name": "ipython",
        "version": 3
      },
      "file_extension": ".py",
      "mimetype": "text/x-python",
      "name": "python",
      "nbconvert_exporter": "python",
      "pygments_lexer": "ipython3",
      "version": "3.6.5"
    },
    "colab": {
      "name": "Day088_HW.ipynb",
      "provenance": []
    },
    "accelerator": "GPU"
  },
  "cells": [
    {
      "cell_type": "markdown",
      "metadata": {
        "id": "NKjgAAjla7n4",
        "colab_type": "text"
      },
      "source": [
        "## Work\n",
        "1. 請嘗試寫一個 callback 用來記錄各類別在訓練過程中，對驗證集的 True Positive 與 True Negative"
      ]
    },
    {
      "cell_type": "code",
      "metadata": {
        "id": "k23uO-Zsa7n5",
        "colab_type": "code",
        "colab": {
          "base_uri": "https://localhost:8080/",
          "height": 34
        },
        "outputId": "7506fb03-5452-4bb4-90ea-b9cd77f03524"
      },
      "source": [
        "import os\n",
        "import keras\n",
        "\n",
        "# Disable GPU\n",
        "# os.environ[\"CUDA_VISIBLE_DEVICES\"] = \"\""
      ],
      "execution_count": 1,
      "outputs": [
        {
          "output_type": "stream",
          "text": [
            "Using TensorFlow backend.\n"
          ],
          "name": "stderr"
        }
      ]
    },
    {
      "cell_type": "code",
      "metadata": {
        "id": "ciq337caa7oA",
        "colab_type": "code",
        "colab": {
          "base_uri": "https://localhost:8080/",
          "height": 51
        },
        "outputId": "73371ec4-b428-4c15-ad83-d89f585a1c56"
      },
      "source": [
        "train, test = keras.datasets.cifar10.load_data()"
      ],
      "execution_count": 2,
      "outputs": [
        {
          "output_type": "stream",
          "text": [
            "Downloading data from https://www.cs.toronto.edu/~kriz/cifar-10-python.tar.gz\n",
            "170500096/170498071 [==============================] - 4s 0us/step\n"
          ],
          "name": "stdout"
        }
      ]
    },
    {
      "cell_type": "code",
      "metadata": {
        "id": "5BCMwsCva7oE",
        "colab_type": "code",
        "colab": {}
      },
      "source": [
        "## 資料前處理\n",
        "def preproc_x(x, flatten=True):\n",
        "    x = x / 255.\n",
        "    if flatten:\n",
        "        x = x.reshape((len(x), -1))\n",
        "    return x\n",
        "\n",
        "def preproc_y(y, num_classes=10):\n",
        "    if y.shape[-1] == 1:\n",
        "        y = keras.utils.to_categorical(y, num_classes)\n",
        "    return y    "
      ],
      "execution_count": 3,
      "outputs": []
    },
    {
      "cell_type": "code",
      "metadata": {
        "id": "EkqkiC35a7oJ",
        "colab_type": "code",
        "colab": {}
      },
      "source": [
        "x_train, y_train = train\n",
        "x_test, y_test = test\n",
        "\n",
        "# Preproc the inputs\n",
        "x_train = preproc_x(x_train)\n",
        "x_test = preproc_x(x_test)\n",
        "\n",
        "# Preprc the outputs\n",
        "y_train = preproc_y(y_train)\n",
        "y_test = preproc_y(y_test)"
      ],
      "execution_count": 4,
      "outputs": []
    },
    {
      "cell_type": "code",
      "metadata": {
        "id": "9p03168Wa7oN",
        "colab_type": "code",
        "colab": {}
      },
      "source": [
        "from keras.layers import BatchNormalization\n",
        "def build_mlp(input_shape, output_units=10, num_neurons=[256, 256, 256]):\n",
        "    \"\"\"Code Here\n",
        "    建立你的神經網路\n",
        "    \"\"\"\n",
        "    input_layer = keras.layers.Input(input_shape)\n",
        "    \n",
        "    for i, n_units in enumerate(num_neurons):\n",
        "        if i == 0:\n",
        "            x = keras.layers.Dense(units=n_units, \n",
        "                                   activation=\"relu\", \n",
        "                                   name=\"hidden_layer\"+str(i+1))(input_layer)\n",
        "            x = BatchNormalization()(x)\n",
        "        else:\n",
        "            x = keras.layers.Dense(units=n_units, \n",
        "                                   activation=\"relu\", \n",
        "                                   name=\"hidden_layer\"+str(i+1))(x)\n",
        "            x = BatchNormalization()(x)\n",
        "    \n",
        "    out = keras.layers.Dense(units=output_units, activation=\"softmax\", name=\"output\")(x)\n",
        "    \n",
        "    model = keras.models.Model(inputs=[input_layer], outputs=[out])\n",
        "    return model"
      ],
      "execution_count": 5,
      "outputs": []
    },
    {
      "cell_type": "code",
      "metadata": {
        "id": "H4nZxmhra7oP",
        "colab_type": "code",
        "colab": {}
      },
      "source": [
        "## 超參數設定\n",
        "LEARNING_RATE = 1e-3\n",
        "EPOCHS = 20\n",
        "BATCH_SIZE = 1024\n",
        "MOMENTUM = 0.95"
      ],
      "execution_count": 6,
      "outputs": []
    },
    {
      "cell_type": "code",
      "metadata": {
        "id": "kqYkyDEya7oS",
        "colab_type": "code",
        "colab": {}
      },
      "source": [
        "# 載入 Callbacks\n",
        "from keras.callbacks import Callback\n",
        "\n",
        "# Record_fp_tp\n",
        "class Record_tp_tn(Callback):\n",
        "    \"\"\"Code Here\n",
        "    撰寫一個紀錄 ture positive 與 true negative 數量的 callbacks    \n",
        "    \"\"\"\n",
        "    def on_epoch_end(self, epoch, logs = {}, thres=0.5):\n",
        "        logs = logs or {}\n",
        "\n",
        "        y_true = self.validation_data[1].argmax(axis = 1)\n",
        "        y_pred = model.predict(self.validation_data[0])\n",
        "\n",
        "        y_pred = (y_pred[: , 1] >= thres)*1\n",
        "\n",
        "        #print('---------')\n",
        "        #print(y_true)\n",
        "        #print(y_pred)\n",
        "        #print(y_true*y_pred)\n",
        "\n",
        "        val_tp = sum(y_true*y_pred)\n",
        "        \n",
        "        # print(y_true) #e.g [3 8 8 ... 5 1 7]\n",
        "      \n",
        "        val_tn = sum((y_true==0) & (y_pred==0))\n",
        "        \n",
        "        logs[\"val_tp\"] = val_tp\n",
        "        logs[\"val_tn\"] = val_tn\n",
        "\n",
        "rec_tptn = Record_tp_tn()"
      ],
      "execution_count": 20,
      "outputs": []
    },
    {
      "cell_type": "code",
      "metadata": {
        "scrolled": true,
        "id": "wIFa37Dna7oV",
        "colab_type": "code",
        "colab": {
          "base_uri": "https://localhost:8080/",
          "height": 1000
        },
        "outputId": "0ef1c1bc-7c0b-49d1-f235-f40f0787a258"
      },
      "source": [
        "model = build_mlp(input_shape=x_train.shape[1:])\n",
        "model.summary()\n",
        "optimizer = keras.optimizers.SGD(lr=LEARNING_RATE, nesterov=True, momentum=MOMENTUM)\n",
        "model.compile(loss=\"categorical_crossentropy\", metrics=[\"acc\"], optimizer=optimizer)\n",
        "\n",
        "\"\"\"Code Here\n",
        "將 callbacks 放入模型訓練流程中\n",
        "\"\"\"\n",
        "model.fit(x_train, y_train, \n",
        "          epochs=EPOCHS, \n",
        "          batch_size=BATCH_SIZE, \n",
        "          validation_data=(x_test, y_test), \n",
        "          shuffle=True,\n",
        "          callbacks=[rec_tptn]\n",
        "         )\n",
        "\n",
        "\n",
        "# Collect results\n",
        "train_loss = model.history.history[\"loss\"]\n",
        "valid_loss = model.history.history[\"val_loss\"]\n",
        "train_acc = model.history.history[\"acc\"]\n",
        "valid_acc = model.history.history[\"val_acc\"]\n",
        "\n",
        "\"\"\"Code Here\n",
        "將 tp/tn 從訓練完的模型中取出\n",
        "\"\"\"\n",
        "valid_tp = model.history.history[\"val_tp\"]\n",
        "valid_tn = model.history.history[\"val_tn\"]"
      ],
      "execution_count": 21,
      "outputs": [
        {
          "output_type": "stream",
          "text": [
            "Model: \"model_8\"\n",
            "_________________________________________________________________\n",
            "Layer (type)                 Output Shape              Param #   \n",
            "=================================================================\n",
            "input_8 (InputLayer)         (None, 3072)              0         \n",
            "_________________________________________________________________\n",
            "hidden_layer1 (Dense)        (None, 256)               786688    \n",
            "_________________________________________________________________\n",
            "batch_normalization_22 (Batc (None, 256)               1024      \n",
            "_________________________________________________________________\n",
            "hidden_layer2 (Dense)        (None, 256)               65792     \n",
            "_________________________________________________________________\n",
            "batch_normalization_23 (Batc (None, 256)               1024      \n",
            "_________________________________________________________________\n",
            "hidden_layer3 (Dense)        (None, 256)               65792     \n",
            "_________________________________________________________________\n",
            "batch_normalization_24 (Batc (None, 256)               1024      \n",
            "_________________________________________________________________\n",
            "output (Dense)               (None, 10)                2570      \n",
            "=================================================================\n",
            "Total params: 923,914\n",
            "Trainable params: 922,378\n",
            "Non-trainable params: 1,536\n",
            "_________________________________________________________________\n",
            "Train on 50000 samples, validate on 10000 samples\n",
            "Epoch 1/20\n",
            "50000/50000 [==============================] - 1s 28us/step - loss: 2.2484 - acc: 0.2600 - val_loss: 2.1741 - val_acc: 0.1809\n",
            "Epoch 2/20\n",
            "50000/50000 [==============================] - 1s 20us/step - loss: 1.7663 - acc: 0.3829 - val_loss: 2.0042 - val_acc: 0.3000\n",
            "Epoch 3/20\n",
            "50000/50000 [==============================] - 1s 20us/step - loss: 1.6327 - acc: 0.4240 - val_loss: 1.8335 - val_acc: 0.3786\n",
            "Epoch 4/20\n",
            "50000/50000 [==============================] - 1s 21us/step - loss: 1.5575 - acc: 0.4511 - val_loss: 1.7277 - val_acc: 0.4062\n",
            "Epoch 5/20\n",
            "50000/50000 [==============================] - 1s 20us/step - loss: 1.5047 - acc: 0.4693 - val_loss: 1.6379 - val_acc: 0.4268\n",
            "Epoch 6/20\n",
            "50000/50000 [==============================] - 1s 20us/step - loss: 1.4615 - acc: 0.4867 - val_loss: 1.5877 - val_acc: 0.4399\n",
            "Epoch 7/20\n",
            "50000/50000 [==============================] - 1s 20us/step - loss: 1.4254 - acc: 0.4979 - val_loss: 1.5435 - val_acc: 0.4503\n",
            "Epoch 8/20\n",
            "50000/50000 [==============================] - 1s 20us/step - loss: 1.3923 - acc: 0.5103 - val_loss: 1.5285 - val_acc: 0.4581\n",
            "Epoch 9/20\n",
            "50000/50000 [==============================] - 1s 20us/step - loss: 1.3640 - acc: 0.5206 - val_loss: 1.5098 - val_acc: 0.4655\n",
            "Epoch 10/20\n",
            "50000/50000 [==============================] - 1s 20us/step - loss: 1.3379 - acc: 0.5311 - val_loss: 1.4938 - val_acc: 0.4671\n",
            "Epoch 11/20\n",
            "50000/50000 [==============================] - 1s 20us/step - loss: 1.3107 - acc: 0.5410 - val_loss: 1.4966 - val_acc: 0.4692\n",
            "Epoch 12/20\n",
            "50000/50000 [==============================] - 1s 20us/step - loss: 1.2879 - acc: 0.5498 - val_loss: 1.4831 - val_acc: 0.4752\n",
            "Epoch 13/20\n",
            "50000/50000 [==============================] - 1s 20us/step - loss: 1.2665 - acc: 0.5581 - val_loss: 1.4803 - val_acc: 0.4702\n",
            "Epoch 14/20\n",
            "50000/50000 [==============================] - 1s 20us/step - loss: 1.2463 - acc: 0.5636 - val_loss: 1.4700 - val_acc: 0.4793\n",
            "Epoch 15/20\n",
            "50000/50000 [==============================] - 1s 20us/step - loss: 1.2248 - acc: 0.5732 - val_loss: 1.4613 - val_acc: 0.4811\n",
            "Epoch 16/20\n",
            "50000/50000 [==============================] - 1s 20us/step - loss: 1.2052 - acc: 0.5815 - val_loss: 1.4601 - val_acc: 0.4810\n",
            "Epoch 17/20\n",
            "50000/50000 [==============================] - 1s 20us/step - loss: 1.1866 - acc: 0.5864 - val_loss: 1.4679 - val_acc: 0.4823\n",
            "Epoch 18/20\n",
            "50000/50000 [==============================] - 1s 20us/step - loss: 1.1686 - acc: 0.5930 - val_loss: 1.4518 - val_acc: 0.4885\n",
            "Epoch 19/20\n",
            "50000/50000 [==============================] - 1s 20us/step - loss: 1.1508 - acc: 0.6008 - val_loss: 1.4589 - val_acc: 0.4853\n",
            "Epoch 20/20\n",
            "50000/50000 [==============================] - 1s 20us/step - loss: 1.1327 - acc: 0.6082 - val_loss: 1.4548 - val_acc: 0.4902\n"
          ],
          "name": "stdout"
        }
      ]
    },
    {
      "cell_type": "code",
      "metadata": {
        "id": "8bEAOOhZa7oX",
        "colab_type": "code",
        "colab": {
          "base_uri": "https://localhost:8080/",
          "height": 808
        },
        "outputId": "acaaf1fc-209f-4c61-d5e2-8f831d2d930b"
      },
      "source": [
        "import matplotlib.pyplot as plt\n",
        "%matplotlib inline\n",
        "\n",
        "plt.plot(range(len(train_loss)), train_loss, label=\"train loss\")\n",
        "plt.plot(range(len(valid_loss)), valid_loss, label=\"valid loss\")\n",
        "plt.legend()\n",
        "plt.title(\"Loss\")\n",
        "plt.show()\n",
        "\n",
        "plt.plot(range(len(train_acc)), train_acc, label=\"train accuracy\")\n",
        "plt.plot(range(len(valid_acc)), valid_acc, label=\"valid accuracy\")\n",
        "plt.legend()\n",
        "plt.title(\"Accuracy\")\n",
        "plt.show()\n",
        "\n",
        "plt.plot(range(len(valid_tp)), valid_tp, label=\"valid tp\", color=\"navy\")\n",
        "plt.plot(range(len(valid_tn)), valid_tn, label=\"valid tn\", color=\"red\")\n",
        "plt.legend()\n",
        "plt.title(\"True positives and True Negatives\")\n",
        "plt.show()\n"
      ],
      "execution_count": 22,
      "outputs": [
        {
          "output_type": "display_data",
          "data": {
            "image/png": "[encoded data removed]",
            "text/plain": [
              "<Figure size 432x288 with 1 Axes>"
            ]
          },
          "metadata": {
            "tags": [],
            "needs_background": "light"
          }
        },
        {
          "output_type": "display_data",
          "data": {
            "image/png": "[encoded data removed]",
            "text/plain": [
              "<Figure size 432x288 with 1 Axes>"
            ]
          },
          "metadata": {
            "tags": [],
            "needs_background": "light"
          }
        },
        {
          "output_type": "display_data",
          "data": {
            "image/png": "[encoded data removed]",
            "text/plain": [
              "<Figure size 432x288 with 1 Axes>"
            ]
          },
          "metadata": {
            "tags": [],
            "needs_background": "light"
          }
        }
      ]
    }
  ]
}