{
  "nbformat": 4,
  "nbformat_minor": 0,
  "metadata": {
    "kernelspec": {
      "display_name": "Python 3",
      "language": "python",
      "name": "python3"
    },
    "language_info": {
      "codemirror_mode": {
        "name": "ipython",
        "version": 3
      },
      "file_extension": ".py",
      "mimetype": "text/x-python",
      "name": "python",
      "nbconvert_exporter": "python",
      "pygments_lexer": "ipython3",
      "version": "3.6.8"
    },
    "colab": {
      "name": "D76-optimizer_HW.ipynb",
      "provenance": []
    },
    "accelerator": "GPU"
  },
  "cells": [
    {
      "cell_type": "markdown",
      "metadata": {
        "id": "tlt9pqObEriS",
        "colab_type": "text"
      },
      "source": [
        "# 作業重點:\n",
        "\n",
        "(1)以, Adam, 為例, 調整 batch_size, epoch , 觀察accurancy, loss 的變化\n",
        "\n",
        "(2)以同一模型, 分別驗證 SGD, Adam, Rmsprop 的 accurancy"
      ]
    },
    {
      "cell_type": "markdown",
      "metadata": {
        "id": "a7ngsu5XEriT",
        "colab_type": "text"
      },
      "source": [
        "# 作業目標:\n",
        "    \n",
        "    取得各種優化器的運算結果"
      ]
    },
    {
      "cell_type": "code",
      "metadata": {
        "id": "TnbsnM_QEriW",
        "colab_type": "code",
        "colab": {
          "base_uri": "https://localhost:8080/",
          "height": 34
        },
        "outputId": "be6000bb-37d5-4739-9d85-ed03dd101a23"
      },
      "source": [
        "from __future__ import print_function\n",
        "import keras\n",
        "from keras.datasets import cifar10\n",
        "from keras.preprocessing.image import ImageDataGenerator\n",
        "from keras.models import Sequential\n",
        "from keras.layers import Dense, Dropout, Activation, Flatten\n",
        "from keras.layers import Conv2D, MaxPooling2D\n",
        "import os\n",
        "from keras import optimizers\n"
      ],
      "execution_count": 1,
      "outputs": [
        {
          "output_type": "stream",
          "text": [
            "Using TensorFlow backend.\n"
          ],
          "name": "stderr"
        }
      ]
    },
    {
      "cell_type": "code",
      "metadata": {
        "id": "5TBKz8czErip",
        "colab_type": "code",
        "colab": {
          "base_uri": "https://localhost:8080/",
          "height": 34
        },
        "outputId": "d6ce9363-1b06-4caa-af7a-d852d1039c9c"
      },
      "source": [
        "\n",
        "'''\n",
        "   宣告並設定\n",
        "   batch_size：對總的樣本數進行分組，每組包含的樣本數量\n",
        "   epochs ：訓練次數\n",
        "   \n",
        "''' \n",
        "\n",
        "batch_size = 32\n",
        "num_classes = 10\n",
        "epochs = 20\n",
        "data_augmentation = True\n",
        "num_predictions = 20\n",
        "\"\"\"\n",
        "save_dir = os.path.join(os.getcwd(), 'saved_models')\n",
        "model_name = 'keras_cifar10_trained_model.h5'\n",
        "\"\"\""
      ],
      "execution_count": 2,
      "outputs": [
        {
          "output_type": "execute_result",
          "data": {
            "text/plain": [
              "\"\\nsave_dir = os.path.join(os.getcwd(), 'saved_models')\\nmodel_name = 'keras_cifar10_trained_model.h5'\\n\""
            ]
          },
          "metadata": {
            "tags": []
          },
          "execution_count": 2
        }
      ]
    },
    {
      "cell_type": "code",
      "metadata": {
        "id": "OmovIS51Erix",
        "colab_type": "code",
        "colab": {
          "base_uri": "https://localhost:8080/",
          "height": 102
        },
        "outputId": "74c1264f-e10d-4bfb-b3c6-7c35c9c797fe"
      },
      "source": [
        "\n",
        "# The data, split between train and test sets:\n",
        "(x_train, y_train), (x_test, y_test) = cifar10.load_data()\n",
        "print('x_train shape:', x_train.shape)\n",
        "print(x_train.shape[0], 'train samples')\n",
        "print(x_test.shape[0], 'test samples')\n",
        "\n",
        "# Convert class vectors to binary class matrices.\n",
        "y_train = keras.utils.to_categorical(y_train, num_classes)\n",
        "y_test = keras.utils.to_categorical(y_test, num_classes)"
      ],
      "execution_count": 3,
      "outputs": [
        {
          "output_type": "stream",
          "text": [
            "Downloading data from https://www.cs.toronto.edu/~kriz/cifar-10-python.tar.gz\n",
            "170500096/170498071 [==============================] - 13s 0us/step\n",
            "x_train shape: (50000, 32, 32, 3)\n",
            "50000 train samples\n",
            "10000 test samples\n"
          ],
          "name": "stdout"
        }
      ]
    },
    {
      "cell_type": "code",
      "metadata": {
        "id": "Csxu8dDKEri3",
        "colab_type": "code",
        "colab": {}
      },
      "source": [
        "#    第一步：選擇模型, 順序模型是多個網絡層的線性堆疊\n",
        " \n",
        "model = Sequential()\n",
        "\n",
        "#   第二步：構建網絡層\n",
        "model.add(Conv2D(32, (3, 3), padding='same',\n",
        "                 input_shape=x_train.shape[1:]))\n",
        "model.add(Activation('relu'))\n",
        "model.add(Conv2D(32, (3, 3)))\n",
        "model.add(Activation('relu'))\n",
        "model.add(MaxPooling2D(pool_size=(2, 2)))\n",
        "model.add(Dropout(0.25))\n",
        "\n",
        "model.add(Conv2D(64, (3, 3), padding='same'))\n",
        "model.add(Activation('relu'))\n",
        "model.add(Conv2D(64, (3, 3)))\n",
        "model.add(Activation('relu'))\n",
        "model.add(MaxPooling2D(pool_size=(2, 2)))\n",
        "model.add(Dropout(0.25))\n",
        "\n",
        "model.add(Flatten())\n",
        "model.add(Dense(512))\n",
        "model.add(Activation('relu'))\n",
        "model.add(Dropout(0.5))\n",
        "\n",
        "model.add(Dense( 10)) # 輸出結果是10個類別，所以維度是10   \n",
        "model.add(Activation('softmax')) # 最後一層用softmax作為激活函數"
      ],
      "execution_count": 4,
      "outputs": []
    },
    {
      "cell_type": "code",
      "metadata": {
        "id": "rH105Lb6Eri-",
        "colab_type": "code",
        "colab": {
          "base_uri": "https://localhost:8080/",
          "height": 34
        },
        "outputId": "00ff0abb-fcc9-49b1-f342-2b36a0bbba4a"
      },
      "source": [
        "# 模型建立完成後，統計參數總量\n",
        "print(\"Total Parameters：%d\" % model.count_params())"
      ],
      "execution_count": 5,
      "outputs": [
        {
          "output_type": "stream",
          "text": [
            "Total Parameters：1250858\n"
          ],
          "name": "stdout"
        }
      ]
    },
    {
      "cell_type": "code",
      "metadata": {
        "id": "Pr-3GS0tErjB",
        "colab_type": "code",
        "colab": {
          "base_uri": "https://localhost:8080/",
          "height": 768
        },
        "outputId": "21e42bf9-a2a5-4841-c305-ac3f81879d2e"
      },
      "source": [
        "# 輸出模型摘要資訊\n",
        "model.summary()"
      ],
      "execution_count": 6,
      "outputs": [
        {
          "output_type": "stream",
          "text": [
            "Model: \"sequential_1\"\n",
            "_________________________________________________________________\n",
            "Layer (type)                 Output Shape              Param #   \n",
            "=================================================================\n",
            "conv2d_1 (Conv2D)            (None, 32, 32, 32)        896       \n",
            "_________________________________________________________________\n",
            "activation_1 (Activation)    (None, 32, 32, 32)        0         \n",
            "_________________________________________________________________\n",
            "conv2d_2 (Conv2D)            (None, 30, 30, 32)        9248      \n",
            "_________________________________________________________________\n",
            "activation_2 (Activation)    (None, 30, 30, 32)        0         \n",
            "_________________________________________________________________\n",
            "max_pooling2d_1 (MaxPooling2 (None, 15, 15, 32)        0         \n",
            "_________________________________________________________________\n",
            "dropout_1 (Dropout)          (None, 15, 15, 32)        0         \n",
            "_________________________________________________________________\n",
            "conv2d_3 (Conv2D)            (None, 15, 15, 64)        18496     \n",
            "_________________________________________________________________\n",
            "activation_3 (Activation)    (None, 15, 15, 64)        0         \n",
            "_________________________________________________________________\n",
            "conv2d_4 (Conv2D)            (None, 13, 13, 64)        36928     \n",
            "_________________________________________________________________\n",
            "activation_4 (Activation)    (None, 13, 13, 64)        0         \n",
            "_________________________________________________________________\n",
            "max_pooling2d_2 (MaxPooling2 (None, 6, 6, 64)          0         \n",
            "_________________________________________________________________\n",
            "dropout_2 (Dropout)          (None, 6, 6, 64)          0         \n",
            "_________________________________________________________________\n",
            "flatten_1 (Flatten)          (None, 2304)              0         \n",
            "_________________________________________________________________\n",
            "dense_1 (Dense)              (None, 512)               1180160   \n",
            "_________________________________________________________________\n",
            "activation_5 (Activation)    (None, 512)               0         \n",
            "_________________________________________________________________\n",
            "dropout_3 (Dropout)          (None, 512)               0         \n",
            "_________________________________________________________________\n",
            "dense_2 (Dense)              (None, 10)                5130      \n",
            "_________________________________________________________________\n",
            "activation_6 (Activation)    (None, 10)                0         \n",
            "=================================================================\n",
            "Total params: 1,250,858\n",
            "Trainable params: 1,250,858\n",
            "Non-trainable params: 0\n",
            "_________________________________________________________________\n"
          ],
          "name": "stdout"
        }
      ]
    },
    {
      "cell_type": "code",
      "metadata": {
        "id": "NP1XCk8-ErjE",
        "colab_type": "code",
        "colab": {}
      },
      "source": [
        "#第三步編譯\n",
        "'''\n",
        "SGD(隨機梯度下降) - Arguments\n",
        "lr: float >= 0. Learning rate.\n",
        "momentum: float >= 0. Parameter that accelerates SGD in the relevant direction and dampens oscillations.\n",
        "decay: float >= 0. Learning rate decay over each update.\n",
        "nesterov: boolean. Whether to apply Nesterov momentum.\n",
        "'''\n",
        "\n",
        "'''\n",
        "RMSprop- Arguments\n",
        "lr: float >= 0. Learning rate.\n",
        "rho: float >= 0.\n",
        "epsilon: float >= 0. Fuzz factor. If None, defaults to K.epsilon().\n",
        "decay: float >= 0. Learning rate decay over each update.\n",
        "'''\n",
        "\n",
        "opt_sgd = optimizers.SGD(lr=0.01, decay=1e-6, momentum=0.9, nesterov=True)\n",
        "opt_rms = optimizers.RMSprop(lr=0.01 , decay = 1e-6 , rho = 0.85)\n",
        "\n",
        "model.compile(optimizer = opt_sgd, loss = 'categorical_crossentropy', metrics = ['accuracy'])"
      ],
      "execution_count": 7,
      "outputs": []
    },
    {
      "cell_type": "code",
      "metadata": {
        "id": "Z1YDTR8tErjM",
        "colab_type": "code",
        "colab": {}
      },
      "source": [
        "# 資料正規化\n",
        "x_train = x_train.astype('float32')\n",
        "x_test = x_test.astype('float32')\n",
        "x_train /= 255\n",
        "x_test /= 255"
      ],
      "execution_count": 8,
      "outputs": []
    },
    {
      "cell_type": "code",
      "metadata": {
        "id": "g-EM0q-LErjS",
        "colab_type": "code",
        "colab": {
          "base_uri": "https://localhost:8080/",
          "height": 788
        },
        "outputId": "8de2f5be-4b62-4986-f640-d0e084ead1e7"
      },
      "source": [
        "# 是否要做資料處理\n",
        "if not data_augmentation:\n",
        "    print('Not using data augmentation.')\n",
        "    history=model.fit(x_train, y_train,\n",
        "              batch_size=batch_size,\n",
        "              epochs=epochs,\n",
        "              validation_data=(x_test, y_test),\n",
        "              shuffle=True)\n",
        "else:\n",
        "    print('Using real-time data augmentation.')\n",
        "    print('')\n",
        "        \n",
        "    # This will do preprocessing and realtime data augmentation:\n",
        "    datagen = ImageDataGenerator(\n",
        "        featurewise_center=False,  # set input mean to 0 over the dataset\n",
        "        samplewise_center=False,  # set each sample mean to 0\n",
        "        featurewise_std_normalization=False,  # divide inputs by std of the dataset\n",
        "        samplewise_std_normalization=False,  # divide each input by its std\n",
        "        zca_whitening=False,  # apply ZCA whitening\n",
        "        zca_epsilon=1e-06,  # epsilon for ZCA whitening\n",
        "        rotation_range=0,  # randomly rotate images in the range (degrees, 0 to 180)\n",
        "        # randomly shift images horizontally (fraction of total width)\n",
        "        width_shift_range=0.1,\n",
        "        # randomly shift images vertically (fraction of total height)\n",
        "        height_shift_range=0.1,\n",
        "        shear_range=0.,  # set range for random shear\n",
        "        zoom_range=0.,  # set range for random zoom\n",
        "        channel_shift_range=0.,  # set range for random channel shifts\n",
        "        # set mode for filling points outside the input boundaries\n",
        "        fill_mode='nearest',\n",
        "        cval=0.,  # value used for fill_mode = \"constant\"\n",
        "        horizontal_flip=True,  # randomly flip images\n",
        "        vertical_flip=False,  # randomly flip images\n",
        "        # set rescaling factor (applied before any other transformation)\n",
        "        rescale=None,\n",
        "        # set function that will be applied on each input\n",
        "        preprocessing_function=None,\n",
        "        # image data format, either \"channels_first\" or \"channels_last\"\n",
        "        data_format=None,\n",
        "        # fraction of images reserved for validation (strictly between 0 and 1)\n",
        "        validation_split=0.0)\n",
        "\n",
        "    # Compute quantities required for feature-wise normalization\n",
        "    # (std, mean, and principal components if ZCA whitening is applied).\n",
        "    datagen.fit(x_train)\n",
        "    history=model.fit(x_train, y_train,\n",
        "              batch_size=batch_size,\n",
        "              epochs=epochs,\n",
        "              validation_data=(x_test, y_test),\n",
        "              shuffle=True)   \n",
        "\n",
        "'''\n",
        "   第四步：訓練\n",
        "   .fit的一些參數\n",
        "   batch_size：對總的樣本數進行分組，每組包含的樣本數量\n",
        "   epochs ：訓練次數\n",
        "   shuffle：是否把數據隨機打亂之後再進行訓練\n",
        "   validation_split：拿出百分之多少用來做交叉驗證\n",
        "   verbose：屏顯模式 - 0：不輸出, 1：輸出進度, 2：輸出每次的訓練結果\n",
        "''' \n",
        "    "
      ],
      "execution_count": 9,
      "outputs": [
        {
          "output_type": "stream",
          "text": [
            "Using real-time data augmentation.\n",
            "\n",
            "Train on 50000 samples, validate on 10000 samples\n",
            "Epoch 1/20\n",
            "50000/50000 [==============================] - 17s 332us/step - loss: 1.7490 - accuracy: 0.3566 - val_loss: 1.3682 - val_accuracy: 0.4967\n",
            "Epoch 2/20\n",
            "50000/50000 [==============================] - 10s 190us/step - loss: 1.3096 - accuracy: 0.5271 - val_loss: 1.1935 - val_accuracy: 0.5805\n",
            "Epoch 3/20\n",
            "50000/50000 [==============================] - 9s 189us/step - loss: 1.1241 - accuracy: 0.6000 - val_loss: 1.1134 - val_accuracy: 0.6141\n",
            "Epoch 4/20\n",
            "50000/50000 [==============================] - 10s 190us/step - loss: 1.0118 - accuracy: 0.6411 - val_loss: 0.8692 - val_accuracy: 0.6971\n",
            "Epoch 5/20\n",
            "50000/50000 [==============================] - 10s 191us/step - loss: 0.9325 - accuracy: 0.6711 - val_loss: 0.9430 - val_accuracy: 0.6723\n",
            "Epoch 6/20\n",
            "50000/50000 [==============================] - 9s 188us/step - loss: 0.8829 - accuracy: 0.6892 - val_loss: 0.8050 - val_accuracy: 0.7173\n",
            "Epoch 7/20\n",
            "50000/50000 [==============================] - 10s 191us/step - loss: 0.8305 - accuracy: 0.7113 - val_loss: 0.7973 - val_accuracy: 0.7268\n",
            "Epoch 8/20\n",
            "50000/50000 [==============================] - 10s 192us/step - loss: 0.7958 - accuracy: 0.7235 - val_loss: 0.7814 - val_accuracy: 0.7332\n",
            "Epoch 9/20\n",
            "50000/50000 [==============================] - 9s 188us/step - loss: 0.7709 - accuracy: 0.7293 - val_loss: 0.7907 - val_accuracy: 0.7282\n",
            "Epoch 10/20\n",
            "50000/50000 [==============================] - 9s 190us/step - loss: 0.7467 - accuracy: 0.7385 - val_loss: 0.7550 - val_accuracy: 0.7442\n",
            "Epoch 11/20\n",
            "50000/50000 [==============================] - 10s 190us/step - loss: 0.7262 - accuracy: 0.7468 - val_loss: 0.7663 - val_accuracy: 0.7352\n",
            "Epoch 12/20\n",
            "50000/50000 [==============================] - 9s 188us/step - loss: 0.7139 - accuracy: 0.7510 - val_loss: 0.7144 - val_accuracy: 0.7584\n",
            "Epoch 13/20\n",
            "50000/50000 [==============================] - 9s 187us/step - loss: 0.6951 - accuracy: 0.7556 - val_loss: 0.7244 - val_accuracy: 0.7498\n",
            "Epoch 14/20\n",
            "50000/50000 [==============================] - 9s 187us/step - loss: 0.6826 - accuracy: 0.7623 - val_loss: 0.6858 - val_accuracy: 0.7659\n",
            "Epoch 15/20\n",
            "50000/50000 [==============================] - 9s 190us/step - loss: 0.6729 - accuracy: 0.7665 - val_loss: 0.6856 - val_accuracy: 0.7663\n",
            "Epoch 16/20\n",
            "50000/50000 [==============================] - 9s 189us/step - loss: 0.6680 - accuracy: 0.7655 - val_loss: 0.7374 - val_accuracy: 0.7475\n",
            "Epoch 17/20\n",
            "50000/50000 [==============================] - 9s 188us/step - loss: 0.6562 - accuracy: 0.7717 - val_loss: 0.7086 - val_accuracy: 0.7585\n",
            "Epoch 18/20\n",
            "50000/50000 [==============================] - 9s 188us/step - loss: 0.6428 - accuracy: 0.7771 - val_loss: 0.6923 - val_accuracy: 0.7658\n",
            "Epoch 19/20\n",
            "50000/50000 [==============================] - 10s 191us/step - loss: 0.6419 - accuracy: 0.7774 - val_loss: 0.7055 - val_accuracy: 0.7639\n",
            "Epoch 20/20\n",
            "50000/50000 [==============================] - 9s 187us/step - loss: 0.6277 - accuracy: 0.7832 - val_loss: 0.6629 - val_accuracy: 0.7713\n"
          ],
          "name": "stdout"
        },
        {
          "output_type": "execute_result",
          "data": {
            "text/plain": [
              "'\\n   第四步：訓練\\n   .fit的一些參數\\n   batch_size：對總的樣本數進行分組，每組包含的樣本數量\\n   epochs ：訓練次數\\n   shuffle：是否把數據隨機打亂之後再進行訓練\\n   validation_split：拿出百分之多少用來做交叉驗證\\n   verbose：屏顯模式 - 0：不輸出, 1：輸出進度, 2：輸出每次的訓練結果\\n'"
            ]
          },
          "metadata": {
            "tags": []
          },
          "execution_count": 9
        }
      ]
    },
    {
      "cell_type": "code",
      "metadata": {
        "id": "nQM0SPU6ErjX",
        "colab_type": "code",
        "colab": {
          "base_uri": "https://localhost:8080/",
          "height": 68
        },
        "outputId": "827dcc33-37ac-4aaa-fab0-12e5d0eba08e"
      },
      "source": [
        "# Save model and weights\n",
        "\"\"\"\n",
        "if not os.path.isdir(save_dir):\n",
        "    os.makedirs(save_dir)\n",
        "model_path = os.path.join(save_dir, model_name)\n",
        "model.save(model_path)\n",
        "print('Saved trained model at %s ' % model_path)\n",
        "\"\"\"\n",
        "# Score trained model.\n",
        "scores = model.evaluate(x_test, y_test, verbose=1)\n",
        "print('Test loss:', scores[0])\n",
        "print('Test accuracy:', scores[1])"
      ],
      "execution_count": 10,
      "outputs": [
        {
          "output_type": "stream",
          "text": [
            "10000/10000 [==============================] - 1s 105us/step\n",
            "Test loss: 0.6629378846168518\n",
            "Test accuracy: 0.7713000178337097\n"
          ],
          "name": "stdout"
        }
      ]
    },
    {
      "cell_type": "code",
      "metadata": {
        "id": "q34oD0zmErjh",
        "colab_type": "code",
        "colab": {
          "base_uri": "https://localhost:8080/",
          "height": 68
        },
        "outputId": "c492535b-0378-447e-c997-0dde30344455"
      },
      "source": [
        "#    第六步：輸出\n",
        "import numpy \n",
        "\n",
        "print ( \" test set \" )\n",
        "scores = model.evaluate(x_test,y_test,batch_size=200,verbose= 0)\n",
        "print ( \"\" )\n",
        "#print ( \" The test loss is %f \" % scores)\n",
        "print ( \" The test loss is %f \", scores)\n",
        "\n",
        "\n",
        "result = model.predict(x_test,batch_size=200,verbose= 0)\n",
        "\n",
        "result_max = numpy.argmax(result, axis = 1 )\n",
        "test_max = numpy.argmax(y_test, axis = 1 )\n",
        "\n",
        "result_bool = numpy.equal(result_max, test_max)\n",
        "true_num = numpy.sum(result_bool)\n"
      ],
      "execution_count": 11,
      "outputs": [
        {
          "output_type": "stream",
          "text": [
            " test set \n",
            "\n",
            " The test loss is %f  [0.6629378509521484, 0.7713000178337097]\n"
          ],
          "name": "stdout"
        }
      ]
    },
    {
      "cell_type": "code",
      "metadata": {
        "id": "R7g0X1-KErjm",
        "colab_type": "code",
        "colab": {
          "base_uri": "https://localhost:8080/",
          "height": 572
        },
        "outputId": "87f03d5c-a2d0-4729-a7de-4e9fe5580a4e"
      },
      "source": [
        "import matplotlib.pyplot as plt\n",
        "%matplotlib inline\n",
        "\n",
        "# Plot training & validation accuracy values\n",
        "plt.plot(history.history['accuracy'])\n",
        "plt.plot(history.history['val_accuracy'])\n",
        "plt.title('Model accuracy with SGD')\n",
        "plt.ylabel('Accuracy')\n",
        "plt.xlabel('Epoch')\n",
        "plt.legend(['Train', 'Valiidation'], loc='upper left')\n",
        "plt.show()\n",
        "\n",
        "# Plot training & validation loss values\n",
        "plt.plot(history.history['loss'])\n",
        "plt.plot(history.history['val_loss'])\n",
        "plt.title('Model loss with SGD')\n",
        "plt.ylabel('Loss')\n",
        "plt.xlabel('Epoch')\n",
        "plt.legend(['Train', 'Valiidation'], loc='upper left')\n",
        "plt.show()"
      ],
      "execution_count": 14,
      "outputs": [
        {
          "output_type": "display_data",
          "data": {
            "image/png": "[encoded data removed]",
            "text/plain": [
              "<Figure size 432x288 with 1 Axes>"
            ]
          },
          "metadata": {
            "tags": [],
            "needs_background": "light"
          }
        },
        {
          "output_type": "display_data",
          "data": {
            "image/png": "[encoded data removed]",
            "text/plain": [
              "<Figure size 432x288 with 1 Axes>"
            ]
          },
          "metadata": {
            "tags": [],
            "needs_background": "light"
          }
        }
      ]
    },
    {
      "cell_type": "code",
      "metadata": {
        "id": "v8kFtVDjErjt",
        "colab_type": "code",
        "colab": {
          "base_uri": "https://localhost:8080/",
          "height": 1000
        },
        "outputId": "aa0af873-501c-4168-83e7-800cef3eca75"
      },
      "source": [
        "model.compile(optimizer = opt_sgd, loss = 'categorical_crossentropy', metrics = ['accuracy'])\n",
        "history=model.fit(x_train, y_train,\n",
        "              batch_size=batch_size,\n",
        "              epochs=epochs,\n",
        "              validation_data=(x_test, y_test),\n",
        "              shuffle=True)\n",
        "plt.plot(history.history['accuracy'])\n",
        "plt.plot(history.history['val_accuracy'])\n",
        "plt.title('Model accuracy with RMSprop')\n",
        "plt.ylabel('Accuracy')\n",
        "plt.xlabel('Epoch')\n",
        "plt.legend(['Train', 'Valiidation'], loc='upper left')\n",
        "plt.show()\n",
        "\n",
        "# Plot training & validation loss values\n",
        "plt.plot(history.history['loss'])\n",
        "plt.plot(history.history['val_loss'])\n",
        "plt.title('Model loss with RMSprop')\n",
        "plt.ylabel('Loss')\n",
        "plt.xlabel('Epoch')\n",
        "plt.legend(['Train', 'Valiidation'], loc='upper left')\n",
        "plt.show()"
      ],
      "execution_count": 15,
      "outputs": [
        {
          "output_type": "stream",
          "text": [
            "Train on 50000 samples, validate on 10000 samples\n",
            "Epoch 1/20\n",
            "50000/50000 [==============================] - 10s 200us/step - loss: 0.6317 - accuracy: 0.7808 - val_loss: 0.7026 - val_accuracy: 0.7635\n",
            "Epoch 2/20\n",
            "50000/50000 [==============================] - 10s 193us/step - loss: 0.6249 - accuracy: 0.7844 - val_loss: 0.7561 - val_accuracy: 0.7453\n",
            "Epoch 3/20\n",
            "50000/50000 [==============================] - 10s 195us/step - loss: 0.6154 - accuracy: 0.7887 - val_loss: 0.7743 - val_accuracy: 0.7424\n",
            "Epoch 4/20\n",
            "50000/50000 [==============================] - 10s 191us/step - loss: 0.6154 - accuracy: 0.7895 - val_loss: 0.6829 - val_accuracy: 0.7716\n",
            "Epoch 5/20\n",
            "50000/50000 [==============================] - 10s 193us/step - loss: 0.6049 - accuracy: 0.7910 - val_loss: 0.6892 - val_accuracy: 0.7661\n",
            "Epoch 6/20\n",
            "50000/50000 [==============================] - 10s 195us/step - loss: 0.5993 - accuracy: 0.7951 - val_loss: 0.6884 - val_accuracy: 0.7704\n",
            "Epoch 7/20\n",
            "50000/50000 [==============================] - 10s 193us/step - loss: 0.5986 - accuracy: 0.7949 - val_loss: 0.7113 - val_accuracy: 0.7713\n",
            "Epoch 8/20\n",
            "50000/50000 [==============================] - 10s 191us/step - loss: 0.5889 - accuracy: 0.7990 - val_loss: 0.7047 - val_accuracy: 0.7652\n",
            "Epoch 9/20\n",
            "50000/50000 [==============================] - 10s 191us/step - loss: 0.5942 - accuracy: 0.7975 - val_loss: 0.6713 - val_accuracy: 0.7749\n",
            "Epoch 10/20\n",
            "50000/50000 [==============================] - 10s 191us/step - loss: 0.5961 - accuracy: 0.7967 - val_loss: 0.6804 - val_accuracy: 0.7706\n",
            "Epoch 11/20\n",
            "50000/50000 [==============================] - 10s 191us/step - loss: 0.5798 - accuracy: 0.8028 - val_loss: 0.7078 - val_accuracy: 0.7709\n",
            "Epoch 12/20\n",
            "50000/50000 [==============================] - 10s 193us/step - loss: 0.5912 - accuracy: 0.7994 - val_loss: 0.7033 - val_accuracy: 0.7638\n",
            "Epoch 13/20\n",
            "50000/50000 [==============================] - 10s 198us/step - loss: 0.5848 - accuracy: 0.8006 - val_loss: 0.7308 - val_accuracy: 0.7582\n",
            "Epoch 14/20\n",
            "50000/50000 [==============================] - 10s 198us/step - loss: 0.5827 - accuracy: 0.8031 - val_loss: 0.7526 - val_accuracy: 0.7504\n",
            "Epoch 15/20\n",
            "50000/50000 [==============================] - 10s 192us/step - loss: 0.5859 - accuracy: 0.8009 - val_loss: 0.7126 - val_accuracy: 0.7652\n",
            "Epoch 16/20\n",
            "50000/50000 [==============================] - 10s 195us/step - loss: 0.5784 - accuracy: 0.8048 - val_loss: 0.7079 - val_accuracy: 0.7709\n",
            "Epoch 17/20\n",
            "50000/50000 [==============================] - 10s 195us/step - loss: 0.5811 - accuracy: 0.8022 - val_loss: 0.6714 - val_accuracy: 0.7783\n",
            "Epoch 18/20\n",
            "50000/50000 [==============================] - 10s 194us/step - loss: 0.5829 - accuracy: 0.8015 - val_loss: 0.7395 - val_accuracy: 0.7533\n",
            "Epoch 19/20\n",
            "50000/50000 [==============================] - 10s 196us/step - loss: 0.5750 - accuracy: 0.8058 - val_loss: 0.6915 - val_accuracy: 0.7691\n",
            "Epoch 20/20\n",
            "50000/50000 [==============================] - 10s 194us/step - loss: 0.5693 - accuracy: 0.8078 - val_loss: 0.7068 - val_accuracy: 0.7712\n"
          ],
          "name": "stdout"
        },
        {
          "output_type": "display_data",
          "data": {
            "image/png": "[encoded data removed]",
            "text/plain": [
              "<Figure size 432x288 with 1 Axes>"
            ]
          },
          "metadata": {
            "tags": [],
            "needs_background": "light"
          }
        },
        {
          "output_type": "display_data",
          "data": {
            "image/png": "[encoded data removed]",
            "text/plain": [
              "<Figure size 432x288 with 1 Axes>"
            ]
          },
          "metadata": {
            "tags": [],
            "needs_background": "light"
          }
        }
      ]
    },
    {
      "cell_type": "code",
      "metadata": {
        "id": "w8mAFgHLErjw",
        "colab_type": "code",
        "colab": {
          "base_uri": "https://localhost:8080/",
          "height": 68
        },
        "outputId": "54294067-ceda-426c-f954-24d8fb126d0a"
      },
      "source": [
        "# For RMSprop\n",
        "scores = model.evaluate(x_test, y_test, verbose=1)\n",
        "print('Test loss:', scores[0])\n",
        "print('Test accuracy:', scores[1])"
      ],
      "execution_count": 16,
      "outputs": [
        {
          "output_type": "stream",
          "text": [
            "10000/10000 [==============================] - 1s 111us/step\n",
            "Test loss: 0.7067704187393189\n",
            "Test accuracy: 0.7712000012397766\n"
          ],
          "name": "stdout"
        }
      ]
    }
  ]
}