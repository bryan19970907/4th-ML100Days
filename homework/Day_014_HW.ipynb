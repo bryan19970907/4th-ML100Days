{
  "nbformat": 4,
  "nbformat_minor": 0,
  "metadata": {
    "kernelspec": {
      "display_name": "Python 3",
      "language": "python",
      "name": "python3"
    },
    "language_info": {
      "codemirror_mode": {
        "name": "ipython",
        "version": 3
      },
      "file_extension": ".py",
      "mimetype": "text/x-python",
      "name": "python",
      "nbconvert_exporter": "python",
      "pygments_lexer": "ipython3",
      "version": "3.6.1"
    },
    "colab": {
      "name": "Day_014_HW.ipynb",
      "provenance": [],
      "collapsed_sections": []
    }
  },
  "cells": [
    {
      "cell_type": "code",
      "metadata": {
        "id": "_wPMbzrjemg8",
        "colab_type": "code",
        "colab": {}
      },
      "source": [
        "# 作業\n",
        "- 參考範例程式碼，模擬一組負相關的資料，並計算出相關係數以及畫出 scatter plot"
      ],
      "execution_count": 0,
      "outputs": []
    },
    {
      "cell_type": "code",
      "metadata": {
        "id": "-o4G5LlCemhD",
        "colab_type": "code",
        "colab": {}
      },
      "source": [
        "# [作業目標]\n",
        "- 以下程式碼將示範在 python 如何利用 numpy 計算出兩組數據之間的相關係數，並觀察散佈圖\n",
        "- 藉由觀察相關矩陣與散佈圖的關係, 希望同學對 負相關 的變數分布情形也有比較直覺的理解"
      ],
      "execution_count": 0,
      "outputs": []
    },
    {
      "cell_type": "code",
      "metadata": {
        "id": "n5oA9U22emhH",
        "colab_type": "code",
        "colab": {}
      },
      "source": [
        "# [作業重點]\n",
        "- 仿照 In[4], In[5] 的語法, 寫出負相關的變數, 並觀察相關矩陣以及分布圖"
      ],
      "execution_count": 0,
      "outputs": []
    },
    {
      "cell_type": "code",
      "metadata": {
        "id": "LTsLnUYtemhK",
        "colab_type": "code",
        "colab": {}
      },
      "source": [
        "# 載入基礎套件\n",
        "import numpy as np\n",
        "np.random.seed(1)\n",
        "\n",
        "import matplotlib\n",
        "import matplotlib.pyplot as plt\n",
        "%matplotlib inline"
      ],
      "execution_count": 0,
      "outputs": []
    },
    {
      "cell_type": "markdown",
      "metadata": {
        "id": "YiJXw1bPemhN",
        "colab_type": "text"
      },
      "source": [
        "### 弱相關"
      ]
    },
    {
      "cell_type": "code",
      "metadata": {
        "id": "x0FkjF2CemhO",
        "colab_type": "code",
        "colab": {
          "base_uri": "https://localhost:8080/",
          "height": 50
        },
        "outputId": "4598249a-e3a3-45cf-e0c6-1818aa2d47c8"
      },
      "source": [
        "# 隨機生成兩組 1000 個介於 0~50 的數的整數 x, y, 看看相關矩陣如何\n",
        "x = np.random.randint(0, 50, 1000)\n",
        "y = np.random.randint(0, 50, 1000)\n",
        "\n",
        "# 呼叫 numpy 裡的相關矩陣函數 (corrcoef)\n",
        "np.corrcoef(x, y)"
      ],
      "execution_count": 3,
      "outputs": [
        {
          "output_type": "execute_result",
          "data": {
            "text/plain": [
              "array([[1.        , 0.00404702],\n",
              "       [0.00404702, 1.        ]])"
            ]
          },
          "metadata": {
            "tags": []
          },
          "execution_count": 3
        }
      ]
    },
    {
      "cell_type": "code",
      "metadata": {
        "id": "HfOHOaEWemhS",
        "colab_type": "code",
        "colab": {
          "base_uri": "https://localhost:8080/",
          "height": 281
        },
        "outputId": "cd722a66-522c-466b-a5e6-f759f2fb7f2f"
      },
      "source": [
        "# 將分布畫出來看看吧\n",
        "plt.scatter(x, y)"
      ],
      "execution_count": 4,
      "outputs": [
        {
          "output_type": "execute_result",
          "data": {
            "text/plain": [
              "<matplotlib.collections.PathCollection at 0x7fb9c907bdd8>"
            ]
          },
          "metadata": {
            "tags": []
          },
          "execution_count": 4
        },
        {
          "output_type": "display_data",
          "data": {
            "image/png": "[encoded data removed]",
            "text/plain": [
              "<Figure size 432x288 with 1 Axes>"
            ]
          },
          "metadata": {
            "tags": []
          }
        }
      ]
    },
    {
      "cell_type": "markdown",
      "metadata": {
        "id": "thgruDiyemhW",
        "colab_type": "text"
      },
      "source": [
        "### 正相關"
      ]
    },
    {
      "cell_type": "code",
      "metadata": {
        "id": "qzeDPaINemhX",
        "colab_type": "code",
        "colab": {
          "base_uri": "https://localhost:8080/",
          "height": 50
        },
        "outputId": "1a9d4756-2b0c-49b3-8877-cc3256afb409"
      },
      "source": [
        "# 隨機生成 1000 個介於 0~50 的數 x\n",
        "x = np.random.randint(0, 50, 1000)\n",
        "\n",
        "# 這次讓 y 與 x 正相關，再增加一些雜訊\n",
        "y = x + np.random.normal(0, 10, 1000)\n",
        "\n",
        "# 再次用 numpy 裡的函數來計算相關係數\n",
        "np.corrcoef(x, y)"
      ],
      "execution_count": 5,
      "outputs": [
        {
          "output_type": "execute_result",
          "data": {
            "text/plain": [
              "array([[1.       , 0.8218465],\n",
              "       [0.8218465, 1.       ]])"
            ]
          },
          "metadata": {
            "tags": []
          },
          "execution_count": 5
        }
      ]
    },
    {
      "cell_type": "code",
      "metadata": {
        "id": "eT_oStzHemha",
        "colab_type": "code",
        "colab": {
          "base_uri": "https://localhost:8080/",
          "height": 281
        },
        "outputId": "0a1f21a4-c5df-4f72-af15-8c7a40230499"
      },
      "source": [
        "# 再看看正相關的 x,y 分布\n",
        "plt.scatter(x, y)"
      ],
      "execution_count": 6,
      "outputs": [
        {
          "output_type": "execute_result",
          "data": {
            "text/plain": [
              "<matplotlib.collections.PathCollection at 0x7fb9c63bf630>"
            ]
          },
          "metadata": {
            "tags": []
          },
          "execution_count": 6
        },
        {
          "output_type": "display_data",
          "data": {
            "image/png": "[encoded data removed]",
            "text/plain": [
              "<Figure size 432x288 with 1 Axes>"
            ]
          },
          "metadata": {
            "tags": []
          }
        }
      ]
    },
    {
      "cell_type": "markdown",
      "metadata": {
        "id": "6IA-89RkgBlD",
        "colab_type": "text"
      },
      "source": [
        "###負相關"
      ]
    },
    {
      "cell_type": "code",
      "metadata": {
        "id": "0UGKS5vef9aN",
        "colab_type": "code",
        "colab": {
          "base_uri": "https://localhost:8080/",
          "height": 50
        },
        "outputId": "aaedb457-833a-492a-8843-c3cb81f4a7d1"
      },
      "source": [
        "x = np.random.randint(0 , 50 , 1000)\n",
        "y = -x + np.random.randint(0 , 10 , 1000)\n",
        "\n",
        "np.corrcoef(x , y)"
      ],
      "execution_count": 7,
      "outputs": [
        {
          "output_type": "execute_result",
          "data": {
            "text/plain": [
              "array([[ 1.        , -0.98169616],\n",
              "       [-0.98169616,  1.        ]])"
            ]
          },
          "metadata": {
            "tags": []
          },
          "execution_count": 7
        }
      ]
    },
    {
      "cell_type": "code",
      "metadata": {
        "id": "Zz63Y0xqemhi",
        "colab_type": "code",
        "colab": {
          "base_uri": "https://localhost:8080/",
          "height": 281
        },
        "outputId": "866ed904-82a7-4e9d-ce37-e1aa1efa2c8f"
      },
      "source": [
        "plt.scatter(x , y)"
      ],
      "execution_count": 8,
      "outputs": [
        {
          "output_type": "execute_result",
          "data": {
            "text/plain": [
              "<matplotlib.collections.PathCollection at 0x7fb9c639c780>"
            ]
          },
          "metadata": {
            "tags": []
          },
          "execution_count": 8
        },
        {
          "output_type": "display_data",
          "data": {
            "image/png": "[encoded data removed]",
            "text/plain": [
              "<Figure size 432x288 with 1 Axes>"
            ]
          },
          "metadata": {
            "tags": []
          }
        }
      ]
    }
  ]
}