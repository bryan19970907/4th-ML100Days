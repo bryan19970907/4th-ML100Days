{
  "nbformat": 4,
  "nbformat_minor": 0,
  "metadata": {
    "kernelspec": {
      "display_name": "Python 3",
      "language": "python",
      "name": "python3"
    },
    "language_info": {
      "codemirror_mode": {
        "name": "ipython",
        "version": 3
      },
      "file_extension": ".py",
      "mimetype": "text/x-python",
      "name": "python",
      "nbconvert_exporter": "python",
      "pygments_lexer": "ipython3",
      "version": "3.6.2"
    },
    "colab": {
      "name": "Day_047_HW.ipynb",
      "provenance": []
    }
  },
  "cells": [
    {
      "cell_type": "markdown",
      "metadata": {
        "id": "od0EHPL0DXWR",
        "colab_type": "text"
      },
      "source": [
        "## [作業重點]\n",
        "了解如何使用 Sklearn 中的 hyper-parameter search 找出最佳的超參數"
      ]
    },
    {
      "cell_type": "markdown",
      "metadata": {
        "id": "2Ev3Nt8vDXWV",
        "colab_type": "text"
      },
      "source": [
        "### 作業\n",
        "請使用不同的資料集，並使用 hyper-parameter search 的方式，看能不能找出最佳的超參數組合"
      ]
    },
    {
      "cell_type": "code",
      "metadata": {
        "id": "jRzxTVtSDXWX",
        "colab_type": "code",
        "colab": {}
      },
      "source": [
        "from sklearn import datasets , metrics\n",
        "from sklearn.model_selection import train_test_split  , GridSearchCV\n",
        "from sklearn.ensemble import GradientBoostingRegressor"
      ],
      "execution_count": 0,
      "outputs": []
    },
    {
      "cell_type": "code",
      "metadata": {
        "id": "98Ihq4D6EDf4",
        "colab_type": "code",
        "colab": {}
      },
      "source": [
        "diabetes_data = datasets.load_diabetes()\n",
        "\n",
        "x_train , x_test , y_train , y_test = train_test_split(diabetes_data.data , diabetes_data.target , test_size = 0.25 , random_state = 4)\n",
        "\n",
        "reg  = GradientBoostingRegressor(random_state= 42)\n",
        "\n",
        "reg.fit(x_train , y_train)\n",
        "y_pred = reg.predict(x_test)"
      ],
      "execution_count": 0,
      "outputs": []
    },
    {
      "cell_type": "code",
      "metadata": {
        "id": "MPmkmIYTFGGs",
        "colab_type": "code",
        "colab": {
          "base_uri": "https://localhost:8080/",
          "height": 33
        },
        "outputId": "f8bfaa13-5b81-442a-8f2c-7b969512ad41"
      },
      "source": [
        "mse = metrics.mean_squared_error(y_test , y_pred)\n",
        "print('mse :' , mse)"
      ],
      "execution_count": 18,
      "outputs": [
        {
          "output_type": "stream",
          "text": [
            "mse : 3470.730220610971\n"
          ],
          "name": "stdout"
        }
      ]
    },
    {
      "cell_type": "code",
      "metadata": {
        "id": "zvgWlOoDi5-Z",
        "colab_type": "code",
        "colab": {
          "base_uri": "https://localhost:8080/",
          "height": 100
        },
        "outputId": "106ca70b-3663-44e7-bf56-76bdaa8177d9"
      },
      "source": [
        "n_estimators = [100 , 200 ,300]\n",
        "max_depth = [2 , 4 , 6]\n",
        "param_grid = dict(n_estimators=n_estimators, max_depth=max_depth)\n",
        "\n",
        "#param_grid:dict or list of dictionaries\n",
        "grid_search = GridSearchCV(cv = 3 , estimator = reg , param_grid = param_grid, scoring=\"neg_mean_squared_error\", n_jobs=-1, verbose=1)\n",
        "grid_result = grid_search.fit(x_train , y_train)\n",
        "print(grid_result.best_score_)\n",
        "print(grid_result.best_params_)"
      ],
      "execution_count": 19,
      "outputs": [
        {
          "output_type": "stream",
          "text": [
            "Fitting 3 folds for each of 9 candidates, totalling 27 fits\n"
          ],
          "name": "stdout"
        },
        {
          "output_type": "stream",
          "text": [
            "[Parallel(n_jobs=-1)]: Using backend LokyBackend with 2 concurrent workers.\n"
          ],
          "name": "stderr"
        },
        {
          "output_type": "stream",
          "text": [
            "-3242.696025390031\n",
            "{'max_depth': 2, 'n_estimators': 100}\n"
          ],
          "name": "stdout"
        },
        {
          "output_type": "stream",
          "text": [
            "[Parallel(n_jobs=-1)]: Done  27 out of  27 | elapsed:    3.2s finished\n"
          ],
          "name": "stderr"
        }
      ]
    },
    {
      "cell_type": "code",
      "metadata": {
        "id": "IazkFvLSlB0t",
        "colab_type": "code",
        "colab": {}
      },
      "source": [
        "reg_best_param = GradientBoostingRegressor(n_estimators = grid_result.best_params_['n_estimators'] , max_depth = grid_result.best_params_['max_depth'])\n",
        "reg_best_param.fit(x_train , y_train)\n",
        "\n",
        "y_pred = reg_best_param.predict(x_test)"
      ],
      "execution_count": 0,
      "outputs": []
    },
    {
      "cell_type": "code",
      "metadata": {
        "id": "6BjO_AZFmqv3",
        "colab_type": "code",
        "colab": {
          "base_uri": "https://localhost:8080/",
          "height": 33
        },
        "outputId": "f514a8bd-f9db-4e26-c0e6-6c50c7fd1376"
      },
      "source": [
        "mse = metrics.mean_squared_error(y_test , y_pred)\n",
        "print('mse :' , mse)"
      ],
      "execution_count": 21,
      "outputs": [
        {
          "output_type": "stream",
          "text": [
            "mse : 3044.388747598743\n"
          ],
          "name": "stdout"
        }
      ]
    }
  ]
}